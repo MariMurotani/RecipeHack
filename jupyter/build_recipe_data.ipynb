{
 "cells": [
  {
   "cell_type": "code",
   "execution_count": 23,
   "metadata": {},
   "outputs": [],
   "source": [
    "from neo4j import GraphDatabase\n",
    "import pandas as pd\n",
    "from openai import OpenAI\n",
    "import numpy as np\n",
    "from gensim.models import Word2Vec\n",
    "from sklearn.decomposition import PCA\n",
    "import json\n",
    "from collections import Counter\n",
    "import mysql.connector\n",
    "import os\n",
    "import re\n",
    "from dotenv import load_dotenv\n",
    "load_dotenv()\n",
    "from sklearn.preprocessing import MinMaxScaler"
   ]
  },
  {
   "cell_type": "code",
   "execution_count": 24,
   "metadata": {},
   "outputs": [],
   "source": [
    "# ChatGPTを使うのでAPIキーを設定\n",
    "OPENAI_API_KEY = os.getenv(\"OPENAI_API_KEY\")\n",
    "gpt_client = OpenAI(\n",
    "    api_key=OPENAI_API_KEY\n",
    ")"
   ]
  },
  {
   "cell_type": "code",
   "execution_count": 25,
   "metadata": {},
   "outputs": [],
   "source": [
    "# ChatGPTを使って意味のある文章を生成する\n",
    "def get_gpt_result(prompt):\n",
    "    response = gpt_client.chat.completions.create(\n",
    "        model=\"gpt-3.5-turbo\",\n",
    "        messages=[{\"role\": \"user\", \"content\": prompt}]\n",
    "    )\n",
    "    return response.choices[0].message.content.strip()\n",
    "\n",
    "\n",
    "def extract_ingredient_name(text):\n",
    "    prompt = f\"\"\"\n",
    "Extract the ingredient name from the text below. Remove any quantities, units, or modifiers.\n",
    "\n",
    "Input:\n",
    "{text}\n",
    "\n",
    "Output:\n",
    "\"\"\"\n",
    "    return get_gpt_result(prompt)"
   ]
  },
  {
   "cell_type": "code",
   "execution_count": 26,
   "metadata": {},
   "outputs": [],
   "source": [
    "# テキストフォーマットの指定\n",
    "def format_text(text):\n",
    "    if text is None:\n",
    "        return \"\"\n",
    "    text = text.replace('(', '_')\n",
    "    text = text.replace(')', '_')\n",
    "    text = text.replace(\"/\", '_')\n",
    "    text = text.replace(\";\", '_')\n",
    "    text = text.replace(\":\", '_')\n",
    "    text = text.replace(\"&\", '_')\n",
    "    text = text.replace(\"[\", '')\n",
    "    text = text.replace(\"]\", '')    \n",
    "    text = text.replace('\"', '')\n",
    "    text = text.replace('<', '')\n",
    "    text = text.replace('>', '')\n",
    "    text = text.replace(', ', ',')\n",
    "    text = text.replace('.', '')\n",
    "    text = text.replace(',', '_')\n",
    "    text = text.replace('-', ' ')\n",
    "    text = text.replace(' ', '_')\n",
    "    text = text.replace('\\n', '')\n",
    "    text = text.replace('%', '')\n",
    "    text = text.replace(\"'\", '')\n",
    "    text = text.replace(\"/t\", '')\n",
    "    text = text.replace(\"\\\\\", '')\n",
    "    text = text.replace(\"é\", '')\n",
    "    text = text.replace(\"ç\", '')\n",
    "    text = text.replace(\"+\", '')\n",
    "    text = text.replace(\"`\", '')\n",
    "    text = text.replace(\"`\", '')\n",
    "    text = text.replace(\"`\", '')\n",
    "    text = text.replace(\"`\", '')\n",
    "    text = text.replace(\"ã\", '')\n",
    "    text = text.replace(\"â\", '')\n",
    "    text = text.replace(\"ƒ\", '')\n",
    "    text = text.replace(\"€\", '')\n",
    "    text = text.replace('”', '')\n",
    "    text = text.replace('`', '')\n",
    "    text = text.replace('!', '')\n",
    "    text = text.replace('|', '')\n",
    "    text = text.replace(\"\\n\", \"\")\n",
    "    text = text.replace(\"\\r\", \"\")\n",
    "    text = re.sub(r'\\s+', '', text)\n",
    "    text = text.lower()\n",
    "    return text\n",
    "\n",
    "def escape_sql_string(text):\n",
    "    text = text.rstrip(\"\\\\\")\n",
    "    return text.replace(\"'\", \"''\")"
   ]
  },
  {
   "cell_type": "code",
   "execution_count": 27,
   "metadata": {},
   "outputs": [],
   "source": [
    "# トークン化して保存する\n",
    "def tokenize_save(key_name, sentences):\n",
    "    # NumPyの配列に変換\n",
    "    tokens = []\n",
    "    for sentence in sentences:\n",
    "        if sentence is None:\n",
    "            continue\n",
    "        \n",
    "        if isinstance(sentence, list):\n",
    "            sentence = \" \".join(sentence)\n",
    "            \n",
    "        # 小文字化し、特殊文字や句読点を削除してトークン化\n",
    "        words = re.findall(r'\\b[a-zA-Z0-9_]+\\b', sentence.lower())\n",
    "        tokens.append(words)\n",
    "        \n",
    "    np_sentences = np.array(tokens, dtype=object)\n",
    "\n",
    "    # NumPyの配列をdumpして保存\n",
    "    np.save(f\"../datas/word2_vec/{key_name}.npy\", np_sentences)\n",
    "    with open(f\"../datas/word2_vec/{key_name}.txt\", 'w') as f:\n",
    "        json.dump(tokens, f)"
   ]
  },
  {
   "cell_type": "code",
   "execution_count": 28,
   "metadata": {},
   "outputs": [
    {
     "data": {
      "text/plain": [
       "'chicken broth'"
      ]
     },
     "execution_count": 28,
     "metadata": {},
     "output_type": "execute_result"
    }
   ],
   "source": [
    "extract_ingredient_name('1 (14 ounce) can chicken broth')"
   ]
  },
  {
   "cell_type": "code",
   "execution_count": 31,
   "metadata": {},
   "outputs": [],
   "source": [
    "JSON_PATH = \"../datas/html_recipes/out_jsons\"\n",
    "def get_json_files():\n",
    "    json_files = os.listdir(JSON_PATH)\n",
    "    return json_files\n",
    "\n",
    "sentences = []\n",
    "for file in get_json_files():\n",
    "    with open(f\"{JSON_PATH}/{file}\") as f:\n",
    "        data = json.load(f)\n",
    "        for item in data:\n",
    "            if not 'ingredients' in item or item['ingredients'] is None:\n",
    "                continue\n",
    "            \n",
    "            ingredients = []\n",
    "            for ingri in item['ingredients']:        \n",
    "                ingredients.append(extract_ingredient_name(ingri))\n",
    "            sentences.append(ingredients)\n",
    "    \n",
    "tokenize_save(\"out_json_receipe\", sentences)"
   ]
  },
  {
   "cell_type": "code",
   "execution_count": 39,
   "metadata": {},
   "outputs": [],
   "source": [
    "JSON_PATH = \"../datas/json_recipes/db-recipes.json\"\n",
    "sentences = []\n",
    "with open(f\"{JSON_PATH}\") as f:\n",
    "    data = json.load(f)\n",
    "    for recipe_id, item in data.items():\n",
    "        ingredients = []\n",
    "        for ingri in item['ingredients']:        \n",
    "            ingredients.append(extract_ingredient_name(ingri))\n",
    "        sentences.append(ingredients)\n",
    "    \n",
    "tokenize_save(\"json_master_recipe\", sentences)"
   ]
  },
  {
   "cell_type": "code",
   "execution_count": null,
   "metadata": {},
   "outputs": [],
   "source": []
  }
 ],
 "metadata": {
  "kernelspec": {
   "display_name": "recipe-qa-3.10",
   "language": "python",
   "name": "python3"
  },
  "language_info": {
   "codemirror_mode": {
    "name": "ipython",
    "version": 3
   },
   "file_extension": ".py",
   "mimetype": "text/x-python",
   "name": "python",
   "nbconvert_exporter": "python",
   "pygments_lexer": "ipython3",
   "version": "3.10.0"
  }
 },
 "nbformat": 4,
 "nbformat_minor": 2
}
