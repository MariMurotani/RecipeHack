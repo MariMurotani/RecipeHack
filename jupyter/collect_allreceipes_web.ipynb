{
 "cells": [
  {
   "cell_type": "code",
   "execution_count": 17,
   "metadata": {},
   "outputs": [],
   "source": [
    "import pandas as pd\n",
    "import json\n",
    "from collections import Counter\n",
    "import requests\n",
    "import os\n",
    "import time\n",
    "from libs.chrome_utils import ChromeUtils\n",
    "from urllib.parse import urlparse"
   ]
  },
  {
   "cell_type": "code",
   "execution_count": 18,
   "metadata": {},
   "outputs": [
    {
     "name": "stdout",
     "output_type": "stream",
     "text": [
      "68\n"
     ]
    }
   ],
   "source": [
    "# URL\n",
    "chrome_utils = ChromeUtils()\n",
    "\n",
    "target_json = '../datas/html_receipes/list_pages/Fruit_Recipes.json'\n",
    "out_dir = \"../datas/html_receipes/item_pages/Fruit_Recipes/\"\n",
    "\n",
    "# JSONファイルを読み込む\n",
    "with open(target_json, 'r', encoding='utf-8') as file:\n",
    "    data = json.load(file)\n",
    "\n",
    "if not os.path.exists(out_dir):\n",
    "    os.makedirs(out_dir)\n",
    "print(len(data['itemListElement']))"
   ]
  },
  {
   "cell_type": "code",
   "execution_count": 19,
   "metadata": {},
   "outputs": [],
   "source": [
    "def download_page_data(url, file_name):\n",
    "    driver = chrome_utils.initialize_driver()\n",
    "    \n",
    "    driver.get(url)\n",
    "    time.sleep(5)\n",
    "\n",
    "    # ページのHTMLを取得\n",
    "    page_html = driver.page_source\n",
    "\n",
    "    # HTMLをファイルに保存\n",
    "    with open(file_name, 'w', encoding='utf-8') as file:\n",
    "        file.write(page_html)\n",
    "\n",
    "    driver.quit()\n",
    "    time.sleep(30)    "
   ]
  },
  {
   "cell_type": "code",
   "execution_count": 20,
   "metadata": {},
   "outputs": [
    {
     "name": "stdout",
     "output_type": "stream",
     "text": [
      "../datas/html_receipes/item_pages/Chicken_Recipes/chicken-a-la-king-pot-pies-recipe-8724666.html\n",
      "../datas/html_receipes/item_pages/Chicken_Recipes/sausage-green-bean-potato-casserole-recipe-8725809.html\n",
      "../datas/html_receipes/item_pages/Chicken_Recipes/slow-cooker-chicken-pot-pie-with-biscuits-recipe-8722038.html\n",
      "../datas/html_receipes/item_pages/Chicken_Recipes/slow-cooker-creamy-lemon-herb-chicken-recipe-8711912.html\n",
      "../datas/html_receipes/item_pages/Chicken_Recipes/slow-cooker-tuscan-chicken-meatballs-with-gnocchi-recipe-8718448.html\n",
      "../datas/html_receipes/item_pages/Chicken_Recipes/peach-jalapeno-chicken-recipe-8720998.html\n",
      "../datas/html_receipes/item_pages/Chicken_Recipes/slow-cooker-buffalo-white-chicken-chili-recipe-8716950.html\n",
      "../datas/html_receipes/item_pages/Chicken_Recipes/one-pot-turmeric-chicken-and-rice-recipe-8716130.html\n",
      "../datas/html_receipes/item_pages/Chicken_Recipes/chicken-liver-pate-recipe-8715400.html\n",
      "../datas/html_receipes/item_pages/Chicken_Recipes/white-chicken-chili-pot-pie-recipe-8711649.html\n",
      "../datas/html_receipes/item_pages/Chicken_Recipes/crockpot-buffalo-chicken-chili-recipe-8710670.html\n",
      "../datas/html_receipes/item_pages/Chicken_Recipes/marry-me-chicken-pasta-bake-recipe-8707218.html\n",
      "../datas/html_receipes/item_pages/Chicken_Recipes/loaded-chicken-and-hash-brown-casserole-recipe-8710421.html\n",
      "../datas/html_receipes/item_pages/Chicken_Recipes/creamy-sun-dried-tomato-and-basil-pasta-recipe-8710283.html\n",
      "../datas/html_receipes/item_pages/Chicken_Recipes/rustic-chicken-and-dumplins-recipe-8707675.html\n",
      "../datas/html_receipes/item_pages/Chicken_Recipes/roscoes-korean-fried-chicken-recipe-8707371.html\n",
      "../datas/html_receipes/item_pages/Chicken_Recipes/roscoes-chicken-65-recipe-8707302.html\n",
      "../datas/html_receipes/item_pages/Chicken_Recipes/pizza-chicken-recipe-8660322.html\n",
      "../datas/html_receipes/item_pages/Chicken_Recipes/classic-spicy-southern-fried-chicken-recipe-8707359.html\n",
      "../datas/html_receipes/item_pages/Chicken_Recipes/chicharrones-de-pollo-recipe-8707282.html\n",
      "../datas/html_receipes/item_pages/Chicken_Recipes/air-fryer-chicken-parmesan-recipe-8698442.html\n",
      "../datas/html_receipes/item_pages/Chicken_Recipes/perfect-cast-iron-skillet-chicken-breasts-recipe-8698460.html\n",
      "../datas/html_receipes/item_pages/Chicken_Recipes/whole-roasted-chicken-recipe-8703977.html\n",
      "../datas/html_receipes/item_pages/Chicken_Recipes/poulet-au-vinaigre-chicken-with-vinegar-recipe-8705635.html\n",
      "../datas/html_receipes/item_pages/Chicken_Recipes/bbq-spatchcock-chicken-recipe-8704243.html\n",
      "../datas/html_receipes/item_pages/Chicken_Recipes/roscoe-s-chicken-adobo-recipe-8704283.html\n",
      "../datas/html_receipes/item_pages/Chicken_Recipes/twice-baked-chicken-pot-pie-potatoes-recipe-8694514.html\n",
      "../datas/html_receipes/item_pages/Chicken_Recipes/garlic-butter-chicken-bites-recipe-8694278.html\n",
      "../datas/html_receipes/item_pages/Chicken_Recipes/copycat-mcchicken-sandwich-recipe-8702751.html\n",
      "../datas/html_receipes/item_pages/Chicken_Recipes/leftover-roast-chicken-coconut-soup-recipe-8701222.html\n",
      "../datas/html_receipes/item_pages/Chicken_Recipes/chicken-fajita-skillet-casserole-recipe-8701199.html\n",
      "../datas/html_receipes/item_pages/Chicken_Recipes/chicken-spinach-alfredo-baked-stuffed-shells-recipe-8701183.html\n",
      "../datas/html_receipes/item_pages/Chicken_Recipes/chicken-piccata-meatballs-recipe-8696288.html\n",
      "../datas/html_receipes/item_pages/Chicken_Recipes/sticky-fingers-salad-recipe-8696356.html\n",
      "../datas/html_receipes/item_pages/Chicken_Recipes/baked-chicken-marinara-recipe-8686945.html\n",
      "../datas/html_receipes/item_pages/Chicken_Recipes/chicken-pot-pie-pasta-bake-recipe-8696482.html\n",
      "../datas/html_receipes/item_pages/Chicken_Recipes/baked-sweet-and-sour-chicken-recipe-8654805.html\n",
      "../datas/html_receipes/item_pages/Chicken_Recipes/easy-one-pan-ramen-chicken-alfredo-recipe-8695508.html\n",
      "../datas/html_receipes/item_pages/Chicken_Recipes/one-pan-spicy-soy-noodles-with-chicken-recipe-8693474.html\n",
      "../datas/html_receipes/item_pages/Chicken_Recipes/one-pan-lemon-garlic-parmesan-chicken-recipe-8693366.html\n",
      "../datas/html_receipes/item_pages/Chicken_Recipes/slow-cooker-loaded-chicken-and-potatoes-recipe-8678923.html\n",
      "../datas/html_receipes/item_pages/Chicken_Recipes/chicken-chalupas-recipe-8681727.html\n",
      "../datas/html_receipes/item_pages/Chicken_Recipes/copycat-panda-express-orange-chicken-recipe-8687732.html\n",
      "../datas/html_receipes/item_pages/Chicken_Recipes/garlic-parmesan-chicken-skewers-recipe-8685161.html\n",
      "../datas/html_receipes/item_pages/Chicken_Recipes/chicken-ricotta-meatballs-recipe-8683251.html\n",
      "../datas/html_receipes/item_pages/Chicken_Recipes/air-fryer-parmesan-chicken-skewers-recipe-8685185.html\n",
      "../datas/html_receipes/item_pages/Chicken_Recipes/grilled-chicken-and-peaches-recipe-8682879.html\n",
      "../datas/html_receipes/item_pages/Chicken_Recipes/chicken-koftas-recipe-8679670.html\n",
      "../datas/html_receipes/item_pages/Chicken_Recipes/zucchini-chicken-casserole-recipe-8681195.html\n",
      "../datas/html_receipes/item_pages/Chicken_Recipes/ritz-cracker-chicken-casserole-recipe-8679708.html\n",
      "../datas/html_receipes/item_pages/Chicken_Recipes/chicken-chasseur-recipe-8679017.html\n",
      "../datas/html_receipes/item_pages/Chicken_Recipes/buffalo-chicken-tater-tot-casserole-recipe-8672248.html\n",
      "../datas/html_receipes/item_pages/Chicken_Recipes/ginger-chicken-recipe-8639346.html\n",
      "../datas/html_receipes/item_pages/Chicken_Recipes/french-onion-chicken-casserole-recipe-8672221.html\n",
      "../datas/html_receipes/item_pages/Chicken_Recipes/crispy-cheesy-chicken-ranch-patties-recipe-8678264.html\n",
      "../datas/html_receipes/item_pages/Chicken_Recipes/creamy-mississippi-chicken-enchiladas-recipe-8678116.html\n",
      "../datas/html_receipes/item_pages/Chicken_Recipes/chili-bean-chicken-recipe-8676837.html\n",
      "../datas/html_receipes/item_pages/Chicken_Recipes/everything-bagel-roast-chicken-recipe-8660307.html\n",
      "../datas/html_receipes/item_pages/Chicken_Recipes/bang-bang-chicken-kebabs-recipe-8675796.html\n",
      "../datas/html_receipes/item_pages/Chicken_Recipes/bang-bang-chicken-skewers-recipe-8675636.html\n",
      "../datas/html_receipes/item_pages/Chicken_Recipes/copycat-chipotle-chicken-recipe-8676662.html\n",
      "../datas/html_receipes/item_pages/Chicken_Recipes/grilled-bang-bang-chicken-salad-recipe-8674748.html\n",
      "../datas/html_receipes/item_pages/Chicken_Recipes/feta-and-spinach-stuffed-chicken-breasts-recipe-8653824.html\n",
      "../datas/html_receipes/item_pages/Chicken_Recipes/marry-me-chicken.html\n",
      "../datas/html_receipes/item_pages/Chicken_Recipes/best-chicken-breast-recipes.html\n",
      "../datas/html_receipes/item_pages/Chicken_Recipes/best-baked-chicken-recipes.html\n",
      "../datas/html_receipes/item_pages/Chicken_Recipes/chicken-skillet-dinners.html\n",
      "../datas/html_receipes/item_pages/Chicken_Recipes/chicken-parts.html\n"
     ]
    }
   ],
   "source": [
    "for item in data['itemListElement']:\n",
    "    parsed_url = urlparse(item['url'])\n",
    "    path = parsed_url.path\n",
    "\n",
    "    # 最後のパス部分を取得\n",
    "    last_part = path.strip(\"/\").split(\"/\")[-1]\n",
    "    output_file = f'{out_dir}{last_part}.html'\n",
    "    print(output_file)\n",
    "    if not os.path.exists(output_file):\n",
    "        time.sleep(120)\n",
    "        download_page_data(item['url'], output_file)\n",
    "        "
   ]
  },
  {
   "cell_type": "markdown",
   "metadata": {},
   "source": []
  },
  {
   "cell_type": "code",
   "execution_count": null,
   "metadata": {},
   "outputs": [],
   "source": []
  },
  {
   "cell_type": "code",
   "execution_count": null,
   "metadata": {},
   "outputs": [],
   "source": []
  }
 ],
 "metadata": {
  "kernelspec": {
   "display_name": "recipe-qa-3.10",
   "language": "python",
   "name": "python3"
  },
  "language_info": {
   "codemirror_mode": {
    "name": "ipython",
    "version": 3
   },
   "file_extension": ".py",
   "mimetype": "text/x-python",
   "name": "python",
   "nbconvert_exporter": "python",
   "pygments_lexer": "ipython3",
   "version": "3.10.0"
  }
 },
 "nbformat": 4,
 "nbformat_minor": 2
}
