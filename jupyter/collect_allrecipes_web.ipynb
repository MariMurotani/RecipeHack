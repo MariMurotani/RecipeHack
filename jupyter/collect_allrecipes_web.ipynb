{
 "cells": [
  {
   "cell_type": "code",
   "execution_count": 13,
   "metadata": {},
   "outputs": [],
   "source": [
    "import pandas as pd\n",
    "import json\n",
    "from collections import Counter\n",
    "import requests\n",
    "import os\n",
    "import time\n",
    "from libs.chrome_utils import ChromeUtils\n",
    "from urllib.parse import urlparse"
   ]
  },
  {
   "cell_type": "code",
   "execution_count": 14,
   "metadata": {},
   "outputs": [
    {
     "name": "stdout",
     "output_type": "stream",
     "text": [
      "68\n"
     ]
    }
   ],
   "source": [
    "# URL\n",
    "chrome_utils = ChromeUtils()\n",
    "\n",
    "target_json = '../datas/html_recipes/list_pages/Fruit_Recipes.json'\n",
    "out_dir = \"../datas/html_recipes/item_pages/Fruit_Recipes/\"\n",
    "\n",
    "# JSONファイルを読み込む\n",
    "with open(target_json, 'r', encoding='utf-8') as file:\n",
    "    data = json.load(file)\n",
    "\n",
    "if not os.path.exists(out_dir):\n",
    "    os.makedirs(out_dir)\n",
    "print(len(data['itemListElement']))"
   ]
  },
  {
   "cell_type": "code",
   "execution_count": 15,
   "metadata": {},
   "outputs": [],
   "source": [
    "def download_page_data(url, file_name):\n",
    "    driver = chrome_utils.initialize_driver()\n",
    "    \n",
    "    driver.get(url)\n",
    "    time.sleep(5)\n",
    "\n",
    "    # ページのHTMLを取得\n",
    "    page_html = driver.page_source\n",
    "\n",
    "    # HTMLをファイルに保存\n",
    "    with open(file_name, 'w', encoding='utf-8') as file:\n",
    "        file.write(page_html)\n",
    "\n",
    "    driver.quit()\n",
    "    time.sleep(30)    "
   ]
  },
  {
   "cell_type": "code",
   "execution_count": 16,
   "metadata": {},
   "outputs": [
    {
     "name": "stdout",
     "output_type": "stream",
     "text": [
      "../datas/html_recipes/item_pages/Fruit_Recipes/smoked-mackerel-beets-apples-and-bread-crisps-recipe-8722324.html\n",
      "../datas/html_recipes/item_pages/Fruit_Recipes/broccoli-crunch-salad-recipe-8725179.html\n",
      "../datas/html_recipes/item_pages/Fruit_Recipes/copycat-orange-julius-recipe-8724358.html\n",
      "../datas/html_recipes/item_pages/Fruit_Recipes/mango-shrimp-ceviche-recipe-8724391.html\n",
      "../datas/html_recipes/item_pages/Fruit_Recipes/pomegranate-mocktail-recipe-8724011.html\n",
      "../datas/html_recipes/item_pages/Fruit_Recipes/bloomin-apple-recipe-8703606.html\n",
      "../datas/html_recipes/item_pages/Fruit_Recipes/salted-grapefruit-fizz-recipe-8717911.html\n",
      "../datas/html_recipes/item_pages/Fruit_Recipes/honey-chamomile-prosecco-cocktail-recipe-8717918.html\n",
      "../datas/html_recipes/item_pages/Fruit_Recipes/modern-watergate-salad-recipe-8719303.html\n",
      "../datas/html_recipes/item_pages/Fruit_Recipes/slow-cooker-creamy-lemon-herb-chicken-recipe-8711912.html\n",
      "../datas/html_recipes/item_pages/Fruit_Recipes/green-apple-martini-recipe-8721476.html\n",
      "../datas/html_recipes/item_pages/Fruit_Recipes/pomegranate-pistachio-crostini-recipe-8721396.html\n",
      "../datas/html_recipes/item_pages/Fruit_Recipes/peach-jalapeno-chicken-recipe-8720998.html\n",
      "../datas/html_recipes/item_pages/Fruit_Recipes/apple-pecan-salad-recipe-8720990.html\n",
      "../datas/html_recipes/item_pages/Fruit_Recipes/caramel-apple-cheesecake-salad-recipe-8718418.html\n",
      "../datas/html_recipes/item_pages/Fruit_Recipes/apple-cider-cookies-recipe-8707059.html\n",
      "../datas/html_recipes/item_pages/Fruit_Recipes/lemon-caper-pasta-recipe-8717141.html\n",
      "../datas/html_recipes/item_pages/Fruit_Recipes/easy-caramel-apple-crisp-pie-recipe-8716995.html\n",
      "../datas/html_recipes/item_pages/Fruit_Recipes/blackberry-margarita-recipe-8717118.html\n",
      "../datas/html_recipes/item_pages/Fruit_Recipes/coconut-curry-salmon-with-broccoli-recipe-8715339.html\n",
      "../datas/html_recipes/item_pages/Fruit_Recipes/apple-butter-meatballs-recipe-8714730.html\n",
      "../datas/html_recipes/item_pages/Fruit_Recipes/ritz-seven-layer-bars-recipe-8714820.html\n",
      "../datas/html_recipes/item_pages/Fruit_Recipes/apple-fritter-cake-recipe-8714690.html\n",
      "../datas/html_recipes/item_pages/Fruit_Recipes/apple-pie-egg-rolls-recipe-8710442.html\n",
      "../datas/html_recipes/item_pages/Fruit_Recipes/caramel-apple-cheesecake-dip-recipe-8712541.html\n",
      "../datas/html_recipes/item_pages/Fruit_Recipes/caramel-apple-overnight-oats-recipe-8706324.html\n",
      "../datas/html_recipes/item_pages/Fruit_Recipes/crushed-pineapple-upside-down-cake-recipe-8711613.html\n",
      "../datas/html_recipes/item_pages/Fruit_Recipes/apple-sausage-gravy-dumplings-recipe-8714162.html\n",
      "../datas/html_recipes/item_pages/Fruit_Recipes/apple-butter-cheesecake-bars-recipe-8707173.html\n",
      "../datas/html_recipes/item_pages/Fruit_Recipes/nicole-s-jalapeno-cranberry-cream-cheese-dip-recipe-8712501.html\n",
      "../datas/html_recipes/item_pages/Fruit_Recipes/mamas-banana-pudding-recipe-8707679.html\n",
      "../datas/html_recipes/item_pages/Fruit_Recipes/apple-pie-tiramisu-recipe-8707070.html\n",
      "../datas/html_recipes/item_pages/Fruit_Recipes/4-ingredient-banana-bread-recipe-8707031.html\n",
      "../datas/html_recipes/item_pages/Fruit_Recipes/apple-cheddar-twists-recipe-8709986.html\n",
      "../datas/html_recipes/item_pages/Fruit_Recipes/frozen-tajin-grapes-recipe-8709027.html\n",
      "../datas/html_recipes/item_pages/Fruit_Recipes/coconut-curry-ramen-recipe-8705420.html\n",
      "../datas/html_recipes/item_pages/Fruit_Recipes/plum-almond-upside-down-cake-recipe-8708770.html\n",
      "../datas/html_recipes/item_pages/Fruit_Recipes/pork-scallopini-recipe-8686741.html\n",
      "../datas/html_recipes/item_pages/Fruit_Recipes/chicharrones-de-pollo-recipe-8707282.html\n",
      "../datas/html_recipes/item_pages/Fruit_Recipes/lemon-poppy-seed-pancakes-recipe-8706892.html\n",
      "../datas/html_recipes/item_pages/Fruit_Recipes/preserved-lemon-blueberry-pie-recipe-8702870.html\n",
      "../datas/html_recipes/item_pages/Fruit_Recipes/sweet-tea-peaches-recipe-8703619.html\n",
      "../datas/html_recipes/item_pages/Fruit_Recipes/atlantic-beach-pie-recipe-8685509.html\n",
      "../datas/html_recipes/item_pages/Fruit_Recipes/nectarine-blueberry-cobbler-recipe-8702250.html\n",
      "../datas/html_recipes/item_pages/Fruit_Recipes/applesauce-muffins-recipe-8702299.html\n",
      "../datas/html_recipes/item_pages/Fruit_Recipes/plum-muffins-recipe-8702026.html\n",
      "../datas/html_recipes/item_pages/Fruit_Recipes/creamy-no-bake-peach-tart-recipe-8701686.html\n",
      "../datas/html_recipes/item_pages/Fruit_Recipes/frozen-limoncello-recipe-8701172.html\n",
      "../datas/html_recipes/item_pages/Fruit_Recipes/leftover-roast-chicken-coconut-soup-recipe-8701222.html\n",
      "../datas/html_recipes/item_pages/Fruit_Recipes/peach-quinoa-salad-recipe-8699665.html\n",
      "../datas/html_recipes/item_pages/Fruit_Recipes/watermelon-carpaccio-recipe-8699658.html\n",
      "../datas/html_recipes/item_pages/Fruit_Recipes/nectarine-cobbler-recipe-8698923.html\n",
      "../datas/html_recipes/item_pages/Fruit_Recipes/plum-streusel-muffins-recipe-8698288.html\n",
      "../datas/html_recipes/item_pages/Fruit_Recipes/baked-sweet-and-sour-chicken-recipe-8654805.html\n",
      "../datas/html_recipes/item_pages/Fruit_Recipes/blackberry-cheesecake-brownies-recipe-8693993.html\n",
      "../datas/html_recipes/item_pages/Fruit_Recipes/lemon-fluff-snack-cake-recipe-8692247.html\n",
      "../datas/html_recipes/item_pages/Fruit_Recipes/berries-and-cream-bars-recipe-8691436.html\n",
      "../datas/html_recipes/item_pages/Fruit_Recipes/blackberry-mojito-recipe-8693937.html\n",
      "../datas/html_recipes/item_pages/Fruit_Recipes/coconut-dream-snack-cake-recipe-8692215.html\n",
      "../datas/html_recipes/item_pages/Fruit_Recipes/banoffee-snack-cake-recipe-8691422.html\n",
      "../datas/html_recipes/item_pages/Fruit_Recipes/baked-turkey-curry-empanadas-recipe-8690079.html\n",
      "../datas/html_recipes/item_pages/Fruit_Recipes/apple-spice-rolls-recipe-8690218.html\n",
      "../datas/html_recipes/item_pages/Fruit_Recipes/copycat-panda-express-orange-chicken-recipe-8687732.html\n",
      "../datas/html_recipes/item_pages/Fruit_Recipes/summer-fruit-recipes-8679551.html\n",
      "../datas/html_recipes/item_pages/Fruit_Recipes/favorite-fresh-plum-recipes.html\n",
      "../datas/html_recipes/item_pages/Fruit_Recipes/frozen-blueberry-recipes.html\n",
      "../datas/html_recipes/item_pages/Fruit_Recipes/summer-peach-salsa-recipes.html\n",
      "../datas/html_recipes/item_pages/Fruit_Recipes/frozen-fruit-desserts.html\n"
     ]
    }
   ],
   "source": [
    "for item in data['itemListElement']:\n",
    "    parsed_url = urlparse(item['url'])\n",
    "    path = parsed_url.path\n",
    "\n",
    "    # 最後のパス部分を取得\n",
    "    last_part = path.strip(\"/\").split(\"/\")[-1]\n",
    "    output_file = f'{out_dir}{last_part}.html'\n",
    "    print(output_file)\n",
    "    if not os.path.exists(output_file):\n",
    "        time.sleep(120)\n",
    "        download_page_data(item['url'], output_file)\n",
    "        "
   ]
  },
  {
   "cell_type": "markdown",
   "metadata": {},
   "source": []
  },
  {
   "cell_type": "code",
   "execution_count": null,
   "metadata": {},
   "outputs": [],
   "source": []
  },
  {
   "cell_type": "code",
   "execution_count": null,
   "metadata": {},
   "outputs": [],
   "source": []
  }
 ],
 "metadata": {
  "kernelspec": {
   "display_name": "recipe-qa-3.10",
   "language": "python",
   "name": "python3"
  },
  "language_info": {
   "codemirror_mode": {
    "name": "ipython",
    "version": 3
   },
   "file_extension": ".py",
   "mimetype": "text/x-python",
   "name": "python",
   "nbconvert_exporter": "python",
   "pygments_lexer": "ipython3",
   "version": "3.10.0"
  }
 },
 "nbformat": 4,
 "nbformat_minor": 2
}
