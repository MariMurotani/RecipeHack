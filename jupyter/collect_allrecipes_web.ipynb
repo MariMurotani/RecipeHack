{
 "cells": [
  {
   "cell_type": "code",
   "execution_count": 37,
   "metadata": {},
   "outputs": [],
   "source": [
    "import pandas as pd\n",
    "import json\n",
    "from collections import Counter\n",
    "import requests\n",
    "import os\n",
    "import time\n",
    "from libs.chrome_utils import ChromeUtils\n",
    "from urllib.parse import urlparse"
   ]
  },
  {
   "cell_type": "code",
   "execution_count": 38,
   "metadata": {},
   "outputs": [
    {
     "name": "stdout",
     "output_type": "stream",
     "text": [
      "68\n"
     ]
    }
   ],
   "source": [
    "# URL\n",
    "chrome_utils = ChromeUtils()\n",
    "\n",
    "target_json = '../datas/html_recipes/list_pages/Pork_Recipes.json'\n",
    "out_dir = \"../datas/html_recipes/item_pages/Pork_Recipes/\"\n",
    "\n",
    "# JSONファイルを読み込む\n",
    "with open(target_json, 'r', encoding='utf-8') as file:\n",
    "    data = json.load(file)\n",
    "\n",
    "if not os.path.exists(out_dir):\n",
    "    os.makedirs(out_dir)\n",
    "print(len(data['itemListElement']))"
   ]
  },
  {
   "cell_type": "code",
   "execution_count": 39,
   "metadata": {},
   "outputs": [],
   "source": [
    "def download_page_data(url, file_name):\n",
    "    driver = chrome_utils.initialize_driver()\n",
    "    \n",
    "    driver.get(url)\n",
    "    time.sleep(5)\n",
    "\n",
    "    # ページのHTMLを取得\n",
    "    page_html = driver.page_source\n",
    "\n",
    "    # HTMLをファイルに保存\n",
    "    with open(file_name, 'w', encoding='utf-8') as file:\n",
    "        file.write(page_html)\n",
    "\n",
    "    driver.quit()\n",
    "    time.sleep(30)    "
   ]
  },
  {
   "cell_type": "code",
   "execution_count": 40,
   "metadata": {},
   "outputs": [
    {
     "name": "stdout",
     "output_type": "stream",
     "text": [
      "../datas/html_recipes/item_pages/Pork_Recipes/broccoli-crunch-salad-recipe-8725179.html\n",
      "../datas/html_recipes/item_pages/Pork_Recipes/marry-me-gnocchi-recipe-8723939.html\n",
      "../datas/html_recipes/item_pages/Pork_Recipes/bacon-fried-cabbage-recipe-8720967.html\n",
      "../datas/html_recipes/item_pages/Pork_Recipes/most-saved-air-fryer-recipe-8721947.html\n",
      "../datas/html_recipes/item_pages/Pork_Recipes/pulled-pork-casserole-recipe-8719329.html\n",
      "../datas/html_recipes/item_pages/Pork_Recipes/croque-monsieur-casserole-recipe-8714012.html\n",
      "../datas/html_recipes/item_pages/Pork_Recipes/fried-pork-chop.html\n",
      "../datas/html_recipes/item_pages/Pork_Recipes/stuffed-mushroom-dip-recipe-8706348.html\n",
      "../datas/html_recipes/item_pages/Pork_Recipes/apple-butter-meatballs-recipe-8714730.html\n",
      "../datas/html_recipes/item_pages/Pork_Recipes/giant-lazy-meatballs-recipe-8715240.html\n",
      "../datas/html_recipes/item_pages/Pork_Recipes/apple-sausage-gravy-dumplings-recipe-8714162.html\n",
      "../datas/html_recipes/item_pages/Pork_Recipes/doritos-sausage-balls-recipe-8710712.html\n",
      "../datas/html_recipes/item_pages/Pork_Recipes/pork-chops-with-hatch-green-chili-sauce-8705104.html\n",
      "../datas/html_recipes/item_pages/Pork_Recipes/the-labor-day-burger.html\n",
      "../datas/html_recipes/item_pages/Pork_Recipes/fresh-tomato-curry-recipe-8690957.html\n",
      "../datas/html_recipes/item_pages/Pork_Recipes/dallas-layered-salad-recipe-8683033.html\n",
      "../datas/html_recipes/item_pages/Pork_Recipes/one-pan-pasta-with-bacon-and-peas-recipe-8685505.html\n",
      "../datas/html_recipes/item_pages/Pork_Recipes/the-ultimate-croissant-sandwich-recipe-8680045.html\n",
      "../datas/html_recipes/item_pages/Pork_Recipes/prosciutto-plum-focaccia-recipe-8682374.html\n",
      "../datas/html_recipes/item_pages/Pork_Recipes/jalapeno-popper-potato-salad-recipe-8682267.html\n",
      "../datas/html_recipes/item_pages/Pork_Recipes/shrimp-and-bacon-pasta-salad-recipe-8676347.html\n",
      "../datas/html_recipes/item_pages/Pork_Recipes/bacon-stuffed-french-toast-sliders-recipe-8674932.html\n",
      "../datas/html_recipes/item_pages/Pork_Recipes/strawberry-balsamic-pork-chops-recipe-8671638.html\n",
      "../datas/html_recipes/item_pages/Pork_Recipes/summer-meat-slaw-recipe-8666307.html\n",
      "../datas/html_recipes/item_pages/Pork_Recipes/lacinato-kale-salad-with-warm-bacon-vinaigrette-recipe-8664970.html\n",
      "../datas/html_recipes/item_pages/Pork_Recipes/ground-pork-tacos-with-pineapple-salsa-recipe-8642408.html\n",
      "../datas/html_recipes/item_pages/Pork_Recipes/hawaiian-style-kalua-pork-recipe-8661977.html\n",
      "../datas/html_recipes/item_pages/Pork_Recipes/bloody-mary-pork-tacos-recipe-8661548.html\n",
      "../datas/html_recipes/item_pages/Pork_Recipes/chicken-bacon-ranch-tacos-recipe-8658300.html\n",
      "../datas/html_recipes/item_pages/Pork_Recipes/pork-chop-stir-fry-recipe-8647029.html\n",
      "../datas/html_recipes/item_pages/Pork_Recipes/spicy-sausage-pasta-bake-recipe-8658180.html\n",
      "../datas/html_recipes/item_pages/Pork_Recipes/dill-pickle-pasta-salad-recipe-8655927.html\n",
      "../datas/html_recipes/item_pages/Pork_Recipes/southern-butter-beans-recipe-8630469.html\n",
      "../datas/html_recipes/item_pages/Pork_Recipes/copycat-charleston-cheese-dip-8639015.html\n",
      "../datas/html_recipes/item_pages/Pork_Recipes/cowboy-spaghetti-recipe-8634556.html\n",
      "../datas/html_recipes/item_pages/Pork_Recipes/chicken-fried-bacon-recipe-8633454.html\n",
      "../datas/html_recipes/item_pages/Pork_Recipes/best-ever-cuban-sandwich-8631469.html\n",
      "../datas/html_recipes/item_pages/Pork_Recipes/crispy-slow-cooker-carnitas-recipe-8628927.html\n",
      "../datas/html_recipes/item_pages/Pork_Recipes/calico-beans.html\n",
      "../datas/html_recipes/item_pages/Pork_Recipes/chili-bacon-cinnamon-rolls-recipe-8605019.html\n",
      "../datas/html_recipes/item_pages/Pork_Recipes/ronto-wrap-recipe-8604081.html\n",
      "../datas/html_recipes/item_pages/Pork_Recipes/skillet-pork-chops-with-mushroom-gravy-recipe-8603915.html\n",
      "../datas/html_recipes/item_pages/Pork_Recipes/lazy-wonton-soup-recipe-8604015.html\n",
      "../datas/html_recipes/item_pages/Pork_Recipes/loaded-waffle-fries-recipe-8551264.html\n",
      "../datas/html_recipes/item_pages/Pork_Recipes/cheesy-bacon-slider-bake.html\n",
      "../datas/html_recipes/item_pages/Pork_Recipes/roasted-pork-chops-with-zucchini-recipe-8431789.html\n",
      "../datas/html_recipes/item_pages/Pork_Recipes/grilled-bacon-pizza-recipe-8391436.html\n",
      "../datas/html_recipes/item_pages/Pork_Recipes/sweet-potato-boats-with-bacon-apples-and-cheddar-recipe-7971823.html\n",
      "../datas/html_recipes/item_pages/Pork_Recipes/slow-cooker-posole.html\n",
      "../datas/html_recipes/item_pages/Pork_Recipes/hash-brown-and-bacon-omelet-cups-recipe-7567917.html\n",
      "../datas/html_recipes/item_pages/Pork_Recipes/tex-mex-pork-chops-and-rice-skillet-recipe-7567945.html\n",
      "../datas/html_recipes/item_pages/Pork_Recipes/jalapeno-popper-pig-shots-recipe-7563404.html\n",
      "../datas/html_recipes/item_pages/Pork_Recipes/cherry-cola-ribs-recipe-7547750.html\n",
      "../datas/html_recipes/item_pages/Pork_Recipes/garlic-and-citrus-mojo-pork-recipe-7509604.html\n",
      "../datas/html_recipes/item_pages/Pork_Recipes/the-best-easy-pork-tenderloin-recipe-7485158.html\n",
      "../datas/html_recipes/item_pages/Pork_Recipes/internal-temperature-for-pork-chops-7494983.html\n",
      "../datas/html_recipes/item_pages/Pork_Recipes/sheet-balsamic-pork-tenderloin-with-rainbow-vegetables.html\n",
      "../datas/html_recipes/item_pages/Pork_Recipes/pork-tenderloin-with-peaches.html\n",
      "../datas/html_recipes/item_pages/Pork_Recipes/air-fryer-pork-tenderloin-with-sweet-potatoes.html\n",
      "../datas/html_recipes/item_pages/Pork_Recipes/bacon-garlic-green-beans.html\n",
      "../datas/html_recipes/item_pages/Pork_Recipes/sous-vide-maple-chipotle-bbq-pork-chops.html\n",
      "../datas/html_recipes/item_pages/Pork_Recipes/balsamic-braised-pork-tenderloins-with-fresh-figs.html\n",
      "../datas/html_recipes/item_pages/Pork_Recipes/bacon-wrapped-cherries.html\n",
      "../datas/html_recipes/item_pages/Pork_Recipes/air-fryer-pork-chop-recipes.html\n",
      "../datas/html_recipes/item_pages/Pork_Recipes/best-pork-tenderloin-recipes.html\n",
      "../datas/html_recipes/item_pages/Pork_Recipes/easy-one-dish-pork-chop-dinners.html\n",
      "../datas/html_recipes/item_pages/Pork_Recipes/30-minute-pork-recipes-8710475.html\n",
      "../datas/html_recipes/item_pages/Pork_Recipes/chef-johns-best-pork-tenderloin-recipes.html\n"
     ]
    }
   ],
   "source": [
    "for item in data['itemListElement']:\n",
    "    parsed_url = urlparse(item['url'])\n",
    "    path = parsed_url.path\n",
    "\n",
    "    # 最後のパス部分を取得\n",
    "    last_part = path.strip(\"/\").split(\"/\")[-1]\n",
    "    output_file = f'{out_dir}{last_part}.html'\n",
    "    print(output_file)\n",
    "    if not os.path.exists(output_file):\n",
    "        time.sleep(120)\n",
    "        download_page_data(item['url'], output_file)\n",
    "        "
   ]
  },
  {
   "cell_type": "markdown",
   "metadata": {},
   "source": []
  },
  {
   "cell_type": "code",
   "execution_count": null,
   "metadata": {},
   "outputs": [],
   "source": []
  },
  {
   "cell_type": "code",
   "execution_count": null,
   "metadata": {},
   "outputs": [],
   "source": []
  }
 ],
 "metadata": {
  "kernelspec": {
   "display_name": "recipe-qa-3.10",
   "language": "python",
   "name": "python3"
  },
  "language_info": {
   "codemirror_mode": {
    "name": "ipython",
    "version": 3
   },
   "file_extension": ".py",
   "mimetype": "text/x-python",
   "name": "python",
   "nbconvert_exporter": "python",
   "pygments_lexer": "ipython3",
   "version": "3.10.0"
  }
 },
 "nbformat": 4,
 "nbformat_minor": 2
}
