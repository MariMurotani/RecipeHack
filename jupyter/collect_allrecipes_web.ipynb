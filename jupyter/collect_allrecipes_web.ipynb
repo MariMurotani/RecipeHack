{
 "cells": [
  {
   "cell_type": "code",
   "execution_count": 45,
   "metadata": {},
   "outputs": [],
   "source": [
    "import pandas as pd\n",
    "import json\n",
    "from collections import Counter\n",
    "import requests\n",
    "import os\n",
    "import time\n",
    "from libs.chrome_utils import ChromeUtils\n",
    "from urllib.parse import urlparse"
   ]
  },
  {
   "cell_type": "code",
   "execution_count": 46,
   "metadata": {},
   "outputs": [
    {
     "name": "stdout",
     "output_type": "stream",
     "text": [
      "68\n"
     ]
    }
   ],
   "source": [
    "# URL\n",
    "chrome_utils = ChromeUtils()\n",
    "\n",
    "target_json = '../datas/html_recipes/list_pages/Vegetable_Recipes.json'\n",
    "out_dir = \"../datas/html_recipes/item_pages/Vegetable_Recipes/\"\n",
    "\n",
    "# JSONファイルを読み込む\n",
    "with open(target_json, 'r', encoding='utf-8') as file:\n",
    "    data = json.load(file)\n",
    "\n",
    "if not os.path.exists(out_dir):\n",
    "    os.makedirs(out_dir)\n",
    "print(len(data['itemListElement']))"
   ]
  },
  {
   "cell_type": "code",
   "execution_count": 47,
   "metadata": {},
   "outputs": [],
   "source": [
    "def download_page_data(url, file_name):\n",
    "    driver = chrome_utils.initialize_driver()\n",
    "    \n",
    "    driver.get(url)\n",
    "    time.sleep(5)\n",
    "\n",
    "    # ページのHTMLを取得\n",
    "    page_html = driver.page_source\n",
    "\n",
    "    # HTMLをファイルに保存\n",
    "    with open(file_name, 'w', encoding='utf-8') as file:\n",
    "        file.write(page_html)\n",
    "\n",
    "    driver.quit()\n",
    "    time.sleep(30)    "
   ]
  },
  {
   "cell_type": "code",
   "execution_count": 48,
   "metadata": {},
   "outputs": [
    {
     "name": "stdout",
     "output_type": "stream",
     "text": [
      "../datas/html_recipes/item_pages/Vegetable_Recipes/smoked-mackerel-beets-apples-and-bread-crisps-recipe-8722324.html\n",
      "../datas/html_recipes/item_pages/Vegetable_Recipes/smashed-sambal-broccoli-recipe-8722327.html\n",
      "../datas/html_recipes/item_pages/Vegetable_Recipes/pancetta-and-romano-potato-croquettes-recipe-8724753.html\n",
      "../datas/html_recipes/item_pages/Vegetable_Recipes/broccoli-crunch-salad-recipe-8725179.html\n",
      "../datas/html_recipes/item_pages/Vegetable_Recipes/sausage-green-bean-potato-casserole-recipe-8725809.html\n",
      "../datas/html_recipes/item_pages/Vegetable_Recipes/butternut-squash-chili-recipe-8725719.html\n",
      "../datas/html_recipes/item_pages/Vegetable_Recipes/caramelized-onion-and-roasted-garlic-pasta-recipe-8724725.html\n",
      "../datas/html_recipes/item_pages/Vegetable_Recipes/roasted-cauliflower-steaks-with-chimichurri-recipe-8722763.html\n",
      "../datas/html_recipes/item_pages/Vegetable_Recipes/harvest-salmon-bowls-recipe-8724265.html\n",
      "../datas/html_recipes/item_pages/Vegetable_Recipes/copycat-trader-joes-butternut-squash-mac-and-cheese-recipe-8717042.html\n",
      "../datas/html_recipes/item_pages/Vegetable_Recipes/marry-me-gnocchi-recipe-8723939.html\n",
      "../datas/html_recipes/item_pages/Vegetable_Recipes/slow-cooker-chicken-pot-pie-with-biscuits-recipe-8722038.html\n",
      "../datas/html_recipes/item_pages/Vegetable_Recipes/celery-cordial-recipe-8657425.html\n",
      "../datas/html_recipes/item_pages/Vegetable_Recipes/easy-spoon-bread-recipe-8720980.html\n",
      "../datas/html_recipes/item_pages/Vegetable_Recipes/bacon-fried-cabbage-recipe-8720967.html\n",
      "../datas/html_recipes/item_pages/Vegetable_Recipes/broccoli-caesar-salad-recipe-8720974.html\n",
      "../datas/html_recipes/item_pages/Vegetable_Recipes/carrot-halwa-recipe-8720976.html\n",
      "../datas/html_recipes/item_pages/Vegetable_Recipes/baked-pumpkin-polenta-recipe-8722412.html\n",
      "../datas/html_recipes/item_pages/Vegetable_Recipes/easy-pumpkin-spice-coffee-creamer-recipe-8722939.html\n",
      "../datas/html_recipes/item_pages/Vegetable_Recipes/shiitake-mushroom-stir-fry-recipe-8722745.html\n",
      "../datas/html_recipes/item_pages/Vegetable_Recipes/creamy-sausage-tortellini-soup-recipe-8722710.html\n",
      "../datas/html_recipes/item_pages/Vegetable_Recipes/copycat-chuy-s-creamy-jalapeno-ranch-dip-recipe-8710491.html\n",
      "../datas/html_recipes/item_pages/Vegetable_Recipes/slow-cooker-tuscan-chicken-meatballs-with-gnocchi-recipe-8718448.html\n",
      "../datas/html_recipes/item_pages/Vegetable_Recipes/peach-jalapeno-chicken-recipe-8720998.html\n",
      "../datas/html_recipes/item_pages/Vegetable_Recipes/cowboy-soup-recipe-8720981.html\n",
      "../datas/html_recipes/item_pages/Vegetable_Recipes/apple-pecan-salad-recipe-8720990.html\n",
      "../datas/html_recipes/item_pages/Vegetable_Recipes/jalapeno-popper-chicken-casserole-recipe-8719342.html\n",
      "../datas/html_recipes/item_pages/Vegetable_Recipes/pulled-pork-casserole-recipe-8719329.html\n",
      "../datas/html_recipes/item_pages/Vegetable_Recipes/short-ribs-pizzaiola-recipe-8720220.html\n",
      "../datas/html_recipes/item_pages/Vegetable_Recipes/sheet-pan-general-tso-s-chicken-and-broccoli-recipe-8715504.html\n",
      "../datas/html_recipes/item_pages/Vegetable_Recipes/ground-turkey-and-vegetable-stir-fry-recipe-8708979.html\n",
      "../datas/html_recipes/item_pages/Vegetable_Recipes/antipasti-garlic-bread-recipe-8716000.html\n",
      "../datas/html_recipes/item_pages/Vegetable_Recipes/one-pot-beef-ramen-noodles-recipe-8703840.html\n",
      "../datas/html_recipes/item_pages/Vegetable_Recipes/coconut-curry-salmon-with-broccoli-recipe-8715339.html\n",
      "../datas/html_recipes/item_pages/Vegetable_Recipes/creamy-garlic-butter-chicken-bites-recipe-8715434.html\n",
      "../datas/html_recipes/item_pages/Vegetable_Recipes/marry-me-chicken-pasta-bake-recipe-8707218.html\n",
      "../datas/html_recipes/item_pages/Vegetable_Recipes/the-real-copycat-panera-broccoli-cheddar-soup-recipe-8713988.html\n",
      "../datas/html_recipes/item_pages/Vegetable_Recipes/nicole-s-jalapeno-cranberry-cream-cheese-dip-recipe-8712501.html\n",
      "../datas/html_recipes/item_pages/Vegetable_Recipes/loaded-corn-pudding-recipe-8710915.html\n",
      "../datas/html_recipes/item_pages/Vegetable_Recipes/jiffy-jalapeno-cheese-cornbread-muffins-recipe-8711179.html\n",
      "../datas/html_recipes/item_pages/Vegetable_Recipes/loaded-chicken-and-hash-brown-casserole-recipe-8710421.html\n",
      "../datas/html_recipes/item_pages/Vegetable_Recipes/crockpot-lasagna-soup-recipe-8698429.html\n",
      "../datas/html_recipes/item_pages/Vegetable_Recipes/creamy-caramelized-onion-pasta-recipe-8710600.html\n",
      "../datas/html_recipes/item_pages/Vegetable_Recipes/creamy-sun-dried-tomato-and-basil-pasta-recipe-8710283.html\n",
      "../datas/html_recipes/item_pages/Vegetable_Recipes/cucumber-feta-couscous-salad-recipe-8710341.html\n",
      "../datas/html_recipes/item_pages/Vegetable_Recipes/million-dollar-potato-casserole-recipe-8710394.html\n",
      "../datas/html_recipes/item_pages/Vegetable_Recipes/low-country-shrimp-and-potato-salad-recipe-8707208.html\n",
      "../datas/html_recipes/item_pages/Vegetable_Recipes/slaw-of-many-colors-recipe-8707151.html\n",
      "../datas/html_recipes/item_pages/Vegetable_Recipes/pork-chops-with-hatch-green-chili-sauce-8705104.html\n",
      "../datas/html_recipes/item_pages/Vegetable_Recipes/copycat-din-tai-fung-cucumber-salad-recipe-8705202.html\n",
      "../datas/html_recipes/item_pages/Vegetable_Recipes/copycat-cracker-barrel-hash-brown-casserole-shepherds-pie-recipe-8706205.html\n",
      "../datas/html_recipes/item_pages/Vegetable_Recipes/butter-beans-alla-vodka-recipe-8660103.html\n",
      "../datas/html_recipes/item_pages/Vegetable_Recipes/mignonette-sauce-recipe-8705735.html\n",
      "../datas/html_recipes/item_pages/Vegetable_Recipes/caprese-garlic-bread-recipe-8705713.html\n",
      "../datas/html_recipes/item_pages/Vegetable_Recipes/spicy-vegetable-beef-udon-noodles-recipe-8705283.html\n",
      "../datas/html_recipes/item_pages/Vegetable_Recipes/ground-beef-stuffed-zucchini-recipe-8706121.html\n",
      "../datas/html_recipes/item_pages/Vegetable_Recipes/creamy-everything-bagel-cucumber-salad-recipe-8706266.html\n",
      "../datas/html_recipes/item_pages/Vegetable_Recipes/grilled-halibut-foil-packs-recipe-8705119.html\n",
      "../datas/html_recipes/item_pages/Vegetable_Recipes/loaded-sriracha-fries-recipe-8705697.html\n",
      "../datas/html_recipes/item_pages/Vegetable_Recipes/garlic-dinner-rolls-recipe-8698270.html\n",
      "../datas/html_recipes/item_pages/Vegetable_Recipes/garlic-butter-chicken-bites-recipe-8694278.html\n",
      "../datas/html_recipes/item_pages/Vegetable_Recipes/zhug-cauliflower-recipe-8702724.html\n",
      "../datas/html_recipes/item_pages/Vegetable_Recipes/rajas-con-crema-recipe-8702355.html\n",
      "../datas/html_recipes/item_pages/Vegetable_Recipes/grilled-vegetables.html\n",
      "../datas/html_recipes/item_pages/Vegetable_Recipes/cheesy-zucchini-recipes-8685753.html\n",
      "../datas/html_recipes/item_pages/Vegetable_Recipes/cucumber-salad-recipes.html\n",
      "../datas/html_recipes/item_pages/Vegetable_Recipes/elote-recipes.html\n",
      "../datas/html_recipes/item_pages/Vegetable_Recipes/world-recipes-for-fresh-tomatoes.html\n"
     ]
    }
   ],
   "source": [
    "for item in data['itemListElement']:\n",
    "    parsed_url = urlparse(item['url'])\n",
    "    path = parsed_url.path\n",
    "\n",
    "    # 最後のパス部分を取得\n",
    "    last_part = path.strip(\"/\").split(\"/\")[-1]\n",
    "    output_file = f'{out_dir}{last_part}.html'\n",
    "    print(output_file)\n",
    "    if not os.path.exists(output_file):\n",
    "        time.sleep(120)\n",
    "        download_page_data(item['url'], output_file)\n",
    "        "
   ]
  },
  {
   "cell_type": "markdown",
   "metadata": {},
   "source": []
  },
  {
   "cell_type": "code",
   "execution_count": null,
   "metadata": {},
   "outputs": [],
   "source": []
  },
  {
   "cell_type": "code",
   "execution_count": null,
   "metadata": {},
   "outputs": [],
   "source": []
  }
 ],
 "metadata": {
  "kernelspec": {
   "display_name": "recipe-qa-3.10",
   "language": "python",
   "name": "python3"
  },
  "language_info": {
   "codemirror_mode": {
    "name": "ipython",
    "version": 3
   },
   "file_extension": ".py",
   "mimetype": "text/x-python",
   "name": "python",
   "nbconvert_exporter": "python",
   "pygments_lexer": "ipython3",
   "version": "3.10.0"
  }
 },
 "nbformat": 4,
 "nbformat_minor": 2
}
