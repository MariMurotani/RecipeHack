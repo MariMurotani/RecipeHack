{
 "cells": [
  {
   "cell_type": "code",
   "execution_count": 17,
   "metadata": {},
   "outputs": [],
   "source": [
    "import pandas as pd\n",
    "import json\n",
    "from collections import Counter\n",
    "import requests\n",
    "import os\n",
    "import time\n",
    "from libs.chrome_utils import ChromeUtils\n",
    "from urllib.parse import urlparse"
   ]
  },
  {
   "cell_type": "code",
   "execution_count": 18,
   "metadata": {},
   "outputs": [
    {
     "name": "stdout",
     "output_type": "stream",
     "text": [
      "68\n"
     ]
    }
   ],
   "source": [
    "# URL\n",
    "chrome_utils = ChromeUtils()\n",
    "\n",
    "target_json = '../datas/html_recipes/list_pages/Greek_Recipes.json'\n",
    "out_dir = \"../datas/html_recipes/item_pages/Greek_Recipes/\"\n",
    "\n",
    "# JSONファイルを読み込む\n",
    "with open(target_json, 'r', encoding='utf-8') as file:\n",
    "    data = json.load(file)\n",
    "\n",
    "if not os.path.exists(out_dir):\n",
    "    os.makedirs(out_dir)\n",
    "print(len(data['itemListElement']))"
   ]
  },
  {
   "cell_type": "code",
   "execution_count": 19,
   "metadata": {},
   "outputs": [],
   "source": [
    "def download_page_data(url, file_name):\n",
    "    driver = chrome_utils.initialize_driver()\n",
    "    \n",
    "    driver.get(url)\n",
    "    time.sleep(5)\n",
    "\n",
    "    # ページのHTMLを取得\n",
    "    page_html = driver.page_source\n",
    "\n",
    "    # HTMLをファイルに保存\n",
    "    with open(file_name, 'w', encoding='utf-8') as file:\n",
    "        file.write(page_html)\n",
    "\n",
    "    driver.quit()\n",
    "    time.sleep(30)    "
   ]
  },
  {
   "cell_type": "code",
   "execution_count": 20,
   "metadata": {},
   "outputs": [
    {
     "name": "stdout",
     "output_type": "stream",
     "text": [
      "../datas/html_recipes/item_pages/German_Recipes/german-apple-cake-i.html\n",
      "../datas/html_recipes/item_pages/German_Recipes/german-recipes-from-oma-8721986.html\n",
      "../datas/html_recipes/item_pages/German_Recipes/traditional-sauerbraten.html\n",
      "../datas/html_recipes/item_pages/German_Recipes/german-pork-chops-and-sauerkraut.html\n",
      "../datas/html_recipes/item_pages/German_Recipes/sausage-and-sauerkraut.html\n",
      "../datas/html_recipes/item_pages/German_Recipes/german-beef-rouladen.html\n",
      "../datas/html_recipes/item_pages/German_Recipes/creamy-dill-german-potato-salad-recipe-8660093.html\n",
      "../datas/html_recipes/item_pages/German_Recipes/german-rhubarb-almond-cake-recipe-8641175.html\n",
      "../datas/html_recipes/item_pages/German_Recipes/quark-homemade-cheese.html\n",
      "../datas/html_recipes/item_pages/German_Recipes/easy-plum-cake.html\n",
      "../datas/html_recipes/item_pages/German_Recipes/spaghetti-ice-cream-sundae-7506833.html\n",
      "../datas/html_recipes/item_pages/German_Recipes/pfeffernusse-cookies.html\n",
      "../datas/html_recipes/item_pages/German_Recipes/crispy-roasted-chicken.html\n",
      "../datas/html_recipes/item_pages/German_Recipes/wienerschnitzel.html\n",
      "../datas/html_recipes/item_pages/German_Recipes/comfort-food-german-recipes.html\n",
      "../datas/html_recipes/item_pages/German_Recipes/old-german-honey-cookies.html\n",
      "../datas/html_recipes/item_pages/German_Recipes/jagerschnitzel.html\n",
      "../datas/html_recipes/item_pages/German_Recipes/chef-johns-beef-rouladen.html\n",
      "../datas/html_recipes/item_pages/German_Recipes/german-hamburgers-frikadellen.html\n",
      "../datas/html_recipes/item_pages/German_Recipes/traditional-springerle.html\n",
      "../datas/html_recipes/item_pages/German_Recipes/german-semolina-pudding.html\n",
      "../datas/html_recipes/item_pages/German_Recipes/beer-glazed-brats-and-sauerkraut.html\n",
      "../datas/html_recipes/item_pages/German_Recipes/slow-cooker-german-style-pork-roast-with-sauerkraut-and-potatoes.html\n",
      "../datas/html_recipes/item_pages/German_Recipes/omas-german-recipes.html\n",
      "../datas/html_recipes/item_pages/German_Recipes/german-rouladen.html\n",
      "../datas/html_recipes/item_pages/German_Recipes/grillhaxe-grilled-eisbein-pork-shanks.html\n",
      "../datas/html_recipes/item_pages/German_Recipes/krautburger.html\n",
      "../datas/html_recipes/item_pages/German_Recipes/apfelkuchen-apple-cake.html\n",
      "../datas/html_recipes/item_pages/German_Recipes/german-lebkuchen.html\n",
      "../datas/html_recipes/item_pages/German_Recipes/kates-easy-german-sauerbraten.html\n",
      "../datas/html_recipes/item_pages/German_Recipes/real-homemade-bologna.html\n",
      "../datas/html_recipes/item_pages/German_Recipes/schnitzel.html\n",
      "../datas/html_recipes/item_pages/German_Recipes/german-marble-cake.html\n",
      "../datas/html_recipes/item_pages/German_Recipes/oktoberfest-chicken-and-red-cabbage.html\n",
      "../datas/html_recipes/item_pages/German_Recipes/easy-made-german-quark.html\n",
      "../datas/html_recipes/item_pages/German_Recipes/german-zwiebelkuchen-onion-pie.html\n",
      "../datas/html_recipes/item_pages/German_Recipes/easy-german-apple-streusel-pie.html\n",
      "../datas/html_recipes/item_pages/German_Recipes/kraut-bierocks.html\n",
      "../datas/html_recipes/item_pages/German_Recipes/homemade-sauerkraut.html\n",
      "../datas/html_recipes/item_pages/German_Recipes/german-homemade-marzipan.html\n",
      "../datas/html_recipes/item_pages/German_Recipes/jaeger-schnitzel.html\n",
      "../datas/html_recipes/item_pages/German_Recipes/hasty-pudding.html\n",
      "../datas/html_recipes/item_pages/German_Recipes/german-currywurst.html\n",
      "../datas/html_recipes/item_pages/German_Recipes/gluehwein-german-mulled-wine.html\n",
      "../datas/html_recipes/item_pages/German_Recipes/butterkuchen.html\n",
      "../datas/html_recipes/item_pages/German_Recipes/bee-sting-cake-bienenstich-ii.html\n",
      "../datas/html_recipes/item_pages/German_Recipes/slow-cooker-pork-sauerkraut-and-beer.html\n",
      "../datas/html_recipes/item_pages/German_Recipes/german-christmas-dinner-menu.html\n",
      "../datas/html_recipes/item_pages/German_Recipes/fried-cabbage-and-egg-noodles.html\n",
      "../datas/html_recipes/item_pages/German_Recipes/german-rhubarb-streusel-cake.html\n",
      "../datas/html_recipes/item_pages/German_Recipes/german-rice.html\n",
      "../datas/html_recipes/item_pages/German_Recipes/christmas-stollen.html\n",
      "../datas/html_recipes/item_pages/German_Recipes/german-schwenkbraten.html\n",
      "../datas/html_recipes/item_pages/German_Recipes/cabbage-and-kielbasa.html\n",
      "../datas/html_recipes/item_pages/German_Recipes/mandelmakronen-almond-meringues.html\n",
      "../datas/html_recipes/item_pages/German_Recipes/schupfnudeln-german-fried-potato-dumplings.html\n",
      "../datas/html_recipes/item_pages/German_Recipes/pork-roast-and-sauerkraut.html\n",
      "../datas/html_recipes/item_pages/German_Recipes/red-currant-pie.html\n",
      "../datas/html_recipes/item_pages/German_Recipes/german-rocks.html\n",
      "../datas/html_recipes/item_pages/German_Recipes/bierock-casserole.html\n",
      "../datas/html_recipes/item_pages/German_Recipes/pfeffernusse.html\n",
      "../datas/html_recipes/item_pages/German_Recipes/german-anise-christmas-cookies-springerle.html\n",
      "../datas/html_recipes/item_pages/German_Recipes/easy-three-ingredient-gluten-free-german-christmas-coconut-cookies.html\n",
      "../datas/html_recipes/item_pages/German_Recipes/traditional-german-cake-recipes.html\n",
      "../datas/html_recipes/item_pages/German_Recipes/spargel-in-schinken-white-asparagus-wrapped-in-ham.html\n",
      "../datas/html_recipes/item_pages/German_Recipes/chef-johns-best-german-recipes.html\n",
      "../datas/html_recipes/item_pages/German_Recipes/our-best-schnitzel-recipes.html\n",
      "../datas/html_recipes/item_pages/German_Recipes/best-german-potato-recipes.html\n"
     ]
    }
   ],
   "source": [
    "for item in data['itemListElement']:\n",
    "    parsed_url = urlparse(item['url'])\n",
    "    path = parsed_url.path\n",
    "\n",
    "    # 最後のパス部分を取得\n",
    "    last_part = path.strip(\"/\").split(\"/\")[-1]\n",
    "    output_file = f'{out_dir}{last_part}.html'\n",
    "    print(output_file)\n",
    "    if not os.path.exists(output_file):\n",
    "        time.sleep(120)\n",
    "        download_page_data(item['url'], output_file)\n",
    "        "
   ]
  },
  {
   "cell_type": "markdown",
   "metadata": {},
   "source": []
  },
  {
   "cell_type": "code",
   "execution_count": null,
   "metadata": {},
   "outputs": [],
   "source": []
  },
  {
   "cell_type": "code",
   "execution_count": null,
   "metadata": {},
   "outputs": [],
   "source": []
  }
 ],
 "metadata": {
  "kernelspec": {
   "display_name": "recipe-qa-3.10",
   "language": "python",
   "name": "python3"
  },
  "language_info": {
   "codemirror_mode": {
    "name": "ipython",
    "version": 3
   },
   "file_extension": ".py",
   "mimetype": "text/x-python",
   "name": "python",
   "nbconvert_exporter": "python",
   "pygments_lexer": "ipython3",
   "version": "3.10.0"
  }
 },
 "nbformat": 4,
 "nbformat_minor": 2
}
