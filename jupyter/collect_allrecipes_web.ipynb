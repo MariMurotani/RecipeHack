{
 "cells": [
  {
   "cell_type": "code",
   "execution_count": 21,
   "metadata": {},
   "outputs": [],
   "source": [
    "import pandas as pd\n",
    "import json\n",
    "from collections import Counter\n",
    "import requests\n",
    "import os\n",
    "import time\n",
    "from libs.chrome_utils import ChromeUtils\n",
    "from urllib.parse import urlparse"
   ]
  },
  {
   "cell_type": "code",
   "execution_count": 22,
   "metadata": {},
   "outputs": [
    {
     "name": "stdout",
     "output_type": "stream",
     "text": [
      "68\n"
     ]
    }
   ],
   "source": [
    "# URL\n",
    "chrome_utils = ChromeUtils()\n",
    "\n",
    "target_json = '../datas/html_recipes/list_pages/Greek_Recipes.json'\n",
    "out_dir = \"../datas/html_recipes/item_pages/Greek_Recipes/\"\n",
    "\n",
    "# JSONファイルを読み込む\n",
    "with open(target_json, 'r', encoding='utf-8') as file:\n",
    "    data = json.load(file)\n",
    "\n",
    "if not os.path.exists(out_dir):\n",
    "    os.makedirs(out_dir)\n",
    "print(len(data['itemListElement']))"
   ]
  },
  {
   "cell_type": "code",
   "execution_count": 23,
   "metadata": {},
   "outputs": [],
   "source": [
    "def download_page_data(url, file_name):\n",
    "    driver = chrome_utils.initialize_driver()\n",
    "    \n",
    "    driver.get(url)\n",
    "    time.sleep(5)\n",
    "\n",
    "    # ページのHTMLを取得\n",
    "    page_html = driver.page_source\n",
    "\n",
    "    # HTMLをファイルに保存\n",
    "    with open(file_name, 'w', encoding='utf-8') as file:\n",
    "        file.write(page_html)\n",
    "\n",
    "    driver.quit()\n",
    "    time.sleep(30)    "
   ]
  },
  {
   "cell_type": "code",
   "execution_count": 24,
   "metadata": {},
   "outputs": [
    {
     "name": "stdout",
     "output_type": "stream",
     "text": [
      "../datas/html_recipes/item_pages/Greek_Recipes/greek-steak-marinade-recipe-8710012.html\n",
      "../datas/html_recipes/item_pages/Greek_Recipes/greek-beef-stuffed-onions-salantourmasi-recipe-8699944.html\n",
      "../datas/html_recipes/item_pages/Greek_Recipes/greek-style-grilled-lamb-chops-recipe-8680071.html\n",
      "../datas/html_recipes/item_pages/Greek_Recipes/bougatsa-recipe-8654345.html\n",
      "../datas/html_recipes/item_pages/Greek_Recipes/greek-turkey-meatballs-recipe-8654633.html\n",
      "../datas/html_recipes/item_pages/Greek_Recipes/best-feta-recipes-8663349.html\n",
      "../datas/html_recipes/item_pages/Greek_Recipes/pan-fried-halloumi-recipe-8645632.html\n",
      "../datas/html_recipes/item_pages/Greek_Recipes/greek-style-chicken-pops-recipe-8622037.html\n",
      "../datas/html_recipes/item_pages/Greek_Recipes/easy-bundt-pan-roasted-greek-chicken-and-vegetables-recipe-8600997.html\n",
      "../datas/html_recipes/item_pages/Greek_Recipes/greek-potato-salad-recipe-8391270.html\n",
      "../datas/html_recipes/item_pages/Greek_Recipes/greek-chicken.html\n",
      "../datas/html_recipes/item_pages/Greek_Recipes/air-fryer-spanakopita-recipe-7510155.html\n",
      "../datas/html_recipes/item_pages/Greek_Recipes/pastitsio-ii.html\n",
      "../datas/html_recipes/item_pages/Greek_Recipes/grilled-spatchcocked-greek-chicken.html\n",
      "../datas/html_recipes/item_pages/Greek_Recipes/souvlaki.html\n",
      "../datas/html_recipes/item_pages/Greek_Recipes/traditional-gyros.html\n",
      "../datas/html_recipes/item_pages/Greek_Recipes/greek-butter-cookies.html\n",
      "../datas/html_recipes/item_pages/Greek_Recipes/greek-baklava.html\n",
      "../datas/html_recipes/item_pages/Greek_Recipes/spanakopita-greek-spinach-pie.html\n",
      "../datas/html_recipes/item_pages/Greek_Recipes/greek-style-lemon-roasted-potatoes.html\n",
      "../datas/html_recipes/item_pages/Greek_Recipes/taramosalata.html\n",
      "../datas/html_recipes/item_pages/Greek_Recipes/light-and-easy-greek-potato-salad.html\n",
      "../datas/html_recipes/item_pages/Greek_Recipes/traditional-gyro-meat.html\n",
      "../datas/html_recipes/item_pages/Greek_Recipes/greek-horiatiki-salad.html\n",
      "../datas/html_recipes/item_pages/Greek_Recipes/moussaka.html\n",
      "../datas/html_recipes/item_pages/Greek_Recipes/best-summer-greek-recipes-8682891.html\n",
      "../datas/html_recipes/item_pages/Greek_Recipes/homemade-phyllo-or-filo-dough.html\n",
      "../datas/html_recipes/item_pages/Greek_Recipes/tzatziki-sauce.html\n",
      "../datas/html_recipes/item_pages/Greek_Recipes/chicken-souvlaki-with-tzatziki-sauce.html\n",
      "../datas/html_recipes/item_pages/Greek_Recipes/absolutely-fabulous-greekhouse-dressing.html\n",
      "../datas/html_recipes/item_pages/Greek_Recipes/flaming-greek-cheese-saganaki.html\n",
      "../datas/html_recipes/item_pages/Greek_Recipes/lemon-chicken-orzo-soup.html\n",
      "../datas/html_recipes/item_pages/Greek_Recipes/greek-lemon-chicken-soup.html\n",
      "../datas/html_recipes/item_pages/Greek_Recipes/greek-seasoning-blend.html\n",
      "../datas/html_recipes/item_pages/Greek_Recipes/easy-baklava.html\n",
      "../datas/html_recipes/item_pages/Greek_Recipes/greek-lentil-soup-fakes.html\n",
      "../datas/html_recipes/item_pages/Greek_Recipes/greek-style-potatoes.html\n",
      "../datas/html_recipes/item_pages/Greek_Recipes/greek-couscous.html\n",
      "../datas/html_recipes/item_pages/Greek_Recipes/greek-orzo-salad.html\n",
      "../datas/html_recipes/item_pages/Greek_Recipes/vegetarian-moussaka.html\n",
      "../datas/html_recipes/item_pages/Greek_Recipes/real-hummus.html\n",
      "../datas/html_recipes/item_pages/Greek_Recipes/greek-salad-i.html\n",
      "../datas/html_recipes/item_pages/Greek_Recipes/greek-tzatziki.html\n",
      "../datas/html_recipes/item_pages/Greek_Recipes/branzino-mediterranean.html\n",
      "../datas/html_recipes/item_pages/Greek_Recipes/what-is-mountain-tea-sideritis.html\n",
      "../datas/html_recipes/item_pages/Greek_Recipes/my-own-famous-stuffed-grape-leaves.html\n",
      "../datas/html_recipes/item_pages/Greek_Recipes/dolmas-stuffed-grape-leaves.html\n",
      "../datas/html_recipes/item_pages/Greek_Recipes/galaktoboureko.html\n",
      "../datas/html_recipes/item_pages/Greek_Recipes/greek-garbanzo-bean-salad.html\n",
      "../datas/html_recipes/item_pages/Greek_Recipes/beef-stifado-in-the-slow-cooker.html\n",
      "../datas/html_recipes/item_pages/Greek_Recipes/cucumber-gyro-sauce.html\n",
      "../datas/html_recipes/item_pages/Greek_Recipes/halloumi-cheese-fingers.html\n",
      "../datas/html_recipes/item_pages/Greek_Recipes/greek-style-garlic-chicken-breast.html\n",
      "../datas/html_recipes/item_pages/Greek_Recipes/loukoumades.html\n",
      "../datas/html_recipes/item_pages/Greek_Recipes/black-bean-hummus.html\n",
      "../datas/html_recipes/item_pages/Greek_Recipes/rizogalo-greek-rice-pudding.html\n",
      "../datas/html_recipes/item_pages/Greek_Recipes/easy-tzatziki-sauce.html\n",
      "../datas/html_recipes/item_pages/Greek_Recipes/mediterranean-orzo-salad.html\n",
      "../datas/html_recipes/item_pages/Greek_Recipes/greek-honey-cake.html\n",
      "../datas/html_recipes/item_pages/Greek_Recipes/briam-greek-baked-zucchini-and-potatoes.html\n",
      "../datas/html_recipes/item_pages/Greek_Recipes/vaselopita-greek-new-years-cake.html\n",
      "../datas/html_recipes/item_pages/Greek_Recipes/what-is-souvlaki.html\n",
      "../datas/html_recipes/item_pages/Greek_Recipes/greek-green-beans.html\n",
      "../datas/html_recipes/item_pages/Greek_Recipes/our-best-traditional-greek-recipes.html\n",
      "../datas/html_recipes/item_pages/Greek_Recipes/greek-salad-recipes.html\n",
      "../datas/html_recipes/item_pages/Greek_Recipes/classic-greek-diner-recipes.html\n",
      "../datas/html_recipes/item_pages/Greek_Recipes/greek-lamb-recipes.html\n",
      "../datas/html_recipes/item_pages/Greek_Recipes/greek-shrimp-recipes.html\n"
     ]
    }
   ],
   "source": [
    "for item in data['itemListElement']:\n",
    "    parsed_url = urlparse(item['url'])\n",
    "    path = parsed_url.path\n",
    "\n",
    "    # 最後のパス部分を取得\n",
    "    last_part = path.strip(\"/\").split(\"/\")[-1]\n",
    "    output_file = f'{out_dir}{last_part}.html'\n",
    "    print(output_file)\n",
    "    if not os.path.exists(output_file):\n",
    "        time.sleep(120)\n",
    "        download_page_data(item['url'], output_file)\n",
    "        "
   ]
  },
  {
   "cell_type": "markdown",
   "metadata": {},
   "source": []
  },
  {
   "cell_type": "code",
   "execution_count": null,
   "metadata": {},
   "outputs": [],
   "source": []
  },
  {
   "cell_type": "code",
   "execution_count": null,
   "metadata": {},
   "outputs": [],
   "source": []
  }
 ],
 "metadata": {
  "kernelspec": {
   "display_name": "recipe-qa-3.10",
   "language": "python",
   "name": "python3"
  },
  "language_info": {
   "codemirror_mode": {
    "name": "ipython",
    "version": 3
   },
   "file_extension": ".py",
   "mimetype": "text/x-python",
   "name": "python",
   "nbconvert_exporter": "python",
   "pygments_lexer": "ipython3",
   "version": "3.10.0"
  }
 },
 "nbformat": 4,
 "nbformat_minor": 2
}
