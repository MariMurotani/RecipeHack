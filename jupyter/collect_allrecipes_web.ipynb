{
 "cells": [
  {
   "cell_type": "code",
   "execution_count": 41,
   "metadata": {},
   "outputs": [],
   "source": [
    "import pandas as pd\n",
    "import json\n",
    "from collections import Counter\n",
    "import requests\n",
    "import os\n",
    "import time\n",
    "from libs.chrome_utils import ChromeUtils\n",
    "from urllib.parse import urlparse"
   ]
  },
  {
   "cell_type": "code",
   "execution_count": 42,
   "metadata": {},
   "outputs": [
    {
     "name": "stdout",
     "output_type": "stream",
     "text": [
      "68\n"
     ]
    }
   ],
   "source": [
    "# URL\n",
    "chrome_utils = ChromeUtils()\n",
    "\n",
    "target_json = '../datas/html_recipes/list_pages/Seafood_Recipes.json'\n",
    "out_dir = \"../datas/html_recipes/item_pages/Seafood_Recipes/\"\n",
    "\n",
    "# JSONファイルを読み込む\n",
    "with open(target_json, 'r', encoding='utf-8') as file:\n",
    "    data = json.load(file)\n",
    "\n",
    "if not os.path.exists(out_dir):\n",
    "    os.makedirs(out_dir)\n",
    "print(len(data['itemListElement']))"
   ]
  },
  {
   "cell_type": "code",
   "execution_count": 43,
   "metadata": {},
   "outputs": [],
   "source": [
    "def download_page_data(url, file_name):\n",
    "    driver = chrome_utils.initialize_driver()\n",
    "    \n",
    "    driver.get(url)\n",
    "    time.sleep(5)\n",
    "\n",
    "    # ページのHTMLを取得\n",
    "    page_html = driver.page_source\n",
    "\n",
    "    # HTMLをファイルに保存\n",
    "    with open(file_name, 'w', encoding='utf-8') as file:\n",
    "        file.write(page_html)\n",
    "\n",
    "    driver.quit()\n",
    "    time.sleep(30)    "
   ]
  },
  {
   "cell_type": "code",
   "execution_count": 44,
   "metadata": {},
   "outputs": [
    {
     "name": "stdout",
     "output_type": "stream",
     "text": [
      "../datas/html_recipes/item_pages/Seafood_Recipes/smoked-mackerel-beets-apples-and-bread-crisps-recipe-8722324.html\n",
      "../datas/html_recipes/item_pages/Seafood_Recipes/mango-shrimp-ceviche-recipe-8724391.html\n",
      "../datas/html_recipes/item_pages/Seafood_Recipes/harvest-salmon-bowls-recipe-8724265.html\n",
      "../datas/html_recipes/item_pages/Seafood_Recipes/coconut-curry-salmon-with-broccoli-recipe-8715339.html\n",
      "../datas/html_recipes/item_pages/Seafood_Recipes/low-country-shrimp-and-potato-salad-recipe-8707208.html\n",
      "../datas/html_recipes/item_pages/Seafood_Recipes/mussels-with-chorizo-recipe-8709293.html\n",
      "../datas/html_recipes/item_pages/Seafood_Recipes/grilled-halibut-foil-packs-recipe-8705119.html\n",
      "../datas/html_recipes/item_pages/Seafood_Recipes/beetlejuice-inspired-shrimp-cocktail-recipe-8701693.html\n",
      "../datas/html_recipes/item_pages/Seafood_Recipes/spicy-salmon-roll-shaken-cucumber-salad-recipe-8701691.html\n",
      "../datas/html_recipes/item_pages/Seafood_Recipes/sardine-dip-recipe-8700754.html\n",
      "../datas/html_recipes/item_pages/Seafood_Recipes/grilled-salmon-with-chimichurri-recipe-8699671.html\n",
      "../datas/html_recipes/item_pages/Seafood_Recipes/italian-style-no-mayo-tuna-salad-recipe-8699606.html\n",
      "../datas/html_recipes/item_pages/Seafood_Recipes/old-bay-recipes-8697975.html\n",
      "../datas/html_recipes/item_pages/Seafood_Recipes/smoked-salmon-breakfast-casserole-recipe-8690566.html\n",
      "../datas/html_recipes/item_pages/Seafood_Recipes/oysters-casino-recipe-8635061.html\n",
      "../datas/html_recipes/item_pages/Seafood_Recipes/shrimp-and-bacon-pasta-salad-recipe-8676347.html\n",
      "../datas/html_recipes/item_pages/Seafood_Recipes/sheet-pan-halibut-with-orange-and-fennel-recipe-8597976.html\n",
      "../datas/html_recipes/item_pages/Seafood_Recipes/tuscan-salmon-recipe-8673342.html\n",
      "../datas/html_recipes/item_pages/Seafood_Recipes/smoked-whole-snapper-recipe-8675589.html\n",
      "../datas/html_recipes/item_pages/Seafood_Recipes/salmon-caesar-salad-recipe-8667191.html\n",
      "../datas/html_recipes/item_pages/Seafood_Recipes/smoked-salmon-dip-recipe-8665771.html\n",
      "../datas/html_recipes/item_pages/Seafood_Recipes/air-fryer-po-boy-recipe-8647044.html\n",
      "../datas/html_recipes/item_pages/Seafood_Recipes/harissa-baked-salmon-recipe-8645607.html\n",
      "../datas/html_recipes/item_pages/Seafood_Recipes/grilled-tuna-steaks-with-wasabi-blueberry-sauce-recipe-8658669.html\n",
      "../datas/html_recipes/item_pages/Seafood_Recipes/pineapple-shrimp-stir-fry-recipe-8647031.html\n",
      "../datas/html_recipes/item_pages/Seafood_Recipes/ultimate-lowcountry-shrimp-and-grits-recipe-8660975.html\n",
      "../datas/html_recipes/item_pages/Seafood_Recipes/individual-salmon-wellingtons-recipe-8417008.html\n",
      "../datas/html_recipes/item_pages/Seafood_Recipes/tuscan-butter-shrimp-recipe-8654858.html\n",
      "../datas/html_recipes/item_pages/Seafood_Recipes/grilled-shrimp-skewers-with-citrus-and-charred-thyme-recipe-8658246.html\n",
      "../datas/html_recipes/item_pages/Seafood_Recipes/spicy-dill-pickle-tuna-salad-recipe-8658733.html\n",
      "../datas/html_recipes/item_pages/Seafood_Recipes/creamy-lemon-shrimp-pasta-recipe-8642461.html\n",
      "../datas/html_recipes/item_pages/Seafood_Recipes/lazy-hot-crab-dip-8653733.html\n",
      "../datas/html_recipes/item_pages/Seafood_Recipes/shrimp-cocktail-cream-cheese-dip-recipe-8646012.html\n",
      "../datas/html_recipes/item_pages/Seafood_Recipes/salmon-croquettes-recipe-8646024.html\n",
      "../datas/html_recipes/item_pages/Seafood_Recipes/trout-tacos-recipe-8651121.html\n",
      "../datas/html_recipes/item_pages/Seafood_Recipes/shrimp-and-chicken-stir-fry-recipe-8643948.html\n",
      "../datas/html_recipes/item_pages/Seafood_Recipes/marry-me-shrimp-pasta-recipe-8637241.html\n",
      "../datas/html_recipes/item_pages/Seafood_Recipes/veggie-garlic-shrimp.html\n",
      "../datas/html_recipes/item_pages/Seafood_Recipes/grilled-shrimp-caesar-wraps-recipe-8643516.html\n",
      "../datas/html_recipes/item_pages/Seafood_Recipes/one-pan-shrimp-and-rice-recipe-8635722.html\n",
      "../datas/html_recipes/item_pages/Seafood_Recipes/shrimp-cocktail-wraps-recipe-8635373.html\n",
      "../datas/html_recipes/item_pages/Seafood_Recipes/feta-and-sardine-flatbread-recipe-8633618.html\n",
      "../datas/html_recipes/item_pages/Seafood_Recipes/sardine-pizza-recipe-8633538.html\n",
      "../datas/html_recipes/item_pages/Seafood_Recipes/seafood-boil-in-a-bag-recipe-8630939.html\n",
      "../datas/html_recipes/item_pages/Seafood_Recipes/shrimp-pesto-penne-recipe-8628636.html\n",
      "../datas/html_recipes/item_pages/Seafood_Recipes/everything-bagel-seared-tuna-bowl-recipe-8623902.html\n",
      "../datas/html_recipes/item_pages/Seafood_Recipes/teriyaki-salmon-bowl-recipe-8624279.html\n",
      "../datas/html_recipes/item_pages/Seafood_Recipes/air-fryer-firecracker-salmon-bites-recipe-8623119.html\n",
      "../datas/html_recipes/item_pages/Seafood_Recipes/fettuccine-with-shrimp-tomatoes-and-spinach-cream-sauce-recipe-8611703.html\n",
      "../datas/html_recipes/item_pages/Seafood_Recipes/blackened-shrimp-tacos-recipe-8607466.html\n",
      "../datas/html_recipes/item_pages/Seafood_Recipes/zoodles-with-boursin-and-shrimp-recipe-8601153.html\n",
      "../datas/html_recipes/item_pages/Seafood_Recipes/parmesan-crusted-baked-cod-recipe-8584600.html\n",
      "../datas/html_recipes/item_pages/Seafood_Recipes/copycat-mcdonalds-filet-o-fish-sandwich-recipe-8580443.html\n",
      "../datas/html_recipes/item_pages/Seafood_Recipes/mediterranean-baked-cod-with-lemon-recipe-8576313.html\n",
      "../datas/html_recipes/item_pages/Seafood_Recipes/parmesan-crusted-baked-fish-recipe-8584575.html\n",
      "../datas/html_recipes/item_pages/Seafood_Recipes/pan-seared-cod-with-lemon-aioli-recipe-8559203.html\n",
      "../datas/html_recipes/item_pages/Seafood_Recipes/sheet-pan-salmon-and-veggies-recipe-8553727.html\n",
      "../datas/html_recipes/item_pages/Seafood_Recipes/garlic-shrimp-recipe-8559268.html\n",
      "../datas/html_recipes/item_pages/Seafood_Recipes/mediterranean-baked-cod-recipe-8576276.html\n",
      "../datas/html_recipes/item_pages/Seafood_Recipes/seafood-skillet-dip-recipe-8549887.html\n",
      "../datas/html_recipes/item_pages/Seafood_Recipes/tilapia-with-lemon-boursin-cream-sauce-recipe-8549728.html\n",
      "../datas/html_recipes/item_pages/Seafood_Recipes/best-pan-fried-cod-with-tomatoes-recipe-8547801.html\n",
      "../datas/html_recipes/item_pages/Seafood_Recipes/crab-mac-and-cheese-recipe-8422567.html\n",
      "../datas/html_recipes/item_pages/Seafood_Recipes/best-salmon-recipes.html\n",
      "../datas/html_recipes/item_pages/Seafood_Recipes/how-to-cook-lobster-tail.html\n",
      "../datas/html_recipes/item_pages/Seafood_Recipes/best-air-fryer-seafood-recipes.html\n",
      "../datas/html_recipes/item_pages/Seafood_Recipes/easy-ways-to-cook-shrimp.html\n",
      "../datas/html_recipes/item_pages/Seafood_Recipes/how-to-get-picky-eaters-to-eat-fish.html\n"
     ]
    }
   ],
   "source": [
    "for item in data['itemListElement']:\n",
    "    parsed_url = urlparse(item['url'])\n",
    "    path = parsed_url.path\n",
    "\n",
    "    # 最後のパス部分を取得\n",
    "    last_part = path.strip(\"/\").split(\"/\")[-1]\n",
    "    output_file = f'{out_dir}{last_part}.html'\n",
    "    print(output_file)\n",
    "    if not os.path.exists(output_file):\n",
    "        time.sleep(120)\n",
    "        download_page_data(item['url'], output_file)\n",
    "        "
   ]
  },
  {
   "cell_type": "markdown",
   "metadata": {},
   "source": []
  },
  {
   "cell_type": "code",
   "execution_count": null,
   "metadata": {},
   "outputs": [],
   "source": []
  },
  {
   "cell_type": "code",
   "execution_count": null,
   "metadata": {},
   "outputs": [],
   "source": []
  }
 ],
 "metadata": {
  "kernelspec": {
   "display_name": "recipe-qa-3.10",
   "language": "python",
   "name": "python3"
  },
  "language_info": {
   "codemirror_mode": {
    "name": "ipython",
    "version": 3
   },
   "file_extension": ".py",
   "mimetype": "text/x-python",
   "name": "python",
   "nbconvert_exporter": "python",
   "pygments_lexer": "ipython3",
   "version": "3.10.0"
  }
 },
 "nbformat": 4,
 "nbformat_minor": 2
}
