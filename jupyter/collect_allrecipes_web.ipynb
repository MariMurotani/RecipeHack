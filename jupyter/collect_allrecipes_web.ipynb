{
 "cells": [
  {
   "cell_type": "code",
   "execution_count": 33,
   "metadata": {},
   "outputs": [],
   "source": [
    "import pandas as pd\n",
    "import json\n",
    "from collections import Counter\n",
    "import requests\n",
    "import os\n",
    "import time\n",
    "from libs.chrome_utils import ChromeUtils\n",
    "from urllib.parse import urlparse"
   ]
  },
  {
   "cell_type": "code",
   "execution_count": 34,
   "metadata": {},
   "outputs": [
    {
     "name": "stdout",
     "output_type": "stream",
     "text": [
      "68\n"
     ]
    }
   ],
   "source": [
    "# URL\n",
    "chrome_utils = ChromeUtils()\n",
    "\n",
    "target_json = '../datas/html_recipes/list_pages/Pasta_and_Noodle_Recipes.json'\n",
    "out_dir = \"../datas/html_recipes/item_pages/Pasta_and_Noodle_Recipes/\"\n",
    "\n",
    "# JSONファイルを読み込む\n",
    "with open(target_json, 'r', encoding='utf-8') as file:\n",
    "    data = json.load(file)\n",
    "\n",
    "if not os.path.exists(out_dir):\n",
    "    os.makedirs(out_dir)\n",
    "print(len(data['itemListElement']))"
   ]
  },
  {
   "cell_type": "code",
   "execution_count": 35,
   "metadata": {},
   "outputs": [],
   "source": [
    "def download_page_data(url, file_name):\n",
    "    driver = chrome_utils.initialize_driver()\n",
    "    \n",
    "    driver.get(url)\n",
    "    time.sleep(5)\n",
    "\n",
    "    # ページのHTMLを取得\n",
    "    page_html = driver.page_source\n",
    "\n",
    "    # HTMLをファイルに保存\n",
    "    with open(file_name, 'w', encoding='utf-8') as file:\n",
    "        file.write(page_html)\n",
    "\n",
    "    driver.quit()\n",
    "    time.sleep(30)    "
   ]
  },
  {
   "cell_type": "code",
   "execution_count": 36,
   "metadata": {},
   "outputs": [
    {
     "name": "stdout",
     "output_type": "stream",
     "text": [
      "../datas/html_recipes/item_pages/Pasta_and_Noodle_Recipes/chicken-pastina-recipe-8724837.html\n",
      "../datas/html_recipes/item_pages/Pasta_and_Noodle_Recipes/caramelized-onion-and-roasted-garlic-pasta-recipe-8724725.html\n",
      "../datas/html_recipes/item_pages/Pasta_and_Noodle_Recipes/ramen-grilled-cheese-recipe-8721421.html\n",
      "../datas/html_recipes/item_pages/Pasta_and_Noodle_Recipes/copycat-trader-joes-butternut-squash-mac-and-cheese-recipe-8717042.html\n",
      "../datas/html_recipes/item_pages/Pasta_and_Noodle_Recipes/marry-me-gnocchi-recipe-8723939.html\n",
      "../datas/html_recipes/item_pages/Pasta_and_Noodle_Recipes/creamy-sausage-tortellini-soup-recipe-8722710.html\n",
      "../datas/html_recipes/item_pages/Pasta_and_Noodle_Recipes/slow-cooker-tuscan-chicken-meatballs-with-gnocchi-recipe-8718448.html\n",
      "../datas/html_recipes/item_pages/Pasta_and_Noodle_Recipes/lemon-caper-pasta-recipe-8717141.html\n",
      "../datas/html_recipes/item_pages/Pasta_and_Noodle_Recipes/one-pot-beef-ramen-noodles-recipe-8703840.html\n",
      "../datas/html_recipes/item_pages/Pasta_and_Noodle_Recipes/marry-me-chicken-pasta-bake-recipe-8707218.html\n",
      "../datas/html_recipes/item_pages/Pasta_and_Noodle_Recipes/amish-beef-and-noodles-recipe-8712456.html\n",
      "../datas/html_recipes/item_pages/Pasta_and_Noodle_Recipes/crockpot-lasagna-soup-recipe-8698429.html\n",
      "../datas/html_recipes/item_pages/Pasta_and_Noodle_Recipes/creamy-caramelized-onion-pasta-recipe-8710600.html\n",
      "../datas/html_recipes/item_pages/Pasta_and_Noodle_Recipes/creamy-sun-dried-tomato-and-basil-pasta-recipe-8710283.html\n",
      "../datas/html_recipes/item_pages/Pasta_and_Noodle_Recipes/cucumber-feta-couscous-salad-recipe-8710341.html\n",
      "../datas/html_recipes/item_pages/Pasta_and_Noodle_Recipes/coconut-curry-ramen-recipe-8705420.html\n",
      "../datas/html_recipes/item_pages/Pasta_and_Noodle_Recipes/one-pot-cheeseburger-pasta-recipe-8698417.html\n",
      "../datas/html_recipes/item_pages/Pasta_and_Noodle_Recipes/spicy-vegetable-beef-udon-noodles-recipe-8705283.html\n",
      "../datas/html_recipes/item_pages/Pasta_and_Noodle_Recipes/gazpacho-pasta-salad-recipe-8699611.html\n",
      "../datas/html_recipes/item_pages/Pasta_and_Noodle_Recipes/chicken-pot-pie-pasta-bake-recipe-8696482.html\n",
      "../datas/html_recipes/item_pages/Pasta_and_Noodle_Recipes/spicy-garlic-udon-noodles-recipe-8694997.html\n",
      "../datas/html_recipes/item_pages/Pasta_and_Noodle_Recipes/easy-one-pan-ramen-chicken-alfredo-recipe-8695508.html\n",
      "../datas/html_recipes/item_pages/Pasta_and_Noodle_Recipes/one-pan-spicy-soy-noodles-with-chicken-recipe-8693474.html\n",
      "../datas/html_recipes/item_pages/Pasta_and_Noodle_Recipes/creamy-asparagus-and-mushroom-pasta-recipe-8682796.html\n",
      "../datas/html_recipes/item_pages/Pasta_and_Noodle_Recipes/grilled-spaghetti-recipe-8675070.html\n",
      "../datas/html_recipes/item_pages/Pasta_and_Noodle_Recipes/baked-lemon-boursin-pasta-recipe-8659017.html\n",
      "../datas/html_recipes/item_pages/Pasta_and_Noodle_Recipes/couscous-chicken-soup-recipe-8671629.html\n",
      "../datas/html_recipes/item_pages/Pasta_and_Noodle_Recipes/chicken-soup-with-pearl-couscous-recipe-8671625.html\n",
      "../datas/html_recipes/item_pages/Pasta_and_Noodle_Recipes/green-goddess-pasta-salad-recipe-8660952.html\n",
      "../datas/html_recipes/item_pages/Pasta_and_Noodle_Recipes/creamy-crockpot-macaroni-and-cheese-recipe-8661631.html\n",
      "../datas/html_recipes/item_pages/Pasta_and_Noodle_Recipes/beef-miso-ramen-recipe-8647040.html\n",
      "../datas/html_recipes/item_pages/Pasta_and_Noodle_Recipes/baked-feta-pasta-recipe-8646029.html\n",
      "../datas/html_recipes/item_pages/Pasta_and_Noodle_Recipes/creamy-lemon-shrimp-pasta-recipe-8642461.html\n",
      "../datas/html_recipes/item_pages/Pasta_and_Noodle_Recipes/spicy-sausage-pasta-bake-recipe-8658180.html\n",
      "../datas/html_recipes/item_pages/Pasta_and_Noodle_Recipes/beef-teriyaki-noodles-recipe-8645974.html\n",
      "../datas/html_recipes/item_pages/Pasta_and_Noodle_Recipes/summer-street-corn-pasta-salad-recipe-8655957.html\n",
      "../datas/html_recipes/item_pages/Pasta_and_Noodle_Recipes/dill-pickle-pasta-salad-recipe-8655927.html\n",
      "../datas/html_recipes/item_pages/Pasta_and_Noodle_Recipes/one-pan-chicken-gnocchi-recipe-8647662.html\n",
      "../datas/html_recipes/item_pages/Pasta_and_Noodle_Recipes/lemon-asparagus-and-chicken-pasta-recipe-8642456.html\n",
      "../datas/html_recipes/item_pages/Pasta_and_Noodle_Recipes/mediterranean-pearl-couscous-recipe-8646349.html\n",
      "../datas/html_recipes/item_pages/Pasta_and_Noodle_Recipes/marry-me-shrimp-pasta-recipe-8637241.html\n",
      "../datas/html_recipes/item_pages/Pasta_and_Noodle_Recipes/ground-turkey-pasta-recipes-8645674.html\n",
      "../datas/html_recipes/item_pages/Pasta_and_Noodle_Recipes/orzo-stuffed-peppers-recipe-8642777.html\n",
      "../datas/html_recipes/item_pages/Pasta_and_Noodle_Recipes/lemon-orzo-recipe-8634992.html\n",
      "../datas/html_recipes/item_pages/Pasta_and_Noodle_Recipes/pancetta-primavera-rigatoni-recipe-8637817.html\n",
      "../datas/html_recipes/item_pages/Pasta_and_Noodle_Recipes/slow-cooker-honey-garlic-chicken-noodles-recipe-8629517.html\n",
      "../datas/html_recipes/item_pages/Pasta_and_Noodle_Recipes/broccoli-alfredo-pasta-recipe-8634868.html\n",
      "../datas/html_recipes/item_pages/Pasta_and_Noodle_Recipes/cowboy-spaghetti-recipe-8634556.html\n",
      "../datas/html_recipes/item_pages/Pasta_and_Noodle_Recipes/lemon-parmesan-pasta-with-soy-sauce-recipe-8633487.html\n",
      "../datas/html_recipes/item_pages/Pasta_and_Noodle_Recipes/copycat-chicken-fritta-recipe-8550411.html\n",
      "../datas/html_recipes/item_pages/Pasta_and_Noodle_Recipes/homemade-hamburger-helper-recipe-8550449.html\n",
      "../datas/html_recipes/item_pages/Pasta_and_Noodle_Recipes/5-ingredient-cajun-pasta-recipe-8628505.html\n",
      "../datas/html_recipes/item_pages/Pasta_and_Noodle_Recipes/3-ingredient-spinach-artichoke-pasta-8627480.html\n",
      "../datas/html_recipes/item_pages/Pasta_and_Noodle_Recipes/fettuccine-with-shrimp-tomatoes-and-spinach-cream-sauce-recipe-8611703.html\n",
      "../datas/html_recipes/item_pages/Pasta_and_Noodle_Recipes/one-pot-creamy-ground-beef-and-orzo-recipe-8610788.html\n",
      "../datas/html_recipes/item_pages/Pasta_and_Noodle_Recipes/chicken-and-orzo-bake-recipe-8382746.html\n",
      "../datas/html_recipes/item_pages/Pasta_and_Noodle_Recipes/marry-me-chicken-tortellini-recipe-8601280.html\n",
      "../datas/html_recipes/item_pages/Pasta_and_Noodle_Recipes/eggs-and-spaghetti.html\n",
      "../datas/html_recipes/item_pages/Pasta_and_Noodle_Recipes/creamy-corn-pasta-recipe-8557724.html\n",
      "../datas/html_recipes/item_pages/Pasta_and_Noodle_Recipes/easy-lasagna-cups-recipe-8584174.html\n",
      "../datas/html_recipes/item_pages/Pasta_and_Noodle_Recipes/easy-sausage-manicotti-bake-recipe-8559561.html\n",
      "../datas/html_recipes/item_pages/Pasta_and_Noodle_Recipes/weeknight-pasta-recipes-8559899.html\n",
      "../datas/html_recipes/item_pages/Pasta_and_Noodle_Recipes/broccoli-cheddar-mac-and-cheese-recipe-8551735.html\n",
      "../datas/html_recipes/item_pages/Pasta_and_Noodle_Recipes/richest-meatiest-spaghetti-recipes.html\n",
      "../datas/html_recipes/item_pages/Pasta_and_Noodle_Recipes/9x13-baked-pasta-recipes.html\n",
      "../datas/html_recipes/item_pages/Pasta_and_Noodle_Recipes/easy-fancy-pasta-recipes.html\n",
      "../datas/html_recipes/item_pages/Pasta_and_Noodle_Recipes/spicy-noodle-recipes.html\n",
      "../datas/html_recipes/item_pages/Pasta_and_Noodle_Recipes/boil-pasta-in-sauce-not-water.html\n"
     ]
    }
   ],
   "source": [
    "for item in data['itemListElement']:\n",
    "    parsed_url = urlparse(item['url'])\n",
    "    path = parsed_url.path\n",
    "\n",
    "    # 最後のパス部分を取得\n",
    "    last_part = path.strip(\"/\").split(\"/\")[-1]\n",
    "    output_file = f'{out_dir}{last_part}.html'\n",
    "    print(output_file)\n",
    "    if not os.path.exists(output_file):\n",
    "        time.sleep(120)\n",
    "        download_page_data(item['url'], output_file)\n",
    "        "
   ]
  },
  {
   "cell_type": "markdown",
   "metadata": {},
   "source": []
  },
  {
   "cell_type": "code",
   "execution_count": null,
   "metadata": {},
   "outputs": [],
   "source": []
  },
  {
   "cell_type": "code",
   "execution_count": null,
   "metadata": {},
   "outputs": [],
   "source": []
  }
 ],
 "metadata": {
  "kernelspec": {
   "display_name": "recipe-qa-3.10",
   "language": "python",
   "name": "python3"
  },
  "language_info": {
   "codemirror_mode": {
    "name": "ipython",
    "version": 3
   },
   "file_extension": ".py",
   "mimetype": "text/x-python",
   "name": "python",
   "nbconvert_exporter": "python",
   "pygments_lexer": "ipython3",
   "version": "3.10.0"
  }
 },
 "nbformat": 4,
 "nbformat_minor": 2
}
