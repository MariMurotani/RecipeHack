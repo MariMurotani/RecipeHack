{
 "cells": [
  {
   "cell_type": "code",
   "execution_count": 25,
   "metadata": {},
   "outputs": [],
   "source": [
    "import pandas as pd\n",
    "import json\n",
    "from collections import Counter\n",
    "import requests\n",
    "import os\n",
    "import time\n",
    "from libs.chrome_utils import ChromeUtils\n",
    "from urllib.parse import urlparse"
   ]
  },
  {
   "cell_type": "code",
   "execution_count": 26,
   "metadata": {},
   "outputs": [
    {
     "name": "stdout",
     "output_type": "stream",
     "text": [
      "68\n"
     ]
    }
   ],
   "source": [
    "# URL\n",
    "chrome_utils = ChromeUtils()\n",
    "\n",
    "target_json = '../datas/html_recipes/list_pages/Italian_Recipes.json'\n",
    "out_dir = \"../datas/html_recipes/item_pages/Italian_Recipes/\"\n",
    "\n",
    "# JSONファイルを読み込む\n",
    "with open(target_json, 'r', encoding='utf-8') as file:\n",
    "    data = json.load(file)\n",
    "\n",
    "if not os.path.exists(out_dir):\n",
    "    os.makedirs(out_dir)\n",
    "print(len(data['itemListElement']))"
   ]
  },
  {
   "cell_type": "code",
   "execution_count": 27,
   "metadata": {},
   "outputs": [],
   "source": [
    "def download_page_data(url, file_name):\n",
    "    driver = chrome_utils.initialize_driver()\n",
    "    \n",
    "    driver.get(url)\n",
    "    time.sleep(5)\n",
    "\n",
    "    # ページのHTMLを取得\n",
    "    page_html = driver.page_source\n",
    "\n",
    "    # HTMLをファイルに保存\n",
    "    with open(file_name, 'w', encoding='utf-8') as file:\n",
    "        file.write(page_html)\n",
    "\n",
    "    driver.quit()\n",
    "    time.sleep(30)    "
   ]
  },
  {
   "cell_type": "code",
   "execution_count": null,
   "metadata": {},
   "outputs": [
    {
     "name": "stdout",
     "output_type": "stream",
     "text": [
      "../datas/html_recipes/item_pages/Italian_Recipes/chicken-pastina-recipe-8724837.html\n",
      "../datas/html_recipes/item_pages/Italian_Recipes/slow-cooker-tuscan-chicken-meatballs-with-gnocchi-recipe-8718448.html\n",
      "../datas/html_recipes/item_pages/Italian_Recipes/short-ribs-pizzaiola-recipe-8720220.html\n",
      "../datas/html_recipes/item_pages/Italian_Recipes/baked-rigatoni-for-a-crowd.html\n",
      "../datas/html_recipes/item_pages/Italian_Recipes/pork-scallopini-recipe-8686741.html\n",
      "../datas/html_recipes/item_pages/Italian_Recipes/air-fryer-chicken-parmesan-recipe-8698442.html\n",
      "../datas/html_recipes/item_pages/Italian_Recipes/no-bake-cannoli-pie-recipe-8654867.html\n",
      "../datas/html_recipes/item_pages/Italian_Recipes/italian-style-no-mayo-tuna-salad-recipe-8699606.html\n",
      "../datas/html_recipes/item_pages/Italian_Recipes/baked-chicken-marinara-recipe-8686945.html\n",
      "../datas/html_recipes/item_pages/Italian_Recipes/tartufo-recipe-8646241.html\n",
      "../datas/html_recipes/item_pages/Italian_Recipes/tuscan-salmon-recipe-8673342.html\n",
      "../datas/html_recipes/item_pages/Italian_Recipes/tuscan-butter-shrimp-recipe-8654858.html\n",
      "../datas/html_recipes/item_pages/Italian_Recipes/italian-macerated-strawberries-recipe-6581192.html\n",
      "../datas/html_recipes/item_pages/Italian_Recipes/italian-salsa-verde-8647454.html\n",
      "../datas/html_recipes/item_pages/Italian_Recipes/chef-john-s-chicken-saltimbocca-recipe-8642251.html\n",
      "../datas/html_recipes/item_pages/Italian_Recipes/copycat-chicken-fritta-recipe-8550411.html\n",
      "../datas/html_recipes/item_pages/Italian_Recipes/chicken-limone-recipe-8550361.html\n",
      "../datas/html_recipes/item_pages/Italian_Recipes/fish-puttanesca-recipe-8611251.html\n",
      "../datas/html_recipes/item_pages/Italian_Recipes/chicken-marsala-fettuccine-recipe-8417115.html\n",
      "../datas/html_recipes/item_pages/Italian_Recipes/easter-grain-pie.html\n",
      "../datas/html_recipes/item_pages/Italian_Recipes/uova-in-purgatorio-eggs-in-purgatory.html\n",
      "../datas/html_recipes/item_pages/Italian_Recipes/easy-and-delicious-homemade-ricotta-cheese.html\n",
      "../datas/html_recipes/item_pages/Italian_Recipes/sicilian-homemade-ricotta-cheese.html\n",
      "../datas/html_recipes/item_pages/Italian_Recipes/lemon-tiramisu-recipe-8416444.html\n",
      "../datas/html_recipes/item_pages/Italian_Recipes/panettone-loaves.html\n",
      "../datas/html_recipes/item_pages/Italian_Recipes/cioccolata-calda-hot-chocolate-italian-style.html\n",
      "../datas/html_recipes/item_pages/Italian_Recipes/pasta-e-ceci-italian-chickpea-and-pasta-stew-recipe-8400705.html\n",
      "../datas/html_recipes/item_pages/Italian_Recipes/chicken-fra-diavolo-recipe-8383615.html\n",
      "../datas/html_recipes/item_pages/Italian_Recipes/classic-italian-pastina-soup-recipe-7971739.html\n",
      "../datas/html_recipes/item_pages/Italian_Recipes/real-italian-calzones.html\n"
     ]
    }
   ],
   "source": [
    "for item in data['itemListElement']:\n",
    "    parsed_url = urlparse(item['url'])\n",
    "    path = parsed_url.path\n",
    "\n",
    "    # 最後のパス部分を取得\n",
    "    last_part = path.strip(\"/\").split(\"/\")[-1]\n",
    "    output_file = f'{out_dir}{last_part}.html'\n",
    "    print(output_file)\n",
    "    if not os.path.exists(output_file):\n",
    "        time.sleep(120)\n",
    "        download_page_data(item['url'], output_file)\n",
    "        "
   ]
  },
  {
   "cell_type": "markdown",
   "metadata": {},
   "source": []
  },
  {
   "cell_type": "code",
   "execution_count": null,
   "metadata": {},
   "outputs": [],
   "source": []
  },
  {
   "cell_type": "code",
   "execution_count": null,
   "metadata": {},
   "outputs": [],
   "source": []
  }
 ],
 "metadata": {
  "kernelspec": {
   "display_name": "recipe-qa-3.10",
   "language": "python",
   "name": "python3"
  },
  "language_info": {
   "codemirror_mode": {
    "name": "ipython",
    "version": 3
   },
   "file_extension": ".py",
   "mimetype": "text/x-python",
   "name": "python",
   "nbconvert_exporter": "python",
   "pygments_lexer": "ipython3",
   "version": "3.10.0"
  }
 },
 "nbformat": 4,
 "nbformat_minor": 2
}
