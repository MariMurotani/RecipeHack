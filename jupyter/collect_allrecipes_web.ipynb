{
 "cells": [
  {
   "cell_type": "code",
   "execution_count": 29,
   "metadata": {},
   "outputs": [],
   "source": [
    "import pandas as pd\n",
    "import json\n",
    "from collections import Counter\n",
    "import requests\n",
    "import os\n",
    "import time\n",
    "from libs.chrome_utils import ChromeUtils\n",
    "from urllib.parse import urlparse"
   ]
  },
  {
   "cell_type": "code",
   "execution_count": 30,
   "metadata": {},
   "outputs": [
    {
     "name": "stdout",
     "output_type": "stream",
     "text": [
      "68\n"
     ]
    }
   ],
   "source": [
    "# URL\n",
    "chrome_utils = ChromeUtils()\n",
    "\n",
    "target_json = '../datas/html_recipes/list_pages/Mexican_Recipes.json'\n",
    "out_dir = \"../datas/html_recipes/item_pages/Mexican_Recipes/\"\n",
    "\n",
    "# JSONファイルを読み込む\n",
    "with open(target_json, 'r', encoding='utf-8') as file:\n",
    "    data = json.load(file)\n",
    "\n",
    "if not os.path.exists(out_dir):\n",
    "    os.makedirs(out_dir)\n",
    "print(len(data['itemListElement']))"
   ]
  },
  {
   "cell_type": "code",
   "execution_count": 31,
   "metadata": {},
   "outputs": [],
   "source": [
    "def download_page_data(url, file_name):\n",
    "    driver = chrome_utils.initialize_driver()\n",
    "    \n",
    "    driver.get(url)\n",
    "    time.sleep(5)\n",
    "\n",
    "    # ページのHTMLを取得\n",
    "    page_html = driver.page_source\n",
    "\n",
    "    # HTMLをファイルに保存\n",
    "    with open(file_name, 'w', encoding='utf-8') as file:\n",
    "        file.write(page_html)\n",
    "\n",
    "    driver.quit()\n",
    "    time.sleep(30)    "
   ]
  },
  {
   "cell_type": "code",
   "execution_count": 32,
   "metadata": {},
   "outputs": [
    {
     "name": "stdout",
     "output_type": "stream",
     "text": [
      "../datas/html_recipes/item_pages/Mexican_Recipes/taquito-casserole-recipe-8673259.html\n",
      "../datas/html_recipes/item_pages/Mexican_Recipes/rajas-con-crema-recipe-8702355.html\n",
      "../datas/html_recipes/item_pages/Mexican_Recipes/arroz-verde-with-hatch-chiles-recipe-8651958.html\n",
      "../datas/html_recipes/item_pages/Mexican_Recipes/chicken-fajita-skillet-casserole-recipe-8701199.html\n",
      "../datas/html_recipes/item_pages/Mexican_Recipes/beef-birria-queso-tacos-with-consome.html\n",
      "../datas/html_recipes/item_pages/Mexican_Recipes/chicken-chalupas-recipe-8681727.html\n",
      "../datas/html_recipes/item_pages/Mexican_Recipes/chilaquiles-breakfast-casserole-recipe-8684756.html\n",
      "../datas/html_recipes/item_pages/Mexican_Recipes/creamy-mississippi-chicken-enchiladas-recipe-8678116.html\n",
      "../datas/html_recipes/item_pages/Mexican_Recipes/beef-enchilada-bake-recipe-8660926.html\n",
      "../datas/html_recipes/item_pages/Mexican_Recipes/strawberry-tres-leches-cake-recipe-8652738.html\n",
      "../datas/html_recipes/item_pages/Mexican_Recipes/black-bean-casserole-recipe-8653811.html\n",
      "../datas/html_recipes/item_pages/Mexican_Recipes/air-fryer-chicken-quesadillas-recipe-8651412.html\n",
      "../datas/html_recipes/item_pages/Mexican_Recipes/trout-tacos-recipe-8651121.html\n",
      "../datas/html_recipes/item_pages/Mexican_Recipes/air-fryer-quesadillas-recipe-8651442.html\n",
      "../datas/html_recipes/item_pages/Mexican_Recipes/pork-chile-verde-recipe-8642414.html\n",
      "../datas/html_recipes/item_pages/Mexican_Recipes/sheet-pan-quesadillas-recipe-8642141.html\n",
      "../datas/html_recipes/item_pages/Mexican_Recipes/black-bean-and-corn-quesadillas.html\n",
      "../datas/html_recipes/item_pages/Mexican_Recipes/simply-guacamole.html\n",
      "../datas/html_recipes/item_pages/Mexican_Recipes/microwave-mexican-rice-recipe-8638157.html\n",
      "../datas/html_recipes/item_pages/Mexican_Recipes/the-best-chimichangas-recipe-8637540.html\n",
      "../datas/html_recipes/item_pages/Mexican_Recipes/blackened-shrimp-tacos-with-pineapple-recipe-8629864.html\n",
      "../datas/html_recipes/item_pages/Mexican_Recipes/pork-chops-al-pastor-recipe-8623640.html\n",
      "../datas/html_recipes/item_pages/Mexican_Recipes/cafe-de-olla-recipe-8623781.html\n",
      "../datas/html_recipes/item_pages/Mexican_Recipes/cornbread-taco-bake-recipe-8623032.html\n",
      "../datas/html_recipes/item_pages/Mexican_Recipes/blackened-shrimp-tacos-recipe-8607466.html\n",
      "../datas/html_recipes/item_pages/Mexican_Recipes/what-is-birria-8598668.html\n",
      "../datas/html_recipes/item_pages/Mexican_Recipes/potato-soup-with-chorizo-recipe-8584977.html\n",
      "../datas/html_recipes/item_pages/Mexican_Recipes/te-de-canela-cinnamon-tea-recipe-8419185.html\n",
      "../datas/html_recipes/item_pages/Mexican_Recipes/mexican-street-corn-deviled-eggs-recipe-8405750.html\n",
      "../datas/html_recipes/item_pages/Mexican_Recipes/chilaquiles-with-homemade-tomato-sauce-recipe-8403873.html\n",
      "../datas/html_recipes/item_pages/Mexican_Recipes/the-best-easy-shrimp-enchiladas-recipe-8398887.html\n",
      "../datas/html_recipes/item_pages/Mexican_Recipes/salsa-macha-recipe-8386066.html\n",
      "../datas/html_recipes/item_pages/Mexican_Recipes/chicken-fajita-tacos-recipe-8384320.html\n",
      "../datas/html_recipes/item_pages/Mexican_Recipes/mild-taco-seasoning-recipe-8384097.html\n",
      "../datas/html_recipes/item_pages/Mexican_Recipes/chef-john-s-chicken-tortilla-soup-recipe-8378788.html\n",
      "../datas/html_recipes/item_pages/Mexican_Recipes/esquites-with-frozen-corn-recipe-7975802.html\n",
      "../datas/html_recipes/item_pages/Mexican_Recipes/teriyaki-steak-quesadillas-recipe-7972550.html\n",
      "../datas/html_recipes/item_pages/Mexican_Recipes/slow-cooker-posole.html\n",
      "../datas/html_recipes/item_pages/Mexican_Recipes/marranitos-mexican-pig-shaped-cookies.html\n",
      "../datas/html_recipes/item_pages/Mexican_Recipes/bunuelos.html\n",
      "../datas/html_recipes/item_pages/Mexican_Recipes/rotel-tacos-recipe-7853525.html\n",
      "../datas/html_recipes/item_pages/Mexican_Recipes/sweet-potato-and-black-bean-taco-cups-recipe-7567956.html\n",
      "../datas/html_recipes/item_pages/Mexican_Recipes/campfire-queso-recipe-7567853.html\n",
      "../datas/html_recipes/item_pages/Mexican_Recipes/fried-egg-tortilla-recipe-7561904.html\n",
      "../datas/html_recipes/item_pages/Mexican_Recipes/skillet-shrimp-fajitas-with-cilantro-lime-cream-recipe-7561267.html\n",
      "../datas/html_recipes/item_pages/Mexican_Recipes/easy-chicken-street-tacos-recipe-7564448.html\n",
      "../datas/html_recipes/item_pages/Mexican_Recipes/churro-cheesecake-bars-recipe-7554374.html\n",
      "../datas/html_recipes/item_pages/Mexican_Recipes/steak-burrito-recipe-7561794.html\n",
      "../datas/html_recipes/item_pages/Mexican_Recipes/agua-fresca-de-fresas-con-crema-strawberries-and-cream-recipe-7560919.html\n",
      "../datas/html_recipes/item_pages/Mexican_Recipes/chipotle-citrus-marinated-chicken-tacos-recipe-7553405.html\n",
      "../datas/html_recipes/item_pages/Mexican_Recipes/grilled-chicken-street-tacos-recipe-7553311.html\n",
      "../datas/html_recipes/item_pages/Mexican_Recipes/how-to-make-arroz-con-leche-recipe-7507398.html\n",
      "../datas/html_recipes/item_pages/Mexican_Recipes/drunken-baked-beans-frijoles-borrachos-recipe-7511596.html\n",
      "../datas/html_recipes/item_pages/Mexican_Recipes/mexican-pinwheels-recipe-7505052.html\n",
      "../datas/html_recipes/item_pages/Mexican_Recipes/pizza-tlayuda-recipe-7504105.html\n",
      "../datas/html_recipes/item_pages/Mexican_Recipes/breakfast-burrito-bowl-recipe-7501718.html\n",
      "../datas/html_recipes/item_pages/Mexican_Recipes/red-chicken-tamales-tamales-rojos-de-pollo.html\n",
      "../datas/html_recipes/item_pages/Mexican_Recipes/traditional-mexican-street-tacos.html\n",
      "../datas/html_recipes/item_pages/Mexican_Recipes/carnitas-pressure-cooker.html\n",
      "../datas/html_recipes/item_pages/Mexican_Recipes/shrimp-quesadillas.html\n",
      "../datas/html_recipes/item_pages/Mexican_Recipes/annes-chicken-chilaquiles-rojas.html\n",
      "../datas/html_recipes/item_pages/Mexican_Recipes/how-to-make-the-best-conchas-7371151.html\n",
      "../datas/html_recipes/item_pages/Mexican_Recipes/chef-johns-chicken-tinga.html\n",
      "../datas/html_recipes/item_pages/Mexican_Recipes/best-authentic-mexican-recipes.html\n",
      "../datas/html_recipes/item_pages/Mexican_Recipes/the-best-mexican-breakfast-recipes.html\n",
      "../datas/html_recipes/item_pages/Mexican_Recipes/unfamiliar-mexican-recipes-you-should-try.html\n",
      "../datas/html_recipes/item_pages/Mexican_Recipes/how-to-make-tamales.html\n",
      "../datas/html_recipes/item_pages/Mexican_Recipes/best-of-mexicos-oaxacan-cuisine.html\n"
     ]
    }
   ],
   "source": [
    "for item in data['itemListElement']:\n",
    "    parsed_url = urlparse(item['url'])\n",
    "    path = parsed_url.path\n",
    "\n",
    "    # 最後のパス部分を取得\n",
    "    last_part = path.strip(\"/\").split(\"/\")[-1]\n",
    "    output_file = f'{out_dir}{last_part}.html'\n",
    "    print(output_file)\n",
    "    if not os.path.exists(output_file):\n",
    "        time.sleep(120)\n",
    "        download_page_data(item['url'], output_file)\n",
    "        "
   ]
  },
  {
   "cell_type": "markdown",
   "metadata": {},
   "source": []
  },
  {
   "cell_type": "code",
   "execution_count": null,
   "metadata": {},
   "outputs": [],
   "source": []
  },
  {
   "cell_type": "code",
   "execution_count": null,
   "metadata": {},
   "outputs": [],
   "source": []
  }
 ],
 "metadata": {
  "kernelspec": {
   "display_name": "recipe-qa-3.10",
   "language": "python",
   "name": "python3"
  },
  "language_info": {
   "codemirror_mode": {
    "name": "ipython",
    "version": 3
   },
   "file_extension": ".py",
   "mimetype": "text/x-python",
   "name": "python",
   "nbconvert_exporter": "python",
   "pygments_lexer": "ipython3",
   "version": "3.10.0"
  }
 },
 "nbformat": 4,
 "nbformat_minor": 2
}
