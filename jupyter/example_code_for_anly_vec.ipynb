{
 "cells": [
  {
   "cell_type": "code",
   "execution_count": 2,
   "metadata": {},
   "outputs": [
    {
     "data": {
      "text/plain": [
       "True"
      ]
     },
     "execution_count": 2,
     "metadata": {},
     "output_type": "execute_result"
    }
   ],
   "source": [
    "from neo4j import GraphDatabase\n",
    "import pandas as pd\n",
    "from openai import OpenAI\n",
    "import numpy as np\n",
    "from gensim.models import Word2Vec\n",
    "import matplotlib.pyplot as plt\n",
    "from sklearn.decomposition import PCA\n",
    "import pandas as pd\n",
    "import networkx as nx\n",
    "import mysql.connector\n",
    "import json\n",
    "from collections import Counter\n",
    "import os\n",
    "import re\n",
    "from dotenv import load_dotenv\n",
    "load_dotenv()"
   ]
  },
  {
   "cell_type": "code",
   "execution_count": 5,
   "metadata": {},
   "outputs": [
    {
     "data": {
      "text/html": [
       "<div>\n",
       "<style scoped>\n",
       "    .dataframe tbody tr th:only-of-type {\n",
       "        vertical-align: middle;\n",
       "    }\n",
       "\n",
       "    .dataframe tbody tr th {\n",
       "        vertical-align: top;\n",
       "    }\n",
       "\n",
       "    .dataframe thead th {\n",
       "        text-align: right;\n",
       "    }\n",
       "</style>\n",
       "<table border=\"1\" class=\"dataframe\">\n",
       "  <thead>\n",
       "    <tr style=\"text-align: right;\">\n",
       "      <th></th>\n",
       "      <th>fatty</th>\n",
       "      <th>mild</th>\n",
       "      <th>faint</th>\n",
       "      <th>yeast</th>\n",
       "      <th>bread</th>\n",
       "      <th>baked</th>\n",
       "      <th>slightly_waxy</th>\n",
       "      <th>bitter</th>\n",
       "      <th>sweet</th>\n",
       "      <th>herbal</th>\n",
       "      <th>green</th>\n",
       "      <th>fennel</th>\n",
       "    </tr>\n",
       "  </thead>\n",
       "  <tbody>\n",
       "    <tr>\n",
       "      <th>0</th>\n",
       "      <td>0.569537</td>\n",
       "      <td>0.334838</td>\n",
       "      <td>0.0</td>\n",
       "      <td>0.277696</td>\n",
       "      <td>0.277696</td>\n",
       "      <td>0.277696</td>\n",
       "      <td>0.0</td>\n",
       "      <td>0.166366</td>\n",
       "      <td>0.058056</td>\n",
       "      <td>0.029518</td>\n",
       "      <td>0.029518</td>\n",
       "      <td>0.029518</td>\n",
       "    </tr>\n",
       "  </tbody>\n",
       "</table>\n",
       "</div>"
      ],
      "text/plain": [
       "      fatty      mild  faint     yeast     bread     baked  slightly_waxy  \\\n",
       "0  0.569537  0.334838    0.0  0.277696  0.277696  0.277696            0.0   \n",
       "\n",
       "     bitter     sweet    herbal     green    fennel  \n",
       "0  0.166366  0.058056  0.029518  0.029518  0.029518  "
      ]
     },
     "execution_count": 5,
     "metadata": {},
     "output_type": "execute_result"
    }
   ],
   "source": [
    "# サンプルデータ\n",
    "data = {\n",
    "    \"aroma_id\": [\n",
    "        \"fatty\", \"mild\", \"faint\", \"yeast\", \"bread\", \"baked\", \n",
    "        \"slightly_waxy\", \"bitter\", \"sweet\", \"herbal\", \"green\", \"fennel\"\n",
    "    ],\n",
    "    \"total_ratio\": [\n",
    "        0.569537, 0.334838, 0, 0.277696, 0.277696, \n",
    "        0.277696, 0, 0.166366, 0.058056, 0.029518, 0.029518, 0.029518\n",
    "    ]\n",
    "}\n",
    "df = pd.DataFrame(data)\n",
    "\n",
    "# aroma_id をカラム名に、total_ratio を値としたワンホットエンコーディング形式に変換\n",
    "one_hot_df = pd.DataFrame({row[\"aroma_id\"]: row[\"total_ratio\"] for _, row in df.iterrows()}, index=[0])\n",
    "\n",
    "# 結果を確認\n",
    "one_hot_df"
   ]
  },
  {
   "cell_type": "code",
   "execution_count": 8,
   "metadata": {},
   "outputs": [
    {
     "name": "stdout",
     "output_type": "stream",
     "text": [
      "[[0.569537 0.334838 0.       0.277696 0.277696 0.277696 0.       0.166366\n",
      "  0.058056 0.029518 0.029518 0.029518]]\n"
     ]
    }
   ],
   "source": [
    "print(one_hot_df.values)"
   ]
  },
  {
   "cell_type": "code",
   "execution_count": null,
   "metadata": {},
   "outputs": [],
   "source": [
    "## 画像のエンコーディング\n",
    "\n"
   ]
  }
 ],
 "metadata": {
  "kernelspec": {
   "display_name": "recipe-qa-3.10",
   "language": "python",
   "name": "python3"
  },
  "language_info": {
   "codemirror_mode": {
    "name": "ipython",
    "version": 3
   },
   "file_extension": ".py",
   "mimetype": "text/x-python",
   "name": "python",
   "nbconvert_exporter": "python",
   "pygments_lexer": "ipython3",
   "version": "3.10.0"
  }
 },
 "nbformat": 4,
 "nbformat_minor": 2
}
