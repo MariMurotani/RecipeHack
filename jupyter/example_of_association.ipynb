{
 "cells": [
  {
   "cell_type": "code",
   "execution_count": 17,
   "metadata": {},
   "outputs": [],
   "source": [
    "import networkx as nx\n",
    "import matplotlib.pyplot as plt\n",
    "import itertools\n",
    "import pandas as pd"
   ]
  },
  {
   "cell_type": "code",
   "execution_count": 33,
   "metadata": {},
   "outputs": [
    {
     "data": {
      "text/html": [
       "<div>\n",
       "<style scoped>\n",
       "    .dataframe tbody tr th:only-of-type {\n",
       "        vertical-align: middle;\n",
       "    }\n",
       "\n",
       "    .dataframe tbody tr th {\n",
       "        vertical-align: top;\n",
       "    }\n",
       "\n",
       "    .dataframe thead th {\n",
       "        text-align: right;\n",
       "    }\n",
       "</style>\n",
       "<table border=\"1\" class=\"dataframe\">\n",
       "  <thead>\n",
       "    <tr style=\"text-align: right;\">\n",
       "      <th></th>\n",
       "      <th>tomato</th>\n",
       "      <th>basil</th>\n",
       "      <th>mozzarella</th>\n",
       "      <th>olive_oil</th>\n",
       "    </tr>\n",
       "  </thead>\n",
       "  <tbody>\n",
       "    <tr>\n",
       "      <th>31260</th>\n",
       "      <td>0</td>\n",
       "      <td>0</td>\n",
       "      <td>1</td>\n",
       "      <td>1</td>\n",
       "    </tr>\n",
       "    <tr>\n",
       "      <th>65064</th>\n",
       "      <td>1</td>\n",
       "      <td>0</td>\n",
       "      <td>0</td>\n",
       "      <td>0</td>\n",
       "    </tr>\n",
       "    <tr>\n",
       "      <th>439341</th>\n",
       "      <td>0</td>\n",
       "      <td>1</td>\n",
       "      <td>0</td>\n",
       "      <td>0</td>\n",
       "    </tr>\n",
       "    <tr>\n",
       "      <th>644104</th>\n",
       "      <td>1</td>\n",
       "      <td>1</td>\n",
       "      <td>0</td>\n",
       "      <td>0</td>\n",
       "    </tr>\n",
       "    <tr>\n",
       "      <th>5281168</th>\n",
       "      <td>0</td>\n",
       "      <td>0</td>\n",
       "      <td>0</td>\n",
       "      <td>1</td>\n",
       "    </tr>\n",
       "  </tbody>\n",
       "</table>\n",
       "</div>"
      ],
      "text/plain": [
       "         tomato  basil  mozzarella  olive_oil\n",
       "31260         0      0           1          1\n",
       "65064         1      0           0          0\n",
       "439341        0      1           0          0\n",
       "644104        1      1           0          0\n",
       "5281168       0      0           0          1"
      ]
     },
     "execution_count": 33,
     "metadata": {},
     "output_type": "execute_result"
    }
   ],
   "source": [
    "# 材料データ\n",
    "# 各材料の\n",
    "data = {\n",
    "    'tomato': [1031, 644104, 1032, 527, 8723, 6184, 65064, 1068],\n",
    "    'basil': [644104, 31244, 527, 8723, 6184, 439341, 72, 1110],\n",
    "    'mozzarella': [1031, 1032, 6184, 1068, 31252, 31260, 72],\n",
    "    'olive_oil': [6184, 31260, 5281168, 8103]\n",
    "}\n",
    "\n",
    "# 全部のIDを取得してカラム名にする\n",
    "all_ids = set()\n",
    "for ids in data.values():\n",
    "    all_ids.update(ids)\n",
    "all_ids = sorted(all_ids)\n",
    "\n",
    "# フラグをたててマトリクスにする\n",
    "binary_df = pd.DataFrame(0, index=data.keys(), columns=all_ids)\n",
    "for ingredient, ids in data.items():\n",
    "    binary_df.loc[ingredient, ids] = 1\n",
    "\n",
    "\n",
    "binary_df = binary_df.transpose()\n",
    "binary_df.tail()"
   ]
  },
  {
   "cell_type": "code",
   "execution_count": 34,
   "metadata": {},
   "outputs": [
    {
     "name": "stdout",
     "output_type": "stream",
     "text": [
      "Top 5 nodes by degree:\n",
      "Node 72: Degree 0\n",
      "Node 527: Degree 0\n",
      "Node 1031: Degree 0\n",
      "Node 1032: Degree 0\n",
      "Node 1068: Degree 0\n"
     ]
    }
   ],
   "source": [
    "degree_dict = dict(G.degree())\n",
    "sorted_degrees = sorted(degree_dict.items(), key=lambda x: x[1], reverse=True)\n",
    "\n",
    "# 最も接続の多い上位5つのノードを表示\n",
    "print(\"Top 5 nodes by degree:\")\n",
    "for node, degree in sorted_degrees[:5]:\n",
    "    print(f\"Node {node}: Degree {degree}\")"
   ]
  },
  {
   "cell_type": "code",
   "execution_count": 35,
   "metadata": {},
   "outputs": [
    {
     "data": {
      "text/html": [
       "<div>\n",
       "<style scoped>\n",
       "    .dataframe tbody tr th:only-of-type {\n",
       "        vertical-align: middle;\n",
       "    }\n",
       "\n",
       "    .dataframe tbody tr th {\n",
       "        vertical-align: top;\n",
       "    }\n",
       "\n",
       "    .dataframe thead th {\n",
       "        text-align: right;\n",
       "    }\n",
       "</style>\n",
       "<table border=\"1\" class=\"dataframe\">\n",
       "  <thead>\n",
       "    <tr style=\"text-align: right;\">\n",
       "      <th></th>\n",
       "      <th>tomato</th>\n",
       "      <th>basil</th>\n",
       "      <th>mozzarella</th>\n",
       "      <th>olive_oil</th>\n",
       "    </tr>\n",
       "  </thead>\n",
       "  <tbody>\n",
       "    <tr>\n",
       "      <th>tomato</th>\n",
       "      <td>8</td>\n",
       "      <td>4</td>\n",
       "      <td>4</td>\n",
       "      <td>1</td>\n",
       "    </tr>\n",
       "    <tr>\n",
       "      <th>basil</th>\n",
       "      <td>4</td>\n",
       "      <td>8</td>\n",
       "      <td>2</td>\n",
       "      <td>1</td>\n",
       "    </tr>\n",
       "    <tr>\n",
       "      <th>mozzarella</th>\n",
       "      <td>4</td>\n",
       "      <td>2</td>\n",
       "      <td>7</td>\n",
       "      <td>2</td>\n",
       "    </tr>\n",
       "    <tr>\n",
       "      <th>olive_oil</th>\n",
       "      <td>1</td>\n",
       "      <td>1</td>\n",
       "      <td>2</td>\n",
       "      <td>4</td>\n",
       "    </tr>\n",
       "  </tbody>\n",
       "</table>\n",
       "</div>"
      ],
      "text/plain": [
       "            tomato  basil  mozzarella  olive_oil\n",
       "tomato           8      4           4          1\n",
       "basil            4      8           2          1\n",
       "mozzarella       4      2           7          2\n",
       "olive_oil        1      1           2          4"
      ]
     },
     "execution_count": 35,
     "metadata": {},
     "output_type": "execute_result"
    }
   ],
   "source": [
    "# 共起関係を計算\n",
    "co_occurrence = binary_df.T.dot(binary_df)\n",
    "co_occurrence"
   ]
  },
  {
   "cell_type": "code",
   "execution_count": 37,
   "metadata": {},
   "outputs": [
    {
     "data": {
      "image/png": "[encoded data removed]",
      "text/plain": [
       "<Figure size 640x480 with 1 Axes>"
      ]
     },
     "metadata": {},
     "output_type": "display_data"
    }
   ],
   "source": [
    "# ネットワークの作成\n",
    "G = nx.Graph()\n",
    "\n",
    "# ノードとエッジを追加\n",
    "for ingredient in co_occurrence.columns:\n",
    "    G.add_node(ingredient)\n",
    "\n",
    "for i, j in itertools.combinations(co_occurrence.columns, 2):\n",
    "    weight = co_occurrence.at[i, j]\n",
    "    if weight > 0:  # 共起頻度が0より大きい場合のみエッジを追加\n",
    "        G.add_edge(i, j, weight=weight)\n",
    "\n",
    "# ネットワークの描画\n",
    "pos = nx.spring_layout(G)\n",
    "nx.draw(G, pos, with_labels=True, font_weight='bold')\n",
    "\n",
    "# エッジのラベル（重み）を表示\n",
    "labels = nx.get_edge_attributes(G, 'weight')\n",
    "nx.draw_networkx_edge_labels(G, pos, edge_labels=labels)\n",
    "\n",
    "plt.show()"
   ]
  },
  {
   "cell_type": "code",
   "execution_count": null,
   "metadata": {},
   "outputs": [],
   "source": []
  }
 ],
 "metadata": {
  "kernelspec": {
   "display_name": "recipe-qa-3.10",
   "language": "python",
   "name": "python3"
  },
  "language_info": {
   "codemirror_mode": {
    "name": "ipython",
    "version": 3
   },
   "file_extension": ".py",
   "mimetype": "text/x-python",
   "name": "python",
   "nbconvert_exporter": "python",
   "pygments_lexer": "ipython3",
   "version": "3.10.0"
  }
 },
 "nbformat": 4,
 "nbformat_minor": 2
}
