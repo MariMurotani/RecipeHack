{
 "cells": [
  {
   "cell_type": "code",
   "execution_count": 1,
   "metadata": {},
   "outputs": [],
   "source": [
    "import re\n",
    "import json\n",
    "import requests\n",
    "import os\n",
    "import time"
   ]
  },
  {
   "cell_type": "code",
   "execution_count": 6,
   "metadata": {},
   "outputs": [],
   "source": [
    "# ../datas/item_pages/の一覧を取得する\n",
    "directory_path = '../datas/html_receipes/item_pages/'\n",
    "\n",
    "files = os.listdir(directory_path)"
   ]
  },
  {
   "cell_type": "code",
   "execution_count": 27,
   "metadata": {},
   "outputs": [],
   "source": [
    "def parse_recipe_json(file_path):\n",
    "    file_path = f'{directory_path}/{file_path}'  # HTMLファイルのパスを指定\n",
    "\n",
    "    with open(file_path, 'r', encoding='utf-8') as file:\n",
    "        html_content = file.read()\n",
    "\n",
    "    # <script>タグ内のJSONデータを正規表現で抽出\n",
    "    pattern = r'<script id=\"allrecipes-schema_1-0\"[^>]*type=\"application/ld\\+json\"[^>]*>(.*?)</script>'\n",
    "    match = re.search(pattern, html_content, re.DOTALL)\n",
    "    json_content = match.group(1).strip()\n",
    "    json_data = json.loads(json_content)\n",
    "    print(json_data[0])\n",
    "    for item in json_data[0]:\n",
    "        print(\"-----\")\n",
    "        print(item[\"recipeIngredient\"])\n",
    "        #print(json_content)\n",
    "        #print(json_content[\"recipeCategory\"])\n",
    "        #print(json_content[\"recipeCuisine\"])\n",
    "        #print(json_content[\"recipeIngredient\"])\n",
    "        #print(json_content[\"recipeInstructions\"])\n",
    "    "
   ]
  },
  {
   "cell_type": "code",
   "execution_count": 28,
   "metadata": {},
   "outputs": [
    {
     "name": "stdout",
     "output_type": "stream",
     "text": [
      "{'@context': 'http://schema.org', '@type': ['Recipe'], 'headline': 'Greek Beef Stuffed Onions (Salantourmasi)', 'datePublished': '2024-08-27T09:00:00.000-04:00', 'dateModified': '2024-09-05T17:40:56.577-04:00', 'author': [{'@type': 'Person', 'name': 'John Mitzewich', 'url': 'https://www.allrecipes.com/author/chef-john/'}], 'description': 'Chef John makes Greek beef stuffed onions—salantourmasi—for the first time, and the results are delicious. Onions are separated into layers, filled with Greek-seasoned beef and rice, and then slow-baked in a tomato-onion broth.', 'image': {'@type': 'ImageObject', 'url': 'https://www.allrecipes.com/thmb/VP2_i0liUEXF8TlKAfzUIDGaemw=/1500x0/filters:no_upscale():max_bytes(150000):strip_icc()/8699944_Greek-Beef-Stuffed-Onions_John-Mitzewich_4x3.2-40f079e6e344419c8d273057ef50c496.jpg', 'height': 1125, 'width': 1500}, 'video': {'@type': 'VideoObject', 'contentUrl': 'https://content.jwplatform.com/videos/e7FhPeAl-K3AjnAEN.mp4', 'description': 'In this video, learn how to make Chef John’s Greek Beef Stuffed Onions, a flavorful and hearty dish perfect for dinner or a snack. Watch as Chef John guides you through the process of preparing sweet onions filled with a savory mixture of seasoned ground beef, herbs, and spices, all baked to perfection. ', 'duration': 'PT9M35S', 'name': \"How to Make Chef John's Greek Beef Stuffed Onions\", 'thumbnailUrl': 'https://cdn.jwplayer.com/v2/media/e7FhPeAl/thumbnails/MtuCf8YB.jpg', 'uploadDate': '2024-08-26T12:14:01.629-04:00'}, 'publisher': {'@type': 'Organization', 'name': 'Allrecipes', 'url': 'https://www.allrecipes.com', 'logo': {'@type': 'ImageObject', 'url': 'https://www.allrecipes.com/thmb/Z9lwz1y0B5aX-cemPiTgpn5YB0k=/112x112/filters:no_upscale():max_bytes(150000):strip_icc()/allrecipes_logo_schema-867c69d2999b439a9eba923a445ccfe3.png', 'width': 112, 'height': 112}, 'brand': 'Allrecipes', 'publishingPrinciples': 'https://www.allrecipes.com/about-us-6648102#toc-editorial-guidelines', 'sameAs': ['https://www.facebook.com/allrecipes', 'https://www.instagram.com/allrecipes/', 'https://www.pinterest.com/allrecipes/', 'https://www.tiktok.com/@allrecipes', 'https://www.youtube.com/user/allrecipes/videos', 'https://twitter.com/Allrecipes', 'https://flipboard.com/@Allrecipes', 'https://en.wikipedia.org/wiki/Allrecipes.com', 'http://linkedin.com/company/allrecipes.com']}, 'name': 'Greek Beef Stuffed Onions (Salantourmasi)', 'aggregateRating': {'@type': 'AggregateRating', 'ratingValue': '4', 'ratingCount': '1'}, 'cookTime': 'PT170M', 'nutrition': {'@type': 'NutritionInformation', 'calories': '428 kcal', 'carbohydrateContent': '26 g', 'cholesterolContent': '76 mg', 'fiberContent': '4 g', 'proteinContent': '26 g', 'saturatedFatContent': '8 g', 'sodiumContent': '1676 mg', 'sugarContent': '10 g', 'fatContent': '25 g', 'unsaturatedFatContent': '0 g'}, 'prepTime': 'PT30M', 'recipeCategory': ['Dinner', 'Entree'], 'recipeCuisine': ['Greek'], 'recipeIngredient': ['4 large yellow onions, peeled', '1/4 cup olive oil', '1 pound ground beef, divided', '1 cup diced onions', '1 teaspoon freshly ground black pepper\\xa0', '2 teaspoons kosher salt', 'pinch cayenne', '4 garlic cloves, minced', '1 teaspoon dried oregano', '2 tablespoons tomato paste', '3/4 cup white long grain rice', '2 tablespoons red wine vinegar', '1 1/2 cups chicken broth', '1/3 cup crumbled Greek feta', '1/4 cup chopped fresh parsley', '1/4 cup chopped fresh mint', '1/4 cup chopped fresh oregano'], 'recipeInstructions': [{'@type': 'HowToStep', 'text': 'Cut 1 inch from each end of onions. Stand onion on a flat side, put the point of a sharp knife in the very center, and make 1 cut, straight down from top of onion to bottom.'}, {'@type': 'HowToStep', 'text': 'Bring a saucepan with 6 to 8 cups salted water to a simmer; add onions and simmer until they soften enough that layers can be easily separated, 20 to 30 minutes. Remove onions from water with a slotted spoon; let cool. Do not discard onion cooking water.'}, {'@type': 'HowToStep', 'text': 'Meanwhile, heat olive oil in a skillet over medium-high heat and add half the beef; cook and stir, breaking up beef with a spatula until browned and crumbly, about 5 minutes. Add 1 cup diced onions, black pepper, salt, and cayenne, and cook, stirring, until onions turn translucent, about 5 minutes.'}, {'@type': 'HowToStep', 'text': 'Add garlic, dried oregano, and tomato paste, and cook, stirring, for a few minutes. Add rice and stir until evenly coated. Add vinegar and chicken broth, lower heat to medium, and cook, stirring, until rice has absorbed all the liquid, about 20 minutes. Remove from heat, and let cool to room temperature, about 15 minutes.'}, {'@type': 'HowToStep', 'text': 'Add remaining beef, feta, parsley, mint and oregano to a bowl, along with cooled rice mixture. Mix thoroughly to combine. Refrigerate until needed.\\xa0'}, {'@type': 'HowToStep', 'text': 'For tomato broth, measure 4 cups onion cooking water into a saucepan; stir in tomato sauce and chicken bouillon paste. Bring to a simmer over high heat, reduce heat to low, and keep hot until needed.'}, {'@type': 'HowToStep', 'text': 'Preheat the oven to 375 degrees F (190 degrees C).'}, {'@type': 'HowToStep', 'text': 'Separate onion sections and set aside the best 18 pieces, ideally using the ones from the middle of the bulb that are long enough to cover the filling. If desired, tear or chop extra onion, and add to the bottom of a large baking dish.'}, {'@type': 'HowToStep', 'text': 'Add about 2 rounded tablespoons of filling to each onion section, and roll up to cover filling. Place stuffed onions in the baking dish, and ladle tomato broth over the dish. Cover with foil, and place on a sheet pan to catch drips.'}, {'@type': 'HowToStep', 'image': [{'@type': 'ImageObject', 'url': 'https://www.allrecipes.com/thmb/VP2_i0liUEXF8TlKAfzUIDGaemw=/1500x0/filters:no_upscale():max_bytes(150000):strip_icc()/8699944_Greek-Beef-Stuffed-Onions_John-Mitzewich_4x3.2-40f079e6e344419c8d273057ef50c496.jpg'}], 'text': 'Bake in the preheated oven for 1 hour. Remove foil and continue baking, uncovered, until onions are tender, and filling is fully cooked, about 1 hour more. If the dish appears too dry, you can place foil back on. Let rest 10 minutes before serving.'}], 'recipeYield': ['6'], 'totalTime': 'PT240M', 'review': [{'@type': 'Review', 'reviewRating': {'@type': 'Rating', 'ratingValue': '4'}, 'author': {'@type': 'Person', 'name': 'Kathey'}, 'reviewBody': 'Almost like making cabbage rolls..Very good with the onion flavor..', 'datePublished': '2024-09-21T01:31:55.420Z'}], 'mainEntityOfPage': {'@type': ['WebPage'], '@id': 'https://www.allrecipes.com/greek-beef-stuffed-onions-salantourmasi-recipe-8699944', 'breadcrumb': {'@type': 'BreadcrumbList', 'itemListElement': [{'@type': 'ListItem', 'position': 1, 'item': {'@id': 'https://www.allrecipes.com/recipes/86/world-cuisine/', 'name': 'Cuisine'}}, {'@type': 'ListItem', 'position': 2, 'item': {'@id': 'https://www.allrecipes.com/recipes/231/world-cuisine/european/', 'name': 'European'}}, {'@type': 'ListItem', 'position': 3, 'item': {'@id': 'https://www.allrecipes.com/recipes/731/world-cuisine/european/greek/', 'name': 'Greek'}}, {'@type': 'ListItem', 'position': 4, 'item': {'@id': 'https://www.allrecipes.com/recipes/17152/world-cuisine/european/greek/main-dishes/', 'name': 'Main Dishes'}}]}}}\n",
      "-----\n"
     ]
    },
    {
     "ename": "TypeError",
     "evalue": "string indices must be integers",
     "output_type": "error",
     "traceback": [
      "\u001b[0;31m---------------------------------------------------------------------------\u001b[0m",
      "\u001b[0;31mTypeError\u001b[0m                                 Traceback (most recent call last)",
      "Cell \u001b[0;32mIn[28], line 2\u001b[0m\n\u001b[1;32m      1\u001b[0m \u001b[38;5;28;01mfor\u001b[39;00m file_path \u001b[38;5;129;01min\u001b[39;00m files:\n\u001b[0;32m----> 2\u001b[0m     \u001b[43mparse_recipe_json\u001b[49m\u001b[43m(\u001b[49m\u001b[43mfile_path\u001b[49m\u001b[43m)\u001b[49m\n\u001b[1;32m      3\u001b[0m     \u001b[38;5;28;01mbreak\u001b[39;00m\n",
      "Cell \u001b[0;32mIn[27], line 15\u001b[0m, in \u001b[0;36mparse_recipe_json\u001b[0;34m(file_path)\u001b[0m\n\u001b[1;32m     13\u001b[0m \u001b[38;5;28;01mfor\u001b[39;00m item \u001b[38;5;129;01min\u001b[39;00m json_data[\u001b[38;5;241m0\u001b[39m]:\n\u001b[1;32m     14\u001b[0m     \u001b[38;5;28mprint\u001b[39m(\u001b[38;5;124m\"\u001b[39m\u001b[38;5;124m-----\u001b[39m\u001b[38;5;124m\"\u001b[39m)\n\u001b[0;32m---> 15\u001b[0m     \u001b[38;5;28mprint\u001b[39m(\u001b[43mitem\u001b[49m\u001b[43m[\u001b[49m\u001b[38;5;124;43m\"\u001b[39;49m\u001b[38;5;124;43mrecipeIngredient\u001b[39;49m\u001b[38;5;124;43m\"\u001b[39;49m\u001b[43m]\u001b[49m)\n",
      "\u001b[0;31mTypeError\u001b[0m: string indices must be integers"
     ]
    }
   ],
   "source": [
    "for file_path in files:\n",
    "    parse_recipe_json(file_path)\n",
    "    break"
   ]
  },
  {
   "cell_type": "code",
   "execution_count": null,
   "metadata": {},
   "outputs": [],
   "source": []
  }
 ],
 "metadata": {
  "kernelspec": {
   "display_name": "recipe-qa-3.10",
   "language": "python",
   "name": "python3"
  },
  "language_info": {
   "codemirror_mode": {
    "name": "ipython",
    "version": 3
   },
   "file_extension": ".py",
   "mimetype": "text/x-python",
   "name": "python",
   "nbconvert_exporter": "python",
   "pygments_lexer": "ipython3",
   "version": "3.10.0"
  }
 },
 "nbformat": 4,
 "nbformat_minor": 2
}
