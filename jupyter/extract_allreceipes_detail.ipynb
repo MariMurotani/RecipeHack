{
 "cells": [
  {
   "cell_type": "code",
   "execution_count": 1,
   "metadata": {},
   "outputs": [],
   "source": [
    "import re\n",
    "import json\n",
    "import requests\n",
    "import os\n",
    "import time"
   ]
  },
  {
   "cell_type": "code",
   "execution_count": 2,
   "metadata": {},
   "outputs": [],
   "source": [
    "# ../datas/item_pages/の一覧を取得する\n",
    "directory_path = '../datas/html_recipes/item_pages/Vegetable_Recipes'\n",
    "output_path = '../datas/html_recipes/out_jsons/'\n",
    "output_file_name = f'{output_path}Vegetable_Recipes.json'\n",
    "prompt_template = \"What do you cock with beef?\"\n",
    "\n",
    "files = os.listdir(directory_path)"
   ]
  },
  {
   "cell_type": "code",
   "execution_count": 3,
   "metadata": {},
   "outputs": [],
   "source": [
    "def replace_unicode_in_json(data):\n",
    "    if isinstance(data, dict):\n",
    "        return {key: replace_unicode_in_json(value) for key, value in data.items()}\n",
    "    elif isinstance(data, list):\n",
    "        return [replace_unicode_in_json(item) for item in data]\n",
    "    elif isinstance(data, str):\n",
    "        return data.encode('utf-8').decode('unicode_escape').replace(\"®\", \"\")\n",
    "    else:\n",
    "        return data"
   ]
  },
  {
   "cell_type": "code",
   "execution_count": 4,
   "metadata": {},
   "outputs": [],
   "source": [
    "def parse_recipe_json(file_path):\n",
    "    file_path = f'{directory_path}/{file_path}'  # HTMLファイルのパスを指定\n",
    "\n",
    "    with open(file_path, 'r', encoding='utf-8') as file:\n",
    "        html_content = file.read()\n",
    "\n",
    "    # <script>タグ内のJSONデータを正規表現で抽出\n",
    "    pattern = r'<script id=\"allrecipes-schema_1-0\"[^>]*type=\"application/ld\\+json\"[^>]*>(.*?)</script>'\n",
    "    match = re.search(pattern, html_content, re.DOTALL)\n",
    "    json_content = match.group(1).strip()\n",
    "    json_data = json.loads(json_content)\n",
    "\n",
    "    item_result = {}\n",
    "    for index in range(len(json_data)):\n",
    "        item = json_data[index]\n",
    "        \n",
    "        instructions = []\n",
    "\n",
    "        for index2 in range(len(item.get(\"recipeInstructions\", []))):\n",
    "            instructions.append(item.get(\"recipeInstructions\")[index2].get(\"text\"))\n",
    "        \n",
    "        item_result = {\n",
    "            \"id\": \"\",\n",
    "            \"title\": replace_unicode_in_json(item.get(\"name\", \"\")),\n",
    "            \"prompt\": prompt_template,\n",
    "            \"ingredients\": replace_unicode_in_json(item.get(\"recipeIngredient\")),\n",
    "            \"instructions\": replace_unicode_in_json(instructions)\n",
    "            \n",
    "        }\n",
    "    return item_result"
   ]
  },
  {
   "cell_type": "code",
   "execution_count": 5,
   "metadata": {},
   "outputs": [
    {
     "name": "stdout",
     "output_type": "stream",
     "text": [
      "68\n"
     ]
    }
   ],
   "source": [
    "json_result = []\n",
    "for file_path in files:\n",
    "    item_result = parse_recipe_json(file_path)\n",
    "    json_result.append(item_result)\n",
    "    \n",
    "print(len(json_result))"
   ]
  },
  {
   "cell_type": "code",
   "execution_count": 6,
   "metadata": {},
   "outputs": [],
   "source": [
    "with open(output_file_name, \"w\") as f:\n",
    "    output = json.dumps(json_result, ensure_ascii=False, indent=4)\n",
    "    f.write(output)"
   ]
  },
  {
   "cell_type": "code",
   "execution_count": null,
   "metadata": {},
   "outputs": [],
   "source": []
  }
 ],
 "metadata": {
  "kernelspec": {
   "display_name": "recipe-qa-3.10",
   "language": "python",
   "name": "python3"
  },
  "language_info": {
   "codemirror_mode": {
    "name": "ipython",
    "version": 3
   },
   "file_extension": ".py",
   "mimetype": "text/x-python",
   "name": "python",
   "nbconvert_exporter": "python",
   "pygments_lexer": "ipython3",
   "version": "3.10.0"
  }
 },
 "nbformat": 4,
 "nbformat_minor": 2
}
