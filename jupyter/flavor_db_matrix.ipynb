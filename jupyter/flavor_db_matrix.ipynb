{
 "cells": [
  {
   "cell_type": "code",
   "execution_count": 136,
   "metadata": {},
   "outputs": [],
   "source": [
    "import networkx as nx\n",
    "import matplotlib.pyplot as plt\n",
    "import pandas as pd\n",
    "import ast"
   ]
  },
  {
   "cell_type": "code",
   "execution_count": 137,
   "metadata": {},
   "outputs": [],
   "source": [
    "molecules = pd.read_csv('../datas/molecules.csv', names=['id', 'none', 'pubchem_id', 'common_name', 'flavor_profile'], index_col='pubchem_id')\n",
    "molecules.drop(['id', 'none'], axis=1, inplace=True)\n",
    "flavor_db = pd.read_csv('../datas/flavordb.csv', names=['id', 'entry_id', 'alias', 'synonyms', 'scientific_name', 'category', 'molecules'], index_col='entry_id')\n",
    "flavor_db.drop(['id'], axis=1, inplace=True)"
   ]
  },
  {
   "cell_type": "code",
   "execution_count": 138,
   "metadata": {},
   "outputs": [
    {
     "name": "stdout",
     "output_type": "stream",
     "text": [
      "600種類\n",
      "{'', 'peanut', 'old wood', 'maple', 'syrup', 'hawthorn', 'must', 'aromatic', 'black tea', 'gooseberry', 'saffron', 'ripe', 'storax', 'raspberry', 'rubbery', 'rose dried', 'mousy', 'labdanum', 'malt', 'gardenia', 'mango', 'medicine', 'resinous', 'slightly waxy', 'cauliflower', 'green tea', 'resin', 'dust', 'musky', 'toluene', 'leather', 'paper', 'petitgrain', 'urine', 'earth', 'vanillin', 'harsh', 'pear', 'cat-urine', 'menthol', 'very mild', 'shellfish', 'weak spice', 'melon', 'peppery', 'terpenic', 'fish', 'very strong', 'juicy', 'paint', 'coconut', 'tomato', 'chamomile', 'smoke', 'flat', 'beef', 'plastic', 'mimosa', 'leaf', 'rummy', 'decomposing cabbage', 'leafy', 'guaiacwood', 'opoponax', 'cream', 'popcorn', 'clover', 'biscuit', 'parsley', 'almond', 'rotting', 'unripe fruit', 'sweaty', 'patchouli', 'citrus peel', 'almond shell', 'caramel', 'rose acetate', 'solvent', 'nutty', 'muguet', 'unripe plum', 'cinnamon', 'toffee', 'alkaline', 'marshmallow', 'orange flower', 'fragrant', 'jasmine', 'wine', 'rose water', 'iris', 'beany', 'smoky', 'petal', 'estery', 'ripe apricot', 'gravy', 'grassy', 'lilac', 'hot milk', 'red hots', 'alcoholic', 'hyacinth', 'papaya', 'wintergreen', 'bergamot', 'coumarinic', 'woody', 'oakmoss', 'mandarin', 'fecal', 'bean', 'lard', 'marigold', 'fried', 'cyclamen', 'raw', 'metallic', 'slightly rose', 'roasted peanuts', 'balsam', 'clean clothes', 'jam', 'acrylic', 'licorice', 'cortex', 'beefy', 'dried raspberry', 'violet', 'delicate', 'vinous', 'fruit', 'amine', 'soap', 'allspice', 'painty', 'diphenyl oxide', 'whiskey', 'toasted', 'sassafrass', 'alkane', 'aldehydic', 'lily', 'gasoline', 'bitter', 'sweat', 'cotton candy', 'medicinal', 'sappy', 'lettuce', 'penetrating', 'tutti frutti', 'chip', 'spearmint', 'hawthorne', 'fat', 'acetoin', 'ester', 'chrysanthemum', 'mildew', 'lovage', 'dry', 'apple skin', 'soy', 'pepper', 'cinnamic', 'molasses', 'powdery', 'musk', 'weak', 'honeydew', 'absolute', 'fatty', 'sickening', 'minty', 'carnation', 'potato', 'alcohol', 'mint', 'roast beef', 'rosy', 'narcissus', 'rose bud', 'mossy', 'wine-lee', 'rooty', 'cuminseed', 'milky', 'wine_like', 'genet', 'garlic', 'fermented', 'meat', 'chicken', 'red fruit', 'broccoli', 'anise', 'cardboard', 'guaiacol', 'mothball', 'taco', 'ylang', 'ocimene', 'feet', 'stinky', 'clary', 'tangy', 'apple', 'dewy', 'burnt sugar', 'eugenol', 'peanut butter', 'grapefruit peel', 'acacia', 'gassy', 'egg', 'box tree', 'sulfury', 'filbert', 'nutmeg', 'burnt', 'pyridine', 'oriental', 'oil', 'laundered cloths', 'pulpy', 'watercress', 'eucalyptus', 'lime', 'mold', 'prune', 'ozone', 'others', 'clean cloth', 'pumpkin', 'malty', 'arrack', 'tar', 'cassia', 'moth ball', 'thuja', 'peppermint', 'fresh air', 'unripe banana', 'amber', 'pear skin', 'brown', 'indole', 'pastry', 'clean', 'laundry', 'carrot', 'cucumber', 'cooked potato', 'green bean', 'roasted meat', 'low', 'cantaloupe', 'camphoreous', 'pleasant', 'tea', 'camomile', 'lavender', 'orris', 'fresh', 'cheese', 'nut skin', 'fir', 'crushed bug', 'cucumber skin', 'terpentine', 'benzaldehyde', 'earthy', 'soup', 'moss', 'tomato leaf', 'hay', 'sulfur', 'lamb', 'dirty', 'diterpene', 'overripe fruit', 'dusty', 'ammonia', 'blackcurrant', 'ketonic', 'boiled shrimp', 'fishy', 'baked', 'boiled vegetable', 'butter', 'buchu', 'bread', 'linalool', 'outdoor', 'vinegar', 'balsamic', 'mesquite', 'clove', 'orange blossom', 'cinnamyl', 'sarsaparilla', 'tarry', 'buttery', 'banana', 'skunky', 'rose flower', 'light', 'cananga', 'putrid', 'burnt almonds', 'acrylate', 'sweet-like', 'pungent', 'magnolia', 'flavor profile', 'glue', 'scallion', 'bay oil', 'heavy', 'repulsive', 'winey', 'jasmin', 'catty', 'mignonette', 'sandalwood', 'warm', 'vegetable', 'tonka', 'walnut', 'bloody', 'basil', 'sweet corn', 'cat', 'acetic', 'chemical', 'wet', 'rose oxide', 'citric', 'cocoa', 'grape skin', 'sausage', 'soapy', 'pineapple', 'cut grass', 'pine', 'jammy', 'medical', 'pine needle', 'benzyl acetate', 'leaves', 'terpene', 'ionone', 'rose', 'watery', 'intensely', 'lemon', 'lemongrass', 'soft', 'cheesy', 'roast', 'mustard', 'cashew', 'stem', 'seedy', 'ethyl benzoate', 'cistus', 'nitrile', 'faint', 'powerful', 'sulfurous', 'moldy', 'roasted nut', 'soil', 'very slight', 'bitter almond', 'spicy', 'cranberry', 'weedy', 'nut', 'apricot', 'peach', 'celery', 'apple peel', 'black currant', 'grapefruit', 'styrene', 'hop_oil', 'pea', 'matches', 'herb', 'unpleasant', 'herbal', 'blossom', 'barley', 'odorless', 'phenol', 'castoreum', 'galbanum', 'heliotropin', 'rum', 'acetone', 'coriander', 'cool', 'beet', 'thyme', 'logenberry', 'foliage', 'truffle', 'roquefort cheese', 'naphthelene', 'cotton', 'heliotrope', 'asprin', 'metal', 'tropical', 'clam', 'curry', 'lactonic', 'fenchyl', 'wood', 'ginger', 'ham', 'floral', 'peely', 'myrrh', 'cooling', 'corn', 'hazelnut', 'greasy', 'furfural', 'bois de rose', 'butyric', 'citrus', 'honey', 'borneol', 'lemon peel', 'horseradish', 'ammoniacal', 'deep', 'maple syrup', 'naphthyl', 'cooked beef juice', 'cumin', 'spice', 'acrid', 'coffee', 'fir needle', 'tropica', 'ether', 'citral', 'smoked', 'ethereal', 'candy', 'pork', 'creosote', 'cassie', 'fenugreek', 'new mown hay', 'damascone', 'mentholic', 'acetophenone', 'angelica', 'soybean', 'butterscotch', 'grape', 'fusel', 'orange', 'vanilla', 'brandy', 'savory', 'cut privet', 'bouillon', 'cedarwood', 'radish', 'rancid', 'grass', 'leathery', 'mild', 'cultured dairy', 'sugar', 'red rose', 'aniseed', 'rotten', 'peony', 'roasted', 'blueberry', 'natural', 'seaweed', 'mouldy', 'sour', 'wax', 'rosemary', 'honeysuckle', 'alliaceous', 'fruity', 'dill', 'incense', 'yeasty', 'tobacco', 'dairy', 'coumarin', 'tuberose', 'cereal', 'styrax', 'leek', 'sharp', 'flower', 'bell', 'mushroom', 'thymol', 'cedar', 'cedarleaf', 'strawberry', 'cognac', 'myrcene', 'orange peel', 'melon rind', 'turnup', 'meat broth', 'pistachio', 'anisic', 'roasted nuts', 'acid', 'watermelon', 'camphoraceous', 'creamy', 'green', 'blackberry', 'bread crust', 'strong', 'rhubarb', 'geranium', 'tarragon', 'bacon', 'formyl', 'bready', 'valerian', 'broom', 'extremely sweet', 'orchid', 'linden', 'thujone', 'ambergris', 'animal', 'milk', 'caraway', 'passion fruit', 'grain', 'terpineol', 'plum', 'caramellic', 'hummus', 'shrimp', 'violet-leaf', 'cooked', 'tallow', 'old paper', 'onion', 'cresol', 'beer', 'tart', 'civet', 'cabbage', 'kiwi', 'berry', 'root', 'dried berry', 'green pepper', 'fennel', 'waxy', 'rubber', 'wild', 'musty', 'sweet', 'neroli', 'bland', 'cadaverous', 'mahogany', 'straw', 'privet', 'camphor', 'slightly fruity', 'chocolate', 'heather', 'naphthalic', 'turpentine', 'benzyl propionate', 'phenolic', 'fungal', 'meaty', 'plant', 'banana peel', 'oily', 'herbaceous', 'cherry', 'acidic', 'wasabi', 'yeast'}\n"
     ]
    }
   ],
   "source": [
    "# Make all list of all flavors\n",
    "all_flavors = molecules['flavor_profile'].apply(lambda x: x.replace(\"'\", \"\").strip('{}').split(', ')).tolist()\n",
    "unique_flavors = set([flavor for flavors in all_flavors for flavor in flavors])\n",
    "print(f\"{len(unique_flavors)}種類\")\n",
    "print(unique_flavors)"
   ]
  },
  {
   "cell_type": "code",
   "execution_count": 139,
   "metadata": {},
   "outputs": [
    {
     "data": {
      "text/html": [
       "<div>\n",
       "<style scoped>\n",
       "    .dataframe tbody tr th:only-of-type {\n",
       "        vertical-align: middle;\n",
       "    }\n",
       "\n",
       "    .dataframe tbody tr th {\n",
       "        vertical-align: top;\n",
       "    }\n",
       "\n",
       "    .dataframe thead th {\n",
       "        text-align: right;\n",
       "    }\n",
       "</style>\n",
       "<table border=\"1\" class=\"dataframe\">\n",
       "  <thead>\n",
       "    <tr style=\"text-align: right;\">\n",
       "      <th></th>\n",
       "      <th>common_name</th>\n",
       "      <th>flavor_profile</th>\n",
       "    </tr>\n",
       "    <tr>\n",
       "      <th>pubchem_id</th>\n",
       "      <th></th>\n",
       "      <th></th>\n",
       "    </tr>\n",
       "  </thead>\n",
       "  <tbody>\n",
       "    <tr>\n",
       "      <th>10340</th>\n",
       "      <td>Sodium Carbonate</td>\n",
       "      <td>odorless</td>\n",
       "    </tr>\n",
       "    <tr>\n",
       "      <th>24856</th>\n",
       "      <td>Potassium alum</td>\n",
       "      <td>odorless</td>\n",
       "    </tr>\n",
       "    <tr>\n",
       "      <th>24403</th>\n",
       "      <td>Tetrasodium Pyrophosphate</td>\n",
       "      <td>odorless</td>\n",
       "    </tr>\n",
       "  </tbody>\n",
       "</table>\n",
       "</div>"
      ],
      "text/plain": [
       "                          common_name flavor_profile\n",
       "pubchem_id                                          \n",
       "10340                Sodium Carbonate       odorless\n",
       "24856                  Potassium alum       odorless\n",
       "24403       Tetrasodium Pyrophosphate       odorless"
      ]
     },
     "execution_count": 139,
     "metadata": {},
     "output_type": "execute_result"
    }
   ],
   "source": [
    "molecules.tail(3)"
   ]
  },
  {
   "cell_type": "code",
   "execution_count": 140,
   "metadata": {},
   "outputs": [
    {
     "name": "stdout",
     "output_type": "stream",
     "text": [
      "35種類\n",
      "{'essential oil', 'vegetable stem', 'maize', 'dish', 'vegetable fruit', 'nut', 'vegetable root', 'cabbage', 'plant derivative', 'berry', 'additive', 'herb', 'fish', 'dairy', 'meat', 'bakery', 'cereal', 'beverage', 'seafood', 'vegetable', 'beverage caffeinated', 'flower', 'legume', 'seed', 'gourd', 'fruit', 'fruit essence', 'category', 'fungus', 'fruit citrus', 'plant', 'vegetable tuber', 'fruit-berry', 'beverage alcoholic', 'spice'}\n"
     ]
    }
   ],
   "source": [
    "# Make all list of all categories \n",
    "unique_categories = set([cate for cate in flavor_db['category']])\n",
    "print(f\"{len(unique_categories)}種類\")\n",
    "print(unique_categories)"
   ]
  },
  {
   "cell_type": "code",
   "execution_count": 141,
   "metadata": {},
   "outputs": [
    {
     "data": {
      "text/html": [
       "<div>\n",
       "<style scoped>\n",
       "    .dataframe tbody tr th:only-of-type {\n",
       "        vertical-align: middle;\n",
       "    }\n",
       "\n",
       "    .dataframe tbody tr th {\n",
       "        vertical-align: top;\n",
       "    }\n",
       "\n",
       "    .dataframe thead th {\n",
       "        text-align: right;\n",
       "    }\n",
       "</style>\n",
       "<table border=\"1\" class=\"dataframe\">\n",
       "  <thead>\n",
       "    <tr style=\"text-align: right;\">\n",
       "      <th></th>\n",
       "      <th>alias</th>\n",
       "      <th>synonyms</th>\n",
       "      <th>scientific_name</th>\n",
       "      <th>category</th>\n",
       "      <th>molecules</th>\n",
       "    </tr>\n",
       "    <tr>\n",
       "      <th>entry_id</th>\n",
       "      <th></th>\n",
       "      <th></th>\n",
       "      <th></th>\n",
       "      <th></th>\n",
       "      <th></th>\n",
       "    </tr>\n",
       "  </thead>\n",
       "  <tbody>\n",
       "    <tr>\n",
       "      <th>970</th>\n",
       "      <td>saskatoon berry</td>\n",
       "      <td>{'alder-leaf shadbush', 'western serviceberry'...</td>\n",
       "      <td>amelanchier</td>\n",
       "      <td>berry</td>\n",
       "      <td>{644104, 527, 8723, 31260, 15394, 6184, 439341...</td>\n",
       "    </tr>\n",
       "    <tr>\n",
       "      <th>971</th>\n",
       "      <td>nanking cherry</td>\n",
       "      <td>{'ando cherry', 'downy cherry', 'shanghai cher...</td>\n",
       "      <td>prunus cerasus</td>\n",
       "      <td>berry</td>\n",
       "      <td>{644104, 527, 8723, 31260, 15394, 6184, 439341...</td>\n",
       "    </tr>\n",
       "    <tr>\n",
       "      <th>972</th>\n",
       "      <td>japanese pumpkin</td>\n",
       "      <td>{'kabocha', 'japanese pumpkin'}</td>\n",
       "      <td>winter squash</td>\n",
       "      <td>fruit</td>\n",
       "      <td>{644104, 527, 8723, 31260, 15394, 6184, 439341...</td>\n",
       "    </tr>\n",
       "    <tr>\n",
       "      <th>977</th>\n",
       "      <td>guinea hen</td>\n",
       "      <td>{'pet speckled hen', 'original fowl', 'guinea ...</td>\n",
       "      <td>galliformes</td>\n",
       "      <td>meat</td>\n",
       "      <td>{644104, 1130}</td>\n",
       "    </tr>\n",
       "    <tr>\n",
       "      <th>978</th>\n",
       "      <td>cucurbita</td>\n",
       "      <td>{'cucurbita'}</td>\n",
       "      <td>cucurbita</td>\n",
       "      <td>gourd</td>\n",
       "      <td>{644104, 527, 8723, 31260, 15394, 6184, 65064,...</td>\n",
       "    </tr>\n",
       "  </tbody>\n",
       "</table>\n",
       "</div>"
      ],
      "text/plain": [
       "                     alias                                           synonyms  \\\n",
       "entry_id                                                                        \n",
       "970        saskatoon berry  {'alder-leaf shadbush', 'western serviceberry'...   \n",
       "971         nanking cherry  {'ando cherry', 'downy cherry', 'shanghai cher...   \n",
       "972       japanese pumpkin                    {'kabocha', 'japanese pumpkin'}   \n",
       "977             guinea hen  {'pet speckled hen', 'original fowl', 'guinea ...   \n",
       "978              cucurbita                                      {'cucurbita'}   \n",
       "\n",
       "         scientific_name category  \\\n",
       "entry_id                            \n",
       "970          amelanchier    berry   \n",
       "971       prunus cerasus    berry   \n",
       "972        winter squash    fruit   \n",
       "977          galliformes     meat   \n",
       "978            cucurbita    gourd   \n",
       "\n",
       "                                                  molecules  \n",
       "entry_id                                                     \n",
       "970       {644104, 527, 8723, 31260, 15394, 6184, 439341...  \n",
       "971       {644104, 527, 8723, 31260, 15394, 6184, 439341...  \n",
       "972       {644104, 527, 8723, 31260, 15394, 6184, 439341...  \n",
       "977                                          {644104, 1130}  \n",
       "978       {644104, 527, 8723, 31260, 15394, 6184, 65064,...  "
      ]
     },
     "execution_count": 141,
     "metadata": {},
     "output_type": "execute_result"
    }
   ],
   "source": [
    "flavor_db.tail(5)"
   ]
  },
  {
   "cell_type": "code",
   "execution_count": 142,
   "metadata": {},
   "outputs": [
    {
     "data": {
      "text/html": [
       "<div>\n",
       "<style scoped>\n",
       "    .dataframe tbody tr th:only-of-type {\n",
       "        vertical-align: middle;\n",
       "    }\n",
       "\n",
       "    .dataframe tbody tr th {\n",
       "        vertical-align: top;\n",
       "    }\n",
       "\n",
       "    .dataframe thead th {\n",
       "        text-align: right;\n",
       "    }\n",
       "</style>\n",
       "<table border=\"1\" class=\"dataframe\">\n",
       "  <thead>\n",
       "    <tr style=\"text-align: right;\">\n",
       "      <th></th>\n",
       "      <th>molecules</th>\n",
       "    </tr>\n",
       "    <tr>\n",
       "      <th>entry_id</th>\n",
       "      <th></th>\n",
       "    </tr>\n",
       "  </thead>\n",
       "  <tbody>\n",
       "    <tr>\n",
       "      <th>entity id</th>\n",
       "      <td>molecules</td>\n",
       "    </tr>\n",
       "    <tr>\n",
       "      <th>1</th>\n",
       "      <td>{27457, 7976, 31252, 26808, 22201, 26331}</td>\n",
       "    </tr>\n",
       "    <tr>\n",
       "      <th>2</th>\n",
       "      <td>{1031, 1032, 644104, 527, 8723, 31260, 15394, ...</td>\n",
       "    </tr>\n",
       "    <tr>\n",
       "      <th>3</th>\n",
       "      <td>{644104, 7824, 643731, 8468, 1049, 5372954, 80...</td>\n",
       "    </tr>\n",
       "    <tr>\n",
       "      <th>4</th>\n",
       "      <td>{6915, 5365891, 12170, 8082, 31251, 7958, 1049...</td>\n",
       "    </tr>\n",
       "    <tr>\n",
       "      <th>...</th>\n",
       "      <td>...</td>\n",
       "    </tr>\n",
       "    <tr>\n",
       "      <th>970</th>\n",
       "      <td>{644104, 527, 8723, 31260, 15394, 6184, 439341...</td>\n",
       "    </tr>\n",
       "    <tr>\n",
       "      <th>971</th>\n",
       "      <td>{644104, 527, 8723, 31260, 15394, 6184, 439341...</td>\n",
       "    </tr>\n",
       "    <tr>\n",
       "      <th>972</th>\n",
       "      <td>{644104, 527, 8723, 31260, 15394, 6184, 439341...</td>\n",
       "    </tr>\n",
       "    <tr>\n",
       "      <th>977</th>\n",
       "      <td>{644104, 1130}</td>\n",
       "    </tr>\n",
       "    <tr>\n",
       "      <th>978</th>\n",
       "      <td>{644104, 527, 8723, 31260, 15394, 6184, 65064,...</td>\n",
       "    </tr>\n",
       "  </tbody>\n",
       "</table>\n",
       "<p>936 rows × 1 columns</p>\n",
       "</div>"
      ],
      "text/plain": [
       "                                                   molecules\n",
       "entry_id                                                    \n",
       "entity id                                          molecules\n",
       "1                  {27457, 7976, 31252, 26808, 22201, 26331}\n",
       "2          {1031, 1032, 644104, 527, 8723, 31260, 15394, ...\n",
       "3          {644104, 7824, 643731, 8468, 1049, 5372954, 80...\n",
       "4          {6915, 5365891, 12170, 8082, 31251, 7958, 1049...\n",
       "...                                                      ...\n",
       "970        {644104, 527, 8723, 31260, 15394, 6184, 439341...\n",
       "971        {644104, 527, 8723, 31260, 15394, 6184, 439341...\n",
       "972        {644104, 527, 8723, 31260, 15394, 6184, 439341...\n",
       "977                                           {644104, 1130}\n",
       "978        {644104, 527, 8723, 31260, 15394, 6184, 65064,...\n",
       "\n",
       "[936 rows x 1 columns]"
      ]
     },
     "execution_count": 142,
     "metadata": {},
     "output_type": "execute_result"
    }
   ],
   "source": [
    "entry_molecules = flavor_db[['molecules']].apply(lambda x: x.replace(\"{\", \"[\").replace(\"}\",\"]\"))\n",
    "entry_molecules\n",
    "#entry_molecules = flavor_db.explode('molecules')\n",
    "#print(entry_molecules)"
   ]
  },
  {
   "cell_type": "code",
   "execution_count": 143,
   "metadata": {},
   "outputs": [
    {
     "ename": "TypeError",
     "evalue": "can't multiply sequence by non-int of type 'str'",
     "output_type": "error",
     "traceback": [
      "\u001b[0;31m---------------------------------------------------------------------------\u001b[0m",
      "\u001b[0;31mTypeError\u001b[0m                                 Traceback (most recent call last)",
      "\u001b[0;32m/var/folders/g4/fbyxhbrx6h3_4s4m15x3bly00000gn/T/ipykernel_73092/259508066.py\u001b[0m in \u001b[0;36m?\u001b[0;34m()\u001b[0m\n\u001b[1;32m      1\u001b[0m \u001b[0;31m# 共起関係を計算\u001b[0m\u001b[0;34m\u001b[0m\u001b[0;34m\u001b[0m\u001b[0m\n\u001b[0;32m----> 2\u001b[0;31m \u001b[0mco_occurrence\u001b[0m \u001b[0;34m=\u001b[0m \u001b[0mflavor_db\u001b[0m\u001b[0;34m.\u001b[0m\u001b[0mT\u001b[0m\u001b[0;34m.\u001b[0m\u001b[0mdot\u001b[0m\u001b[0;34m(\u001b[0m\u001b[0mflavor_db\u001b[0m\u001b[0;34m)\u001b[0m\u001b[0;34m\u001b[0m\u001b[0;34m\u001b[0m\u001b[0m\n\u001b[0m\u001b[1;32m      3\u001b[0m \u001b[0;34m\u001b[0m\u001b[0m\n\u001b[1;32m      4\u001b[0m \u001b[0;31m# ネットワークの作成\u001b[0m\u001b[0;34m\u001b[0m\u001b[0;34m\u001b[0m\u001b[0m\n\u001b[1;32m      5\u001b[0m \u001b[0mG\u001b[0m \u001b[0;34m=\u001b[0m \u001b[0mnx\u001b[0m\u001b[0;34m.\u001b[0m\u001b[0mGraph\u001b[0m\u001b[0;34m(\u001b[0m\u001b[0;34m)\u001b[0m\u001b[0;34m\u001b[0m\u001b[0;34m\u001b[0m\u001b[0m\n",
      "\u001b[0;32m~/.pyenv/versions/ETFFinance/lib/python3.10/site-packages/pandas/core/frame.py\u001b[0m in \u001b[0;36m?\u001b[0;34m(self, other)\u001b[0m\n\u001b[1;32m   1647\u001b[0m \u001b[0;34m\u001b[0m\u001b[0m\n\u001b[1;32m   1648\u001b[0m         \u001b[0;32mif\u001b[0m \u001b[0misinstance\u001b[0m\u001b[0;34m(\u001b[0m\u001b[0mother\u001b[0m\u001b[0;34m,\u001b[0m \u001b[0mDataFrame\u001b[0m\u001b[0;34m)\u001b[0m\u001b[0;34m:\u001b[0m\u001b[0;34m\u001b[0m\u001b[0;34m\u001b[0m\u001b[0m\n\u001b[1;32m   1649\u001b[0m             \u001b[0mcommon_type\u001b[0m \u001b[0;34m=\u001b[0m \u001b[0mfind_common_type\u001b[0m\u001b[0;34m(\u001b[0m\u001b[0mlist\u001b[0m\u001b[0;34m(\u001b[0m\u001b[0mself\u001b[0m\u001b[0;34m.\u001b[0m\u001b[0mdtypes\u001b[0m\u001b[0;34m)\u001b[0m \u001b[0;34m+\u001b[0m \u001b[0mlist\u001b[0m\u001b[0;34m(\u001b[0m\u001b[0mother\u001b[0m\u001b[0;34m.\u001b[0m\u001b[0mdtypes\u001b[0m\u001b[0;34m)\u001b[0m\u001b[0;34m)\u001b[0m\u001b[0;34m\u001b[0m\u001b[0;34m\u001b[0m\u001b[0m\n\u001b[1;32m   1650\u001b[0m             return self._constructor(\n\u001b[0;32m-> 1651\u001b[0;31m                 \u001b[0mnp\u001b[0m\u001b[0;34m.\u001b[0m\u001b[0mdot\u001b[0m\u001b[0;34m(\u001b[0m\u001b[0mlvals\u001b[0m\u001b[0;34m,\u001b[0m \u001b[0mrvals\u001b[0m\u001b[0;34m)\u001b[0m\u001b[0;34m,\u001b[0m\u001b[0;34m\u001b[0m\u001b[0;34m\u001b[0m\u001b[0m\n\u001b[0m\u001b[1;32m   1652\u001b[0m                 \u001b[0mindex\u001b[0m\u001b[0;34m=\u001b[0m\u001b[0mleft\u001b[0m\u001b[0;34m.\u001b[0m\u001b[0mindex\u001b[0m\u001b[0;34m,\u001b[0m\u001b[0;34m\u001b[0m\u001b[0;34m\u001b[0m\u001b[0m\n\u001b[1;32m   1653\u001b[0m                 \u001b[0mcolumns\u001b[0m\u001b[0;34m=\u001b[0m\u001b[0mother\u001b[0m\u001b[0;34m.\u001b[0m\u001b[0mcolumns\u001b[0m\u001b[0;34m,\u001b[0m\u001b[0;34m\u001b[0m\u001b[0;34m\u001b[0m\u001b[0m\n\u001b[1;32m   1654\u001b[0m                 \u001b[0mcopy\u001b[0m\u001b[0;34m=\u001b[0m\u001b[0;32mFalse\u001b[0m\u001b[0;34m,\u001b[0m\u001b[0;34m\u001b[0m\u001b[0;34m\u001b[0m\u001b[0m\n",
      "\u001b[0;31mTypeError\u001b[0m: can't multiply sequence by non-int of type 'str'"
     ]
    }
   ],
   "source": [
    "# 共起関係を計算\n",
    "co_occurrence = flavor_db.T.dot(flavor_db)\n",
    "\n",
    "# ネットワークの作成\n",
    "G = nx.Graph()\n",
    "\n",
    "# ノードとエッジを追加\n",
    "for ingredient in co_occurrence.columns:\n",
    "    G.add_node(ingredient)\n",
    "\n",
    "for i, j in itertools.combinations(co_occurrence.columns, 2):\n",
    "    weight = co_occurrence.at[i, j]\n",
    "    if weight > 0:  # 共起頻度が0より大きい場合のみエッジを追加\n",
    "        G.add_edge(i, j, weight=weight)\n",
    "\n",
    "# ネットワークの描画\n",
    "pos = nx.spring_layout(G)\n",
    "nx.draw(G, pos, with_labels=True, font_weight='bold')\n",
    "\n",
    "# エッジのラベル（重み）を表示\n",
    "labels = nx.get_edge_attributes(G, 'weight')\n",
    "nx.draw_networkx_edge_labels(G, pos, edge_labels=labels)\n",
    "\n",
    "plt.show()"
   ]
  },
  {
   "cell_type": "code",
   "execution_count": null,
   "metadata": {},
   "outputs": [],
   "source": []
  }
 ],
 "metadata": {
  "kernelspec": {
   "display_name": "recipe-qa",
   "language": "python",
   "name": "python3"
  },
  "language_info": {
   "codemirror_mode": {
    "name": "ipython",
    "version": 3
   },
   "file_extension": ".py",
   "mimetype": "text/x-python",
   "name": "python",
   "nbconvert_exporter": "python",
   "pygments_lexer": "ipython3",
   "version": "3.10.13"
  }
 },
 "nbformat": 4,
 "nbformat_minor": 2
}
