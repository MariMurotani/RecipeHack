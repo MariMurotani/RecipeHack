{
 "cells": [
  {
   "cell_type": "markdown",
   "metadata": {},
   "source": [
    "### formatted_json_recipeの内容をWv2向けのトークンにして保存する"
   ]
  },
  {
   "cell_type": "code",
   "execution_count": 75,
   "metadata": {},
   "outputs": [],
   "source": [
    "from neo4j import GraphDatabase\n",
    "import pandas as pd\n",
    "from openai import OpenAI\n",
    "import numpy as np\n",
    "from gensim.models import Word2Vec\n",
    "import matplotlib.pyplot as plt\n",
    "from sklearn.decomposition import PCA\n",
    "import pandas as pd\n",
    "import networkx as nx\n",
    "import json\n",
    "from collections import Counter\n",
    "import os\n",
    "from itertools import combinations\n",
    "from dowhy import CausalModel\n",
    "import re\n",
    "import matplotlib.pyplot as plt\n",
    "import seaborn as sns\n",
    "from dotenv import load_dotenv\n",
    "import warnings\n",
    "from typing import Optional, List, Tuple, Dict\n",
    "import numpy as np\n",
    "from dataclasses import dataclass\n",
    "from sklearn.preprocessing import MinMaxScaler\n",
    "\n",
    "load_dotenv()\n",
    "\n",
    "# NumPy関連のRuntimeWarningを無効化\n",
    "warnings.filterwarnings(\"ignore\", category=RuntimeWarning)"
   ]
  },
  {
   "cell_type": "code",
   "execution_count": 76,
   "metadata": {},
   "outputs": [],
   "source": [
    "# DB接続処理\n",
    "# Neo4jに接続\n",
    "uri = \"bolt://localhost:7687\"\n",
    "user = \"neo4j\"\n",
    "password = \"abcd7890\"\n",
    "\n",
    "# ドライバを作成\n",
    "driver = GraphDatabase.driver(uri, auth=(user, password))"
   ]
  },
  {
   "cell_type": "code",
   "execution_count": 77,
   "metadata": {},
   "outputs": [],
   "source": [
    "# トークン化して保存する\n",
    "def tokenize_save(key_name, sentences):\n",
    "    # NumPyの配列に変換\n",
    "    tokens = []\n",
    "    for sentence in sentences:\n",
    "        if sentence is None:\n",
    "            continue\n",
    "        \n",
    "        if isinstance(sentence, list):\n",
    "            sentence = \" \".join(sentence)\n",
    "            \n",
    "        # 小文字化し、特殊文字や句読点を削除してトークン化\n",
    "        words = re.findall(r'\\b[a-zA-Z0-9_]+\\b', sentence.lower())\n",
    "        tokens.append(words)\n",
    "        \n",
    "    np_sentences = np.array(tokens, dtype=object)\n",
    "\n",
    "    # NumPyの配列をdumpして保存\n",
    "    np.save(f\"../data/word2_vec/{key_name}.npy\", np_sentences)\n",
    "    with open(f\"../data/word2_vec/{key_name}.txt\", 'w') as f:\n",
    "        json.dump(tokens, f)"
   ]
  },
  {
   "cell_type": "code",
   "execution_count": 78,
   "metadata": {},
   "outputs": [],
   "source": [
    "# テキストフォーマットの指定\n",
    "def format_text(text):\n",
    "    if text is None:\n",
    "        return \"\"\n",
    "    text = text.replace('(', '_')\n",
    "    text = text.replace(')', '_')\n",
    "    text = text.replace(\"/\", '_')\n",
    "    text = text.replace(\";\", '_')\n",
    "    text = text.replace(\":\", '_')\n",
    "    text = text.replace(\"&\", '_')\n",
    "    text = text.replace(\"[\", '')\n",
    "    text = text.replace(\"]\", '')    \n",
    "    text = text.replace('\"', '')\n",
    "    text = text.replace('<', '')\n",
    "    text = text.replace('>', '')\n",
    "    text = text.replace(', ', ',')\n",
    "    text = text.replace('.', '')\n",
    "    text = text.replace(',', '_')\n",
    "    text = text.replace('-', ' ')\n",
    "    text = text.replace(' ', '_')\n",
    "    text = text.replace('\\n', '')\n",
    "    text = text.replace('%', '')\n",
    "    text = text.replace(\"'\", '')\n",
    "    text = text.replace(\"/t\", '')\n",
    "    text = text.replace(\"\\\\\", '')\n",
    "    text = text.replace(\"é\", '')\n",
    "    text = text.replace(\"ç\", '')\n",
    "    text = text.replace(\"+\", '')\n",
    "    text = text.replace(\"`\", '')\n",
    "    text = text.replace(\"`\", '')\n",
    "    text = text.replace(\"`\", '')\n",
    "    text = text.replace(\"`\", '')\n",
    "    text = text.replace(\"ã\", '')\n",
    "    text = text.replace(\"â\", '')\n",
    "    text = text.replace(\"ƒ\", '')\n",
    "    text = text.replace(\"€\", '')\n",
    "    text = text.replace('”', '')\n",
    "    text = text.replace('`', '')\n",
    "    text = text.replace('!', '')\n",
    "    text = text.replace('|', '')\n",
    "    text = text.replace(\"\\n\", \"\")\n",
    "    text = text.replace(\"\\r\", \"\")\n",
    "    text = re.sub(r'\\s+', '', text)\n",
    "    text = text.lower()\n",
    "    return text"
   ]
  },
  {
   "cell_type": "code",
   "execution_count": 79,
   "metadata": {},
   "outputs": [],
   "source": [
    "def find_food(tx, search_term):\n",
    "    find_food_query = \"\"\"\n",
    "    CALL db.index.fulltext.queryNodes(\"food_origin_index_text_search\", $search_term)\n",
    "    YIELD node, score as full_text_score\n",
    "    ORDER BY full_text_score DESC, size(node.name)\n",
    "    LIMIT 1\n",
    "    RETURN node.id as node_id, node.name as node_name, node.flavor_vector as flavor_vector, node.word_vector as word_vector, full_text_score    \n",
    "    \"\"\"\n",
    "    result = tx.run(find_food_query, search_term=search_term).data()\n",
    "    if result:\n",
    "        return result[0]\n",
    "        \n",
    "    return None"
   ]
  },
  {
   "cell_type": "code",
   "execution_count": 80,
   "metadata": {},
   "outputs": [
    {
     "name": "stdout",
     "output_type": "stream",
     "text": [
      "1325\n"
     ]
    }
   ],
   "source": [
    "new_json_data = {}\n",
    "with open(\"../data/formatted_json_recipe.json\", \"r\") as file:\n",
    "    new_json_data = json.load(file)\n",
    "print(len(new_json_data))"
   ]
  },
  {
   "cell_type": "code",
   "execution_count": 81,
   "metadata": {},
   "outputs": [],
   "source": [
    "new_rows = []\n",
    "counter = 0\n",
    "\n",
    "for key, row in new_json_data.items():\n",
    "    #counter += 1\n",
    "    #if counter > 10:\n",
    "    #    break\n",
    "    \n",
    "    if not row[\"ingredients\"]:  # 空リストのチェック\n",
    "        continue\n",
    "    \n",
    "    with driver.session() as session:\n",
    "        for ingri in row[\"ingredients\"]:\n",
    "            recipe = []\n",
    "            result = find_food(session, search_term=ingri)\n",
    "            if result:\n",
    "                # タプル形式でデータを追加\n",
    "                recipe.append(result[\"node_id\"])\n",
    "            new_rows.append(recipe)"
   ]
  },
  {
   "cell_type": "code",
   "execution_count": 82,
   "metadata": {},
   "outputs": [],
   "source": [
    "tokenize_save(\"formatted_recipe_ingridients\", new_rows)"
   ]
  }
 ],
 "metadata": {
  "kernelspec": {
   "display_name": "recipe-qa-3.10",
   "language": "python",
   "name": "python3"
  },
  "language_info": {
   "codemirror_mode": {
    "name": "ipython",
    "version": 3
   },
   "file_extension": ".py",
   "mimetype": "text/x-python",
   "name": "python",
   "nbconvert_exporter": "python",
   "pygments_lexer": "ipython3",
   "version": "3.10.0"
  }
 },
 "nbformat": 4,
 "nbformat_minor": 2
}
