{
 "cells": [
  {
   "cell_type": "code",
   "execution_count": 1,
   "metadata": {},
   "outputs": [
    {
     "data": {
      "text/plain": [
       "True"
      ]
     },
     "execution_count": 1,
     "metadata": {},
     "output_type": "execute_result"
    }
   ],
   "source": [
    "import pandas as pd\n",
    "import numpy as np\n",
    "import mysql.connector\n",
    "from openai import OpenAI\n",
    "import os\n",
    "import re\n",
    "import json \n",
    "from dotenv import load_dotenv\n",
    "load_dotenv()"
   ]
  },
  {
   "cell_type": "code",
   "execution_count": 2,
   "metadata": {},
   "outputs": [],
   "source": [
    "# ChatGPTを使うのでAPIキーを設定\n",
    "OPENAI_API_KEY = os.getenv(\"OPENAI_API_KEY\")\n",
    "gpt_client = OpenAI(\n",
    "    api_key=OPENAI_API_KEY\n",
    ")"
   ]
  },
  {
   "cell_type": "code",
   "execution_count": 3,
   "metadata": {},
   "outputs": [],
   "source": [
    "# ChatGPTを使って意味のある文章を生成する\n",
    "def get_gpt_result(prompt):\n",
    "    response = gpt_client.chat.completions.create(\n",
    "        model=\"gpt-3.5-turbo\",\n",
    "        messages=[{\"role\": \"user\", \"content\": prompt}]\n",
    "    )\n",
    "    return response.choices[0].message.content.strip()\n"
   ]
  },
  {
   "cell_type": "code",
   "execution_count": 4,
   "metadata": {},
   "outputs": [],
   "source": [
    "# DB接続処理\n",
    "# MySQLに接続\n",
    "connection = mysql.connector.connect(\n",
    "    host=\"localhost\",\n",
    "    user=\"root\",\n",
    "    password=\"password\",\n",
    "    database=\"foodb\"\n",
    ")"
   ]
  },
  {
   "cell_type": "code",
   "execution_count": 5,
   "metadata": {},
   "outputs": [],
   "source": [
    "# トークン化して保存する\n",
    "def tokenize_save(key_name, sentences):\n",
    "    # NumPyの配列に変換\n",
    "    tokens = []\n",
    "    for sentence in sentences:\n",
    "        if sentence is None:\n",
    "            continue\n",
    "        \n",
    "        if isinstance(sentence, list):\n",
    "            sentence = \" \".join(sentence)\n",
    "            \n",
    "        # 小文字化し、特殊文字や句読点を削除してトークン化\n",
    "        words = re.findall(r'\\b[a-zA-Z0-9_]+\\b', sentence.lower())\n",
    "        tokens.append(words)\n",
    "        \n",
    "    np_sentences = np.array(tokens, dtype=object)\n",
    "\n",
    "    # NumPyの配列をdumpして保存\n",
    "    np.save(f\"../datas/word2_vec/{key_name}.npy\", np_sentences)\n",
    "    with open(f\"../datas/word2_vec/{key_name}.txt\", 'w') as f:\n",
    "        json.dump(tokens, f)"
   ]
  },
  {
   "cell_type": "markdown",
   "metadata": {},
   "source": [
    "##### 食品グループ"
   ]
  },
  {
   "cell_type": "code",
   "execution_count": 6,
   "metadata": {},
   "outputs": [],
   "source": [
    "# テキストフォーマットの指定\n",
    "def format_text(text):\n",
    "    if text is None:\n",
    "        return \"\"\n",
    "    text = text.replace('(', '_')\n",
    "    text = text.replace(')', '_')\n",
    "    text = text.replace(', ', ',')\n",
    "    text = text.replace('.', '')\n",
    "    text = text.replace(',', '_')\n",
    "    text = text.replace('-', ' ')\n",
    "    text = text.replace(' ', '_')\n",
    "    text = text.replace('\\n', '')\n",
    "    text = text.replace('%', '')\n",
    "    text = text.replace(\"'\", '')\n",
    "    text = text.replace(\"/t\", '')\n",
    "    text = text.replace(\"\\\\\", '')\n",
    "    text = text.replace(\"é\", '')\n",
    "    text = text.replace(\"ç\", '')\n",
    "    text = text.replace(\"+\", '')\n",
    "    text = text.lower()\n",
    "    return text"
   ]
  },
  {
   "cell_type": "code",
   "execution_count": 7,
   "metadata": {},
   "outputs": [],
   "source": [
    "# 食品グループとサブグループの取得\n",
    "cursor = connection.cursor(dictionary=True)\n",
    "food_groups = []\n",
    "query = \"select food_group, food_subgroup from foods where food_group is not null group by food_group, food_subgroup\"\n",
    "cursor.execute(query)\n",
    "\n",
    "# 1行ずつ結果を取得\n",
    "for row in cursor.fetchall():\n",
    "    row[\"food_group\"] = format_text(row[\"food_group\"])\n",
    "    row[\"food_subgroup\"] = format_text(row[\"food_subgroup\"])\n",
    "    sentences = f\"{row['food_group']} include {row['food_subgroup']}\"\n",
    "    food_groups.append(sentences)\n",
    "    \n",
    "    prompt = f\"Generate a sentence that explains the relationship between `{row['food_group']}` and `{row['food_subgroup']}`. For example: '`{row['food_group']}` include `{row['food_subgroup']}` and are commonly used in various dishes for flavor.'\"\n",
    "    gpt_scentense = get_gpt_result(prompt)\n",
    "    food_groups.append(gpt_scentense)"
   ]
  },
  {
   "cell_type": "code",
   "execution_count": 8,
   "metadata": {},
   "outputs": [],
   "source": [
    "# 食品グループのデータを保存\n",
    "tokenize_save(\"food_groups\", food_groups)"
   ]
  },
  {
   "cell_type": "markdown",
   "metadata": {},
   "source": [
    "#### 食品データを保存"
   ]
  },
  {
   "cell_type": "code",
   "execution_count": 9,
   "metadata": {},
   "outputs": [],
   "source": [
    "# 食品データを保存\n",
    "cursor = connection.cursor(dictionary=True)\n",
    "cursor2 = connection.cursor(dictionary=True)\n",
    "foods = []\n",
    "query = \"\"\"\n",
    "select id, name as name, name_scientific, food_group, \n",
    "food_subgroup, category, description from foods\n",
    "\"\"\"\n",
    "cursor.execute(query)\n",
    "\n",
    "# 1行ずつ結果を取得\n",
    "all_items = cursor.fetchall()\n",
    "for item in all_items:\n",
    "    item['name'] = format_text(item['name'])\n",
    "    item['name_scientific'] = item['name_scientific']\n",
    "    item['category'] = format_text(item['category'])\n",
    "    item['food_group'] = format_text(item['food_group'])\n",
    "    item['food_subgroup'] = format_text(item['food_subgroup'])\n",
    "    item['description'] = item['description']\n",
    "    \n",
    "    sentence_text = []\n",
    "    \n",
    "    if item['category'] is not None and len(item['category']) > 0:\n",
    "        sentence_text.append(f\"{item['name']} or {item['name_scientific']} are a type of {item['category']}.\") \n",
    "        \n",
    "    if item['food_group'] is not None and len(item['food_group']) > 0:       \n",
    "        sentence_text.append(f\"{item['food_group']} is under the subgroup of {item['food_subgroup']}. \"),\n",
    "\n",
    "    if item['name'] is not None and len(item['name']) > 0:\n",
    "        sentence_text.append([item['name'], \"means\"].extend(item['name'].split('_')))\n",
    "    \n",
    "    # サブタイプを取得\n",
    "    query2 = f\"SELECT LOWER(orig_food_common_name) as orig_food_common_name FROM contents WHERE food_id = {item['id']} and orig_food_common_name !='None' GROUP BY orig_food_common_name\"\n",
    "    try:\n",
    "        cursor2.execute(query2)\n",
    "    except Exception as e:\n",
    "        print(\"Error:\", e)\n",
    "        pass\n",
    "        continue\n",
    "\n",
    "    for item2 in cursor2.fetchall():\n",
    "        item2['orig_food_common_name'] = format_text(item2['orig_food_common_name'])\n",
    "        sentence_text.append(f\"{item['name']} has subtypes like {item2['orig_food_common_name']}.\") \n",
    "        sentence_text.append(item2['orig_food_common_name'].split('_'))\n",
    "    \n",
    "    # GPT-3.5で追加の説明文を生成\n",
    "    prompt = f\"Can you tell me how the ingredient '{item['name']}' is generally used in cooking? If there are any interesting or unique uses, please provide examples.\"\n",
    "    gpt_sentence = get_gpt_result(prompt)\n",
    "    sentence_text.append(gpt_sentence)\n",
    "    foods.extend(sentence_text)"
   ]
  },
  {
   "cell_type": "code",
   "execution_count": 10,
   "metadata": {},
   "outputs": [],
   "source": [
    "# 食品グループのデータを保存\n",
    "tokenize_save(\"foods\", foods)"
   ]
  },
  {
   "cell_type": "code",
   "execution_count": 122,
   "metadata": {},
   "outputs": [],
   "source": [
    "# 食品SubTypeのデータを保存\n",
    "cursor = connection.cursor(dictionary=True)\n",
    "sub_foods = []\n",
    "query = \"\"\"\n",
    "SELECT \n",
    "    foods.name AS food_name, \n",
    "    foods.name_scientific AS food_name_scientific, \n",
    "    foods.food_group, \n",
    "    foods.food_subgroup, \n",
    "    contents.orig_food_common_name \n",
    "FROM \n",
    "    foods\n",
    "INNER JOIN \n",
    "    contents ON foods.id = contents.food_id \n",
    "WHERE \n",
    "    foods.name IS NOT NULL \n",
    "    AND contents.orig_food_common_name IS NOT NULL\n",
    "GROUP BY \n",
    "    foods.name, \n",
    "    foods.name_scientific, \n",
    "    foods.food_group, \n",
    "    foods.food_subgroup, \n",
    "    contents.orig_food_common_name;\n",
    "\"\"\"\n",
    "\n",
    "cursor.execute(query)\n",
    "\n",
    "# 1行ずつ結果を取得\n",
    "all_items = cursor.fetchall()\n",
    "for item in all_items:    \n",
    "    food_name = format_text(item[\"food_name\"])\n",
    "    orig_food_name = format_text(item[\"orig_food_common_name\"])\n",
    "    \n",
    "    sentences = []\n",
    "    sentences.append(f\"{food_name} has a sub_type of {orig_food_name}.\")\n",
    "    sentences.append(f\"{food_name} is {item['food_name']}.\")\n",
    "    sentences.append(f\"{orig_food_name} is {item['orig_food_common_name']}.\")\n",
    "    \n",
    "    # GPT-3.5で追加の説明文を生成\n",
    "    prompt = f\"Can you tell me how the ingredient '{food_name}' is generally used in cooking? If there are any interesting or unique uses, please provide examples.\"\n",
    "    gpt_sentence = get_gpt_result(prompt)\n",
    "    sentences.append(gpt_sentence)\n",
    "\n",
    "    sub_foods.extend(sentences)"
   ]
  },
  {
   "cell_type": "code",
   "execution_count": 123,
   "metadata": {},
   "outputs": [],
   "source": [
    "# 食品グループのデータを保存\n",
    "tokenize_save(\"food_sub_types\", sub_foods)"
   ]
  },
  {
   "cell_type": "markdown",
   "metadata": {},
   "source": [
    "#### 香りのデータを保存"
   ]
  },
  {
   "cell_type": "code",
   "execution_count": 131,
   "metadata": {},
   "outputs": [],
   "source": [
    " # 香りのデータを保存\n",
    "\n",
    "cursor = connection.cursor(dictionary=True)\n",
    "flavors = []\n",
    "query = \"select name, flavor_group, category from flavors where name is not null\"\n",
    "cursor.execute(query)\n",
    "\n",
    "# 1行ずつ結果を取得\n",
    "all_items = cursor.fetchall()\n",
    "for item in all_items:\n",
    "    flavor_name = format_text(item[\"name\"])\n",
    "    sentences.append(f\"{flavor_name} is {item['name']}\")\n",
    "    if item[\"category\"] is not None:\n",
    "        sentences.append(f\"{flavor_name} is a member of the {item['category']}\")\n",
    "    if item[\"flavor_group\"] is not None:\n",
    "        sentences.append(f\"{flavor_name} is a member of the {item['flavor_group']} group\")\n",
    "    \n",
    "    # GPT-3.5で追加の説明文を生成\n",
    "    prompt = f\"\"\"\n",
    "    Please describe the '{flavor_name}' flavor profile, \n",
    "    including its key characteristics and how it is generally perceived. Provide examples of foods or ingredients that have a '{flavor_name}' flavor.\n",
    "    \"\"\"\n",
    "    gpt_sentence = get_gpt_result(prompt)\n",
    "    sentences.append(gpt_sentence)\n",
    "\n",
    "flavors.extend(sentences)"
   ]
  },
  {
   "cell_type": "code",
   "execution_count": 132,
   "metadata": {},
   "outputs": [],
   "source": [
    "# 食品グループのデータを保存\n",
    "tokenize_save(\"flavors\", flavors)"
   ]
  },
  {
   "cell_type": "markdown",
   "metadata": {},
   "source": [
    "### 一般レシピのデータを保存"
   ]
  },
  {
   "cell_type": "code",
   "execution_count": 133,
   "metadata": {},
   "outputs": [],
   "source": [
    "# ディレクトリパスを指定\n",
    "directory_path = '../datas/json_recipes'\n",
    "ingredients = []\n",
    "# ディレクトリ内のファイルを1つずつ読み込む\n",
    "for filename in os.listdir(directory_path):\n",
    "    file_path = os.path.join(directory_path, filename)\n",
    "    with open(file_path, 'r', encoding='utf-8') as file:\n",
    "        data = json.load(file)\n",
    "        if not \"recipes_results\" in data:\n",
    "            continue\n",
    "        \n",
    "        for recipe in data[\"recipes_results\"]:\n",
    "            if not \"ingredients\" in recipe:\n",
    "                continue\n",
    "            \n",
    "            if len(recipe['ingredients']) == 0:\n",
    "                continue\n",
    "            ingredients.append(\" \".join(recipe['ingredients']))"
   ]
  },
  {
   "cell_type": "code",
   "execution_count": 134,
   "metadata": {},
   "outputs": [],
   "source": [
    "# レシピ材料のデータを保存\n",
    "tokenize_save(\"ingredients1\", ingredients)"
   ]
  },
  {
   "cell_type": "code",
   "execution_count": null,
   "metadata": {},
   "outputs": [],
   "source": []
  }
 ],
 "metadata": {
  "kernelspec": {
   "display_name": "recipe-qa-3.10",
   "language": "python",
   "name": "python3"
  },
  "language_info": {
   "codemirror_mode": {
    "name": "ipython",
    "version": 3
   },
   "file_extension": ".py",
   "mimetype": "text/x-python",
   "name": "python",
   "nbconvert_exporter": "python",
   "pygments_lexer": "ipython3",
   "version": "3.10.0"
  }
 },
 "nbformat": 4,
 "nbformat_minor": 2
}
