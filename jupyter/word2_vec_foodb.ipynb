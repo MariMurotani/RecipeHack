{
 "cells": [
  {
   "cell_type": "code",
   "execution_count": 369,
   "metadata": {},
   "outputs": [
    {
     "data": {
      "text/plain": [
       "True"
      ]
     },
     "execution_count": 369,
     "metadata": {},
     "output_type": "execute_result"
    }
   ],
   "source": [
    "import pandas as pd\n",
    "import numpy as np\n",
    "import mysql.connector\n",
    "from openai import OpenAI\n",
    "import os\n",
    "import re\n",
    "import json \n",
    "from dotenv import load_dotenv\n",
    "load_dotenv()"
   ]
  },
  {
   "cell_type": "code",
   "execution_count": 370,
   "metadata": {},
   "outputs": [],
   "source": [
    "# ChatGPTを使うのでAPIキーを設定\n",
    "OPENAI_API_KEY = os.getenv(\"OPENAI_API_KEY\")\n",
    "gpt_client = OpenAI(\n",
    "    api_key=OPENAI_API_KEY\n",
    ")"
   ]
  },
  {
   "cell_type": "code",
   "execution_count": 371,
   "metadata": {},
   "outputs": [],
   "source": [
    "# ChatGPTを使って意味のある文章を生成する\n",
    "def get_gpt_result(prompt):\n",
    "    response = gpt_client.chat.completions.create(\n",
    "        model=\"gpt-3.5-turbo\",\n",
    "        messages=[{\"role\": \"user\", \"content\": prompt}]\n",
    "    )\n",
    "    return response.choices[0].message.content.strip()\n"
   ]
  },
  {
   "cell_type": "code",
   "execution_count": 372,
   "metadata": {},
   "outputs": [],
   "source": [
    "# DB接続処理\n",
    "# MySQLに接続\n",
    "connection = mysql.connector.connect(\n",
    "    host=\"localhost\",\n",
    "    user=\"root\",\n",
    "    password=\"password\",\n",
    "    database=\"foodb\"\n",
    ")"
   ]
  },
  {
   "cell_type": "code",
   "execution_count": 377,
   "metadata": {},
   "outputs": [],
   "source": [
    "# トークン化して保存する\n",
    "def tokenize_save(key_name, sentences):\n",
    "    # NumPyの配列に変換\n",
    "    tokens = []\n",
    "    for sentence in sentences:\n",
    "        if sentence is None:\n",
    "            continue\n",
    "        # 小文字化し、特殊文字や句読点を削除してトークン化\n",
    "        words = re.findall(r'\\b[a-zA-Z0-9_]+\\b', sentence.lower())\n",
    "        tokens.append(words)\n",
    "        \n",
    "    np_sentences = np.array(tokens, dtype=object)\n",
    "\n",
    "    # NumPyの配列をdumpして保存\n",
    "    np.save(f\"../datas/word2_vec/{key_name}.npy\", np_sentences)\n",
    "    with open(f\"../datas/word2_vec/{key_name}.txt\", 'w') as f:\n",
    "        json.dump(tokens, f)"
   ]
  },
  {
   "cell_type": "markdown",
   "metadata": {},
   "source": [
    "##### 食品グループ"
   ]
  },
  {
   "cell_type": "code",
   "execution_count": 378,
   "metadata": {},
   "outputs": [],
   "source": [
    "# テキストフォーマットの指定\n",
    "def format_text(text):\n",
    "    text = text.replace('-', ' ')\n",
    "    text = text.replace(' ', '_')\n",
    "    text = text.replace('\\n', '')\n",
    "    text = text.lower()\n",
    "    return text"
   ]
  },
  {
   "cell_type": "code",
   "execution_count": 384,
   "metadata": {},
   "outputs": [
    {
     "name": "stdout",
     "output_type": "stream",
     "text": [
      "tropical_fruits\n",
      "['herbs_and_spices include herbs', 'vegetables include cabbages', 'fruits include tropical_fruits', 'vegetables include onion_family_vegetables', 'nuts include nuts', 'herbs_and_spices include spices', 'vegetables include root_vegetables', 'vegetables include shoot_vegetables', 'cereals_and_cereal_products include cereals', 'vegetables include leaf_vegetables', 'herbs_and_spices include oilseed_crops', 'pulses include peas', 'teas include teas', 'vegetables include fruit_vegetables', 'gourds include gourds', 'fruits include citrus', 'coffee_and_coffee_products include coffee', 'fruits include pomes', 'fruits include berries', 'fruits include other_fruits', 'soy include soy', 'vegetables include tubers', 'pulses include lentils', 'pulses include other_pulses', 'pulses include beans', 'fruits include drupes', 'vegetables include stalk_vegetables', 'cocoa_and_cocoa_products include cocoa', 'beverages include fermented_beverages', 'cereals_and_cereal_products include other_breads', 'cereals_and_cereal_products include cereal_products', 'soy include soy_products', 'cereals_and_cereal_products include doughs', 'beverages include distilled_beverages', 'beverages include fortified_wines', 'beverages include alcoholic_beverages', 'aquatic_foods include mollusks', 'aquatic_foods include seaweed', 'aquatic_foods include crustaceans', 'aquatic_foods include fishes', 'aquatic_foods include cetaceans', 'animal_foods include bovines', 'animal_foods include swine', 'herbs_and_spices include other_seeds', 'vegetables include other_vegetables', 'animal_foods include poultry', 'animal_foods include venison', 'animal_foods include equines', 'aquatic_foods include other_aquatic_foods', 'aquatic_foods include pinnipeds', 'animal_foods include lagomorphs', 'animal_foods include ovis', 'animal_foods include caprae', 'vegetables include mushrooms', 'aquatic_foods include amphibians', 'milk_and_milk_products include fermented_milk_products', 'milk_and_milk_products include unfermented_milks', 'eggs include eggs', 'confectioneries include frozen_desserts', 'confectioneries include other_confectioneries', 'confectioneries include candies', 'baking_goods include seasonings', 'confectioneries include desserts', 'dishes include other_dishes', 'snack_foods include snack_foods', 'cereals_and_cereal_products include flat_breads', 'baking_goods include dressings', 'baking_goods include sauces', 'milk_and_milk_products include other_milk_products', 'baking_goods include substitutes', 'baking_goods include sugars', 'dishes include ground_meat', 'baking_goods include condiments', 'baking_goods include baking_goods', 'fruits include fruit_products', 'beverages include waters', 'aquatic_foods include fish_products', 'beverages include other_beverages', 'baby_foods include baby_foods', 'vegetables include vegetable_products', 'unclassified include unclassified', 'fats_and_oils include animal_fats', 'confectioneries include spreads', 'herbs_and_spices include herb_and_spice_mixtures', 'cocoa_and_cocoa_products include cocoa_products', 'milk_and_milk_products include fermented_milks', 'cereals_and_cereal_products include leavened_breads', 'aquatic_foods include roe', 'beverages include nutritional_beverages', 'dishes include tex_mex_cuisine', 'dishes include sandwiches', 'confectioneries include milk_desserts', 'dishes include asian_cuisine', 'teas include herbal_teas', 'dishes include pasta_dishes', 'dishes include berber_cuisine', 'coffee_and_coffee_products include coffee_products', 'dishes include mexican_cuisine', 'dishes include potato_dishes', 'dishes include american_cuisine', 'baking_goods include wrappers', 'fats_and_oils include vegetable_fats', 'dishes include latin_american_cuisine', 'cereals_and_cereal_products include bread_products', 'cereals_and_cereal_products include sweet_breads', 'dishes include jewish_cuisine', 'dishes include levantine_cuisine', 'vegetables include brassicas', 'cereals_and_cereal_products include cereals_and_cereal_products', 'cocoa_and_cocoa_products include cocoa_and_cocoa_products', 'coffee_and_coffee_products include coffee_and_coffee_products', 'milk_and_milk_products include milk_and_milk_products', 'fats_and_oils include fats_and_oils', 'herbs_and_spices include herbs_and_spices', 'pulses include pulses', 'beverages include beverages', 'fruits include fruits', 'vegetables include green_vegetables', 'vegetables include ', 'aquatic_foods include bivalvia']\n"
     ]
    }
   ],
   "source": [
    "# 食品グループとサブグループの取得\n",
    "cursor = connection.cursor(dictionary=True)\n",
    "food_groups = []\n",
    "query = \"select food_group, food_subgroup from foods where food_group is not null group by food_group, food_subgroup\"\n",
    "cursor.execute(query)\n",
    "\n",
    "# 1行ずつ結果を取得\n",
    "for row in cursor.fetchall():\n",
    "    if row[\"food_subgroup\"] == \"Tropical fruits\":\n",
    "        print(format_text(row[\"food_subgroup\"]))\n",
    "\n",
    "    row[\"food_group\"] = format_text(row[\"food_group\"])\n",
    "    row[\"food_subgroup\"] = format_text(row[\"food_subgroup\"])\n",
    "    sentences = f\"{row['food_group']} include {row['food_subgroup']}\"\n",
    "    food_groups.append(sentences)\n",
    "    \n",
    "    prompt = f\"Generate a sentence that explains the relationship between {row['food_group']} and {row['food_subgroup']}. For example: '{row['food_group']} include {row['food_subgroup']} and are commonly used in various dishes for flavor.'\"\n",
    "    gpt_scentense = get_gpt_result(prompt)\n",
    "    food_groups.append(gpt_scentense)"
   ]
  },
  {
   "cell_type": "code",
   "execution_count": 365,
   "metadata": {},
   "outputs": [],
   "source": [
    "# 食品グループのデータを保存\n",
    "tokenize_save(\"food_groups\", food_groups)"
   ]
  },
  {
   "cell_type": "markdown",
   "metadata": {},
   "source": [
    "#### 食品データを保存"
   ]
  },
  {
   "cell_type": "code",
   "execution_count": 366,
   "metadata": {},
   "outputs": [
    {
     "ename": "KeyboardInterrupt",
     "evalue": "",
     "output_type": "error",
     "traceback": [
      "\u001b[0;31m---------------------------------------------------------------------------\u001b[0m",
      "\u001b[0;31mKeyboardInterrupt\u001b[0m                         Traceback (most recent call last)",
      "Cell \u001b[0;32mIn[366], line 32\u001b[0m\n\u001b[1;32m     30\u001b[0m query2 \u001b[38;5;241m=\u001b[39m \u001b[38;5;124mf\u001b[39m\u001b[38;5;124m\"\u001b[39m\u001b[38;5;124mSELECT LOWER(orig_food_common_name) as orig_food_common_name FROM contents WHERE food_id = \u001b[39m\u001b[38;5;132;01m{\u001b[39;00mitem[\u001b[38;5;124m'\u001b[39m\u001b[38;5;124mid\u001b[39m\u001b[38;5;124m'\u001b[39m]\u001b[38;5;132;01m}\u001b[39;00m\u001b[38;5;124m and orig_food_common_name !=\u001b[39m\u001b[38;5;124m'\u001b[39m\u001b[38;5;124mNone\u001b[39m\u001b[38;5;124m'\u001b[39m\u001b[38;5;124m GROUP BY orig_food_common_name\u001b[39m\u001b[38;5;124m\"\u001b[39m\n\u001b[1;32m     31\u001b[0m \u001b[38;5;28;01mtry\u001b[39;00m:\n\u001b[0;32m---> 32\u001b[0m     \u001b[43mcursor2\u001b[49m\u001b[38;5;241;43m.\u001b[39;49m\u001b[43mexecute\u001b[49m\u001b[43m(\u001b[49m\u001b[43mquery2\u001b[49m\u001b[43m)\u001b[49m\n\u001b[1;32m     33\u001b[0m \u001b[38;5;28;01mexcept\u001b[39;00m \u001b[38;5;167;01mException\u001b[39;00m \u001b[38;5;28;01mas\u001b[39;00m e:\n\u001b[1;32m     34\u001b[0m     \u001b[38;5;28mprint\u001b[39m(\u001b[38;5;124m\"\u001b[39m\u001b[38;5;124mError:\u001b[39m\u001b[38;5;124m\"\u001b[39m, e)\n",
      "File \u001b[0;32m~/.pyenv/versions/3.10.0/envs/recipe-qa-3.10/lib/python3.10/site-packages/mysql/connector/cursor_cext.py:357\u001b[0m, in \u001b[0;36mCMySQLCursor.execute\u001b[0;34m(self, operation, params, multi)\u001b[0m\n\u001b[1;32m    352\u001b[0m             \u001b[38;5;28;01mraise\u001b[39;00m ProgrammingError(\n\u001b[1;32m    353\u001b[0m                 \u001b[38;5;124m\"\u001b[39m\u001b[38;5;124mNot all parameters were used in the SQL statement\u001b[39m\u001b[38;5;124m\"\u001b[39m\n\u001b[1;32m    354\u001b[0m             )\n\u001b[1;32m    356\u001b[0m \u001b[38;5;28;01mtry\u001b[39;00m:\n\u001b[0;32m--> 357\u001b[0m     result \u001b[38;5;241m=\u001b[39m \u001b[38;5;28;43mself\u001b[39;49m\u001b[38;5;241;43m.\u001b[39;49m\u001b[43m_connection\u001b[49m\u001b[38;5;241;43m.\u001b[39;49m\u001b[43mcmd_query\u001b[49m\u001b[43m(\u001b[49m\n\u001b[1;32m    358\u001b[0m \u001b[43m        \u001b[49m\u001b[43mstmt\u001b[49m\u001b[43m,\u001b[49m\n\u001b[1;32m    359\u001b[0m \u001b[43m        \u001b[49m\u001b[43mraw\u001b[49m\u001b[38;5;241;43m=\u001b[39;49m\u001b[38;5;28;43mself\u001b[39;49m\u001b[38;5;241;43m.\u001b[39;49m\u001b[43m_raw\u001b[49m\u001b[43m,\u001b[49m\n\u001b[1;32m    360\u001b[0m \u001b[43m        \u001b[49m\u001b[43mbuffered\u001b[49m\u001b[38;5;241;43m=\u001b[39;49m\u001b[38;5;28;43mself\u001b[39;49m\u001b[38;5;241;43m.\u001b[39;49m\u001b[43m_buffered\u001b[49m\u001b[43m,\u001b[49m\n\u001b[1;32m    361\u001b[0m \u001b[43m        \u001b[49m\u001b[43mraw_as_string\u001b[49m\u001b[38;5;241;43m=\u001b[39;49m\u001b[38;5;28;43mself\u001b[39;49m\u001b[38;5;241;43m.\u001b[39;49m\u001b[43m_raw_as_string\u001b[49m\u001b[43m,\u001b[49m\n\u001b[1;32m    362\u001b[0m \u001b[43m    \u001b[49m\u001b[43m)\u001b[49m\n\u001b[1;32m    363\u001b[0m \u001b[38;5;28;01mexcept\u001b[39;00m MySQLInterfaceError \u001b[38;5;28;01mas\u001b[39;00m err:\n\u001b[1;32m    364\u001b[0m     \u001b[38;5;28;01mraise\u001b[39;00m get_mysql_exception(\n\u001b[1;32m    365\u001b[0m         msg\u001b[38;5;241m=\u001b[39merr\u001b[38;5;241m.\u001b[39mmsg, errno\u001b[38;5;241m=\u001b[39merr\u001b[38;5;241m.\u001b[39merrno, sqlstate\u001b[38;5;241m=\u001b[39merr\u001b[38;5;241m.\u001b[39msqlstate\n\u001b[1;32m    366\u001b[0m     ) \u001b[38;5;28;01mfrom\u001b[39;00m \u001b[38;5;21;01merr\u001b[39;00m\n",
      "File \u001b[0;32m~/.pyenv/versions/3.10.0/envs/recipe-qa-3.10/lib/python3.10/site-packages/mysql/connector/opentelemetry/context_propagation.py:97\u001b[0m, in \u001b[0;36mwith_context_propagation.<locals>.wrapper\u001b[0;34m(cnx, *args, **kwargs)\u001b[0m\n\u001b[1;32m     95\u001b[0m \u001b[38;5;66;03m# pylint: disable=possibly-used-before-assignment\u001b[39;00m\n\u001b[1;32m     96\u001b[0m \u001b[38;5;28;01mif\u001b[39;00m \u001b[38;5;129;01mnot\u001b[39;00m OTEL_ENABLED \u001b[38;5;129;01mor\u001b[39;00m \u001b[38;5;129;01mnot\u001b[39;00m cnx\u001b[38;5;241m.\u001b[39motel_context_propagation:\n\u001b[0;32m---> 97\u001b[0m     \u001b[38;5;28;01mreturn\u001b[39;00m \u001b[43mmethod\u001b[49m\u001b[43m(\u001b[49m\u001b[43mcnx\u001b[49m\u001b[43m,\u001b[49m\u001b[43m \u001b[49m\u001b[38;5;241;43m*\u001b[39;49m\u001b[43margs\u001b[49m\u001b[43m,\u001b[49m\u001b[43m \u001b[49m\u001b[38;5;241;43m*\u001b[39;49m\u001b[38;5;241;43m*\u001b[39;49m\u001b[43mkwargs\u001b[49m\u001b[43m)\u001b[49m\n\u001b[1;32m     99\u001b[0m current_span \u001b[38;5;241m=\u001b[39m trace\u001b[38;5;241m.\u001b[39mget_current_span()\n\u001b[1;32m    100\u001b[0m tp_header \u001b[38;5;241m=\u001b[39m \u001b[38;5;28;01mNone\u001b[39;00m\n",
      "File \u001b[0;32m~/.pyenv/versions/3.10.0/envs/recipe-qa-3.10/lib/python3.10/site-packages/mysql/connector/connection_cext.py:706\u001b[0m, in \u001b[0;36mCMySQLConnection.cmd_query\u001b[0;34m(self, query, raw, buffered, raw_as_string)\u001b[0m\n\u001b[1;32m    704\u001b[0m     \u001b[38;5;28;01mif\u001b[39;00m \u001b[38;5;129;01mnot\u001b[39;00m \u001b[38;5;28misinstance\u001b[39m(query, \u001b[38;5;28mbytes\u001b[39m):\n\u001b[1;32m    705\u001b[0m         query \u001b[38;5;241m=\u001b[39m query\u001b[38;5;241m.\u001b[39mencode(\u001b[38;5;124m\"\u001b[39m\u001b[38;5;124mutf-8\u001b[39m\u001b[38;5;124m\"\u001b[39m)\n\u001b[0;32m--> 706\u001b[0m     \u001b[38;5;28;43mself\u001b[39;49m\u001b[38;5;241;43m.\u001b[39;49m\u001b[43m_cmysql\u001b[49m\u001b[38;5;241;43m.\u001b[39;49m\u001b[43mquery\u001b[49m\u001b[43m(\u001b[49m\n\u001b[1;32m    707\u001b[0m \u001b[43m        \u001b[49m\u001b[43mquery\u001b[49m\u001b[43m,\u001b[49m\n\u001b[1;32m    708\u001b[0m \u001b[43m        \u001b[49m\u001b[43mraw\u001b[49m\u001b[38;5;241;43m=\u001b[39;49m\u001b[43mraw\u001b[49m\u001b[43m,\u001b[49m\n\u001b[1;32m    709\u001b[0m \u001b[43m        \u001b[49m\u001b[43mbuffered\u001b[49m\u001b[38;5;241;43m=\u001b[39;49m\u001b[43mbuffered\u001b[49m\u001b[43m,\u001b[49m\n\u001b[1;32m    710\u001b[0m \u001b[43m        \u001b[49m\u001b[43mraw_as_string\u001b[49m\u001b[38;5;241;43m=\u001b[39;49m\u001b[43mraw_as_string\u001b[49m\u001b[43m,\u001b[49m\n\u001b[1;32m    711\u001b[0m \u001b[43m        \u001b[49m\u001b[43mquery_attrs\u001b[49m\u001b[38;5;241;43m=\u001b[39;49m\u001b[38;5;28;43mself\u001b[39;49m\u001b[38;5;241;43m.\u001b[39;49m\u001b[43mquery_attrs\u001b[49m\u001b[43m,\u001b[49m\n\u001b[1;32m    712\u001b[0m \u001b[43m    \u001b[49m\u001b[43m)\u001b[49m\n\u001b[1;32m    713\u001b[0m \u001b[38;5;28;01mexcept\u001b[39;00m MySQLInterfaceError \u001b[38;5;28;01mas\u001b[39;00m err:\n\u001b[1;32m    714\u001b[0m     \u001b[38;5;28;01mraise\u001b[39;00m get_mysql_exception(\n\u001b[1;32m    715\u001b[0m         err\u001b[38;5;241m.\u001b[39merrno, msg\u001b[38;5;241m=\u001b[39merr\u001b[38;5;241m.\u001b[39mmsg, sqlstate\u001b[38;5;241m=\u001b[39merr\u001b[38;5;241m.\u001b[39msqlstate\n\u001b[1;32m    716\u001b[0m     ) \u001b[38;5;28;01mfrom\u001b[39;00m \u001b[38;5;21;01merr\u001b[39;00m\n",
      "\u001b[0;31mKeyboardInterrupt\u001b[0m: "
     ]
    }
   ],
   "source": [
    "# 食品データを保存\n",
    "cursor = connection.cursor(dictionary=True)\n",
    "cursor2 = connection.cursor(dictionary=True)\n",
    "foods = []\n",
    "query = \"\"\"\n",
    "select id, name as name, name_scientific, food_group, \n",
    "food_subgroup, food_type, category, description from foods\n",
    "\"\"\"\n",
    "cursor.execute(query)\n",
    "\n",
    "# 1行ずつ結果を取得\n",
    "all_items = cursor.fetchall()\n",
    "for item in all_items:\n",
    "    item['name'] = format_text(item['name'])\n",
    "    item['name_scientific'] = format_text(item['name_scientific'])\n",
    "    item['category'] = format_text(item['category'])\n",
    "    item['food_group'] = format_text(item['food_group'])\n",
    "    item['food_subgroup'] = format_text(item['food_subgroup'])\n",
    "    item['food_type'] = format_text(item['food_type'])\n",
    "    item['description'] = format_text(item['description'])\n",
    "    \n",
    "    sentence_text = [\n",
    "        f\"{item['name']} or {item['name_scientific']} are a type of {item['category']}.\",\n",
    "        f\"{item['food_group']} is under the subgroup of {item['food_subgroup']}. \",\n",
    "        f\"It is commonly used in {item['food_type']} applications. \",\n",
    "        f\"Description: {item['description']}\",\n",
    "    ]\n",
    "    \n",
    "    # サブタイプを取得\n",
    "    query2 = f\"SELECT LOWER(orig_food_common_name) as orig_food_common_name FROM contents WHERE food_id = {item['id']} and orig_food_common_name !='None' GROUP BY orig_food_common_name\"\n",
    "    try:\n",
    "        cursor2.execute(query2)\n",
    "    except Exception as e:\n",
    "        print(\"Error:\", e)\n",
    "        pass\n",
    "        continue\n",
    "\n",
    "    for item2 in cursor2.fetchall():\n",
    "        name = re.sub(r'\\s*\\(.*?\\)', '', item2['orig_food_common_name'])\n",
    "        name = name.replace('\"', '').replace(\"'\", '').replace('’', '').replace('(','').replace(')','')\n",
    "        sentence_text.append(f\"{item['name']} has subtypes like {name}.\") \n",
    "    \n",
    "    # GPT-3.5で追加の説明文を生成\n",
    "    prompt = f\"Can you tell me how the ingredient '{item['name']}' is generally used in cooking? If there are any interesting or unique uses, please provide examples.\"\n",
    "    gpt_sentence = get_gpt_result(prompt)\n",
    "    sentence_text.append(gpt_sentence)\n",
    "    foods.extend(sentence_text)"
   ]
  },
  {
   "cell_type": "code",
   "execution_count": 312,
   "metadata": {},
   "outputs": [],
   "source": [
    "# 食品グループのデータを保存\n",
    "tokenize_save(\"foods\", foods)"
   ]
  },
  {
   "cell_type": "markdown",
   "metadata": {},
   "source": [
    "#### 香りのデータを保存"
   ]
  },
  {
   "cell_type": "code",
   "execution_count": 313,
   "metadata": {},
   "outputs": [],
   "source": [
    "# 食品データを保存\n",
    "cursor = connection.cursor(dictionary=True)\n",
    "flavors = []\n",
    "query = \"select food_id, orig_food_common_name from contents group by food_id, orig_food_common_name\"\n",
    "cursor.execute(query)\n",
    "\n",
    "# 1行ずつ結果を取得\n",
    "all_items = cursor.fetchall()\n",
    "for item in all_items:\n",
    "    if item[\"orig_food_common_name\"] is None:\n",
    "        continue\n",
    "    \n",
    "    text = item[\"orig_food_common_name\"].strip(\" \\\\\")\n",
    "    text = text.replace('\"', '\\\\\"')\n",
    "    query2 = f\"\"\"\n",
    "    SELECT flavors.name\n",
    "    FROM\n",
    "    foods INNER JOIN contents ON foods.id = contents.food_id\n",
    "    INNER JOIN compounds ON contents.source_id = compounds.id\n",
    "    LEFT JOIN compounds_flavors on compounds.id = compounds_flavors.compound_id\n",
    "    LEFT JOIN flavors on compounds_flavors.flavor_id = flavors.id\n",
    "    WHERE contents.citation_type ='DATABASE' AND contents.source_type = 'Compound' AND contents.standard_content > 0.0 AND contents.food_id={item[\"food_id\"]}\n",
    "    AND orig_food_common_name =\"{text}\" and flavors.name is not null\n",
    "    GROUP BY flavors.name\n",
    "    ORDER by MAX(contents.standard_content) limit 15\n",
    "    \"\"\"\n",
    "    sentences = []\n",
    "    cursor2 = connection.cursor(dictionary=True)\n",
    "    try:\n",
    "        cursor2.execute(query2)\n",
    "    except Exception as e:\n",
    "        print(\"Error:\", e)\n",
    "        print(query2)\n",
    "        pass\n",
    "        continue\n",
    "    \n",
    "    for item2 in cursor2.fetchall():\n",
    "        sentences.append(f\"{text} has a flavor of {item2['name']}.\")\n",
    "        \n",
    "    flavors.extend(sentences)"
   ]
  },
  {
   "cell_type": "code",
   "execution_count": 314,
   "metadata": {},
   "outputs": [],
   "source": [
    "# 食品グループのデータを保存\n",
    "tokenize_save(\"flavors\", flavors)"
   ]
  },
  {
   "cell_type": "markdown",
   "metadata": {},
   "source": [
    "### 一般レシピのデータを保存"
   ]
  },
  {
   "cell_type": "code",
   "execution_count": 315,
   "metadata": {},
   "outputs": [],
   "source": [
    "# ディレクトリパスを指定\n",
    "directory_path = '../datas/json_recipes'\n",
    "ingredients = []\n",
    "# ディレクトリ内のファイルを1つずつ読み込む\n",
    "for filename in os.listdir(directory_path):\n",
    "    file_path = os.path.join(directory_path, filename)\n",
    "    with open(file_path, 'r', encoding='utf-8') as file:\n",
    "        data = json.load(file)\n",
    "        if not \"recipes_results\" in data:\n",
    "            continue\n",
    "        \n",
    "        for recipe in data[\"recipes_results\"]:\n",
    "            if not \"ingredients\" in recipe:\n",
    "                continue\n",
    "            \n",
    "            if len(recipe['ingredients']) == 0:\n",
    "                continue\n",
    "            ingredients.append(\" \".join(recipe['ingredients']))"
   ]
  },
  {
   "cell_type": "code",
   "execution_count": 316,
   "metadata": {},
   "outputs": [],
   "source": [
    "# レシピ材料のデータを保存\n",
    "tokenize_save(\"ingredients1\", ingredients)"
   ]
  }
 ],
 "metadata": {
  "kernelspec": {
   "display_name": "recipe-qa-3.10",
   "language": "python",
   "name": "python3"
  },
  "language_info": {
   "codemirror_mode": {
    "name": "ipython",
    "version": 3
   },
   "file_extension": ".py",
   "mimetype": "text/x-python",
   "name": "python",
   "nbconvert_exporter": "python",
   "pygments_lexer": "ipython3",
   "version": "3.10.0"
  }
 },
 "nbformat": 4,
 "nbformat_minor": 2
}
