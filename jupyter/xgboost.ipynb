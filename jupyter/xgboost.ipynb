{
 "cells": [
  {
   "cell_type": "code",
   "execution_count": 3,
   "metadata": {},
   "outputs": [],
   "source": [
    "from neo4j import GraphDatabase\n",
    "import pandas as pd\n",
    "import warnings\n",
    "from neo4j import GraphDatabase\n",
    "from dotenv import load_dotenv\n",
    "load_dotenv()\n",
    "import xgboost as xgb\n",
    "from sklearn.model_selection import train_test_split\n",
    "import xgboost as xgb\n",
    "from sklearn.model_selection import train_test_split\n",
    "from sklearn.metrics import accuracy_score\n",
    "from sklearn.preprocessing import MinMaxScaler\n",
    "from sklearn.metrics import confusion_matrix, ConfusionMatrixDisplay\n",
    "import matplotlib.pyplot as plt\n",
    "import xgboost as xgb\n",
    "import pickle\n",
    "\n",
    "# NumPy関連のRuntimeWarningを無効化\n",
    "warnings.filterwarnings(\"ignore\", category=RuntimeWarning)"
   ]
  },
  {
   "cell_type": "code",
   "execution_count": 4,
   "metadata": {},
   "outputs": [],
   "source": [
    "# DB接続処理\n",
    "# Neo4jに接続\n",
    "uri = \"bolt://localhost:7687\"\n",
    "user = \"neo4j\"\n",
    "password = \"abcd7890\"\n",
    "\n",
    "# ドライバを作成\n",
    "driver = GraphDatabase.driver(uri, auth=(user, password))"
   ]
  },
  {
   "cell_type": "code",
   "execution_count": 5,
   "metadata": {},
   "outputs": [
    {
     "name": "stderr",
     "output_type": "stream",
     "text": [
      "/var/folders/g4/fbyxhbrx6h3_4s4m15x3bly00000gn/T/ipykernel_14168/2959601635.py:71: DeprecationWarning: write_transaction has been renamed to execute_write\n",
      "  session.write_transaction(drop_projection_graph)\n",
      "Received notification from DBMS server: {severity: WARNING} {code: Neo.ClientNotification.Statement.FeatureDeprecationWarning} {category: DEPRECATION} {title: This feature is deprecated and will be removed in future versions.} {description: The query used a deprecated field from a procedure. ('schema' returned by 'gds.graph.drop' is deprecated.)} {position: line: 2, column: 5, offset: 5} for query: \"\\n    CALL gds.graph.drop('PageRank')\\n    \"\n",
      "/var/folders/g4/fbyxhbrx6h3_4s4m15x3bly00000gn/T/ipykernel_14168/2959601635.py:72: DeprecationWarning: write_transaction has been renamed to execute_write\n",
      "  session.write_transaction(create_projection_graph)\n",
      "Received notification from DBMS server: {severity: WARNING} {code: Neo.ClientNotification.Statement.FeatureDeprecationWarning} {category: DEPRECATION} {title: This feature is deprecated and will be removed in future versions.} {description: The query used a deprecated procedure. ('gds.graph.project.cypher' has been replaced by 'gds.graph.project Cypher projection as an aggregation function')} {position: line: 2, column: 5, offset: 5} for query: \"\\n    CALL gds.graph.project.cypher(\\n      'PageRank',\\n      'MATCH (n) \\n      WHERE n:Food OR n:Aroma\\n      RETURN id(n) AS id, labels(n) AS labels',\\n      'MATCH (n)-[r:SCENTED]-(m) \\n      RETURN id(n) AS source, id(m) AS target, type(r) AS type',\\n      { validateRelationships: false }\\n    )\\n    \"\n",
      "/var/folders/g4/fbyxhbrx6h3_4s4m15x3bly00000gn/T/ipykernel_14168/2959601635.py:73: DeprecationWarning: write_transaction has been renamed to execute_write\n",
      "  session.write_transaction(write_popularity)\n",
      "Received notification from DBMS server: {severity: WARNING} {code: Neo.ClientNotification.Statement.AggregationSkippedNull} {category: UNRECOGNIZED} {title: The query contains an aggregation function that skips null values.} {description: null value eliminated in set function.} {position: None} for query: '\\n        MATCH (f:Food)\\n        OPTIONAL MATCH (f)-[r:USED_TOGETHER]->(f2:Food)\\n        WITH f, COUNT(r) AS popularity\\n        SET f.popularity = popularity\\n    '\n",
      "/var/folders/g4/fbyxhbrx6h3_4s4m15x3bly00000gn/T/ipykernel_14168/2959601635.py:74: DeprecationWarning: write_transaction has been renamed to execute_write\n",
      "  session.write_transaction(write_frequency)\n",
      "Received notification from DBMS server: {severity: WARNING} {code: Neo.ClientNotification.Statement.FeatureDeprecationWarning} {category: DEPRECATION} {title: This feature is deprecated and will be removed in future versions.} {description: The query used a deprecated function: `id`.} {position: line: 3, column: 15, offset: 68} for query: '\\n        MATCH (f1:Food)-[r:USED_TOGETHER]->(f2:Food)\\n        WHERE id(f1) <> id(f2)\\n        WITH f1, f2, COUNT(r) AS frequency\\n        SET f1.frequency = frequency\\n    '\n",
      "Received notification from DBMS server: {severity: WARNING} {code: Neo.ClientNotification.Statement.FeatureDeprecationWarning} {category: DEPRECATION} {title: This feature is deprecated and will be removed in future versions.} {description: The query used a deprecated function: `id`.} {position: line: 3, column: 25, offset: 78} for query: '\\n        MATCH (f1:Food)-[r:USED_TOGETHER]->(f2:Food)\\n        WHERE id(f1) <> id(f2)\\n        WITH f1, f2, COUNT(r) AS frequency\\n        SET f1.frequency = frequency\\n    '\n",
      "/var/folders/g4/fbyxhbrx6h3_4s4m15x3bly00000gn/T/ipykernel_14168/2959601635.py:75: DeprecationWarning: write_transaction has been renamed to execute_write\n",
      "  session.write_transaction(write_page_rank)\n",
      "Received notification from DBMS server: {severity: WARNING} {code: Neo.ClientNotification.Statement.FeatureDeprecationWarning} {category: DEPRECATION} {title: This feature is deprecated and will be removed in future versions.} {description: The query used a deprecated function: `id`.} {position: line: 4, column: 25, offset: 98} for query: \"\\n        CALL gds.pageRank.stream('PageRank')\\n        YIELD nodeId, score\\n        MATCH (n) WHERE id(n) = nodeId\\n        SET n.pagerank = score\\n        RETURN n.name, n.pagerank\\n        ORDER BY score DESC;\\n    \"\n",
      "/var/folders/g4/fbyxhbrx6h3_4s4m15x3bly00000gn/T/ipykernel_14168/2959601635.py:76: DeprecationWarning: write_transaction has been renamed to execute_write\n",
      "  session.write_transaction(write_shared_aromas)\n",
      "Received notification from DBMS server: {severity: WARNING} {code: Neo.ClientNotification.Statement.FeatureDeprecationWarning} {category: DEPRECATION} {title: This feature is deprecated and will be removed in future versions.} {description: The query used a deprecated function: `id`.} {position: line: 3, column: 15, offset: 83} for query: '\\n        MATCH (f1:Food)-[:SCENTED]->(a:Aroma)<-[:SCENTED]-(f2:Food)\\n        WHERE id(f1) <> id(f2)\\n        WITH f1, f2, COUNT(a) AS shared_aromas\\n        SET f1.shared_aromas = shared_aromas\\n    '\n",
      "Received notification from DBMS server: {severity: WARNING} {code: Neo.ClientNotification.Statement.FeatureDeprecationWarning} {category: DEPRECATION} {title: This feature is deprecated and will be removed in future versions.} {description: The query used a deprecated function: `id`.} {position: line: 3, column: 25, offset: 93} for query: '\\n        MATCH (f1:Food)-[:SCENTED]->(a:Aroma)<-[:SCENTED]-(f2:Food)\\n        WHERE id(f1) <> id(f2)\\n        WITH f1, f2, COUNT(a) AS shared_aromas\\n        SET f1.shared_aromas = shared_aromas\\n    '\n",
      "/var/folders/g4/fbyxhbrx6h3_4s4m15x3bly00000gn/T/ipykernel_14168/2959601635.py:77: DeprecationWarning: write_transaction has been renamed to execute_write\n",
      "  session.write_transaction(write_page_rank_diff)\n",
      "Received notification from DBMS server: {severity: WARNING} {code: Neo.ClientNotification.Statement.FeatureDeprecationWarning} {category: DEPRECATION} {title: This feature is deprecated and will be removed in future versions.} {description: The query used a deprecated function: `id`.} {position: line: 3, column: 15, offset: 83} for query: '\\n        MATCH (f1:Food)-[:SCENTED]->(a:Aroma)<-[:SCENTED]-(f2:Food)\\n        WHERE id(f1) <> id(f2)\\n        WITH f1, f2, abs(f1.pagerank - f2.pagerank) AS pagerank_diff\\n        SET f1.pagerank_diff = pagerank_diff\\n    '\n",
      "Received notification from DBMS server: {severity: WARNING} {code: Neo.ClientNotification.Statement.FeatureDeprecationWarning} {category: DEPRECATION} {title: This feature is deprecated and will be removed in future versions.} {description: The query used a deprecated function: `id`.} {position: line: 3, column: 25, offset: 93} for query: '\\n        MATCH (f1:Food)-[:SCENTED]->(a:Aroma)<-[:SCENTED]-(f2:Food)\\n        WHERE id(f1) <> id(f2)\\n        WITH f1, f2, abs(f1.pagerank - f2.pagerank) AS pagerank_diff\\n        SET f1.pagerank_diff = pagerank_diff\\n    '\n"
     ]
    }
   ],
   "source": [
    "# レシピのページランクやAromaのページランクを取得する\n",
    "# FIX THIS CODE\n",
    "def drop_projection_graph(tx):\n",
    "    query = \"\"\"\n",
    "    CALL gds.graph.drop('PageRank')\n",
    "    \"\"\"\n",
    "    tx.run(query)\n",
    "    \n",
    "def create_projection_graph(tx):\n",
    "    query = \"\"\"\n",
    "    CALL gds.graph.project.cypher(\n",
    "      'PageRank',\n",
    "      'MATCH (n) \n",
    "      WHERE n:Food OR n:Aroma\n",
    "      RETURN id(n) AS id, labels(n) AS labels',\n",
    "      'MATCH (n)-[r:SCENTED]-(m) \n",
    "      RETURN id(n) AS source, id(m) AS target, type(r) AS type',\n",
    "      { validateRelationships: false }\n",
    "    )\n",
    "    \"\"\"\n",
    "    tx.run(query)\n",
    "\n",
    "def write_page_rank(tx):\n",
    "    query = \"\"\"\n",
    "        CALL gds.pageRank.stream('PageRank')\n",
    "        YIELD nodeId, score\n",
    "        MATCH (n) WHERE id(n) = nodeId\n",
    "        SET n.pagerank = score\n",
    "        RETURN n.name, n.pagerank\n",
    "        ORDER BY score DESC;\n",
    "    \"\"\"\n",
    "    tx.run(query)\n",
    "\n",
    "def write_popularity(tx):\n",
    "    query = \"\"\"\n",
    "        MATCH (f:Food)\n",
    "        OPTIONAL MATCH (f)-[r:USED_TOGETHER]->(f2:Food)\n",
    "        WITH f, COUNT(r) AS popularity\n",
    "        SET f.popularity = popularity\n",
    "    \"\"\"\n",
    "    tx.run(query)\n",
    "    \n",
    "def write_frequency(tx): \n",
    "    query2 = \"\"\"\n",
    "        MATCH (f1:Food)-[r:USED_TOGETHER]->(f2:Food)\n",
    "        WHERE id(f1) <> id(f2)\n",
    "        WITH f1, f2, COUNT(r) AS frequency\n",
    "        SET f1.frequency = frequency\n",
    "    \"\"\"\n",
    "    tx.run(query2)\n",
    "    \n",
    "def write_shared_aromas(tx):\n",
    "    query1 = \"\"\"\n",
    "        MATCH (f1:Food)-[:SCENTED]->(a:Aroma)<-[:SCENTED]-(f2:Food)\n",
    "        WHERE id(f1) <> id(f2)\n",
    "        WITH f1, f2, COUNT(a) AS shared_aromas\n",
    "        SET f1.shared_aromas = shared_aromas\n",
    "    \"\"\"\n",
    "    tx.run(query1)\n",
    "\n",
    "def write_page_rank_diff(tx):\n",
    "    query3 = \"\"\"\n",
    "        MATCH (f1:Food)-[:SCENTED]->(a:Aroma)<-[:SCENTED]-(f2:Food)\n",
    "        WHERE id(f1) <> id(f2)\n",
    "        WITH f1, f2, abs(f1.pagerank - f2.pagerank) AS pagerank_diff\n",
    "        SET f1.pagerank_diff = pagerank_diff\n",
    "    \"\"\"\n",
    "    tx.run(query3)\n",
    "\n",
    "with driver.session() as session:\n",
    "    session.write_transaction(drop_projection_graph)\n",
    "    session.write_transaction(create_projection_graph)\n",
    "    session.write_transaction(write_popularity)\n",
    "    session.write_transaction(write_frequency)\n",
    "    session.write_transaction(write_page_rank)\n",
    "    session.write_transaction(write_shared_aromas)\n",
    "    session.write_transaction(write_page_rank_diff)"
   ]
  },
  {
   "cell_type": "code",
   "execution_count": null,
   "metadata": {},
   "outputs": [
    {
     "name": "stderr",
     "output_type": "stream",
     "text": [
      "/var/folders/g4/fbyxhbrx6h3_4s4m15x3bly00000gn/T/ipykernel_14168/1025236395.py:16: DeprecationWarning: read_transaction has been renamed to execute_read\n",
      "  data = session.read_transaction(get_food_subtype_relationships)\n"
     ]
    }
   ],
   "source": [
    "def get_food_subtype_relationships(tx):\n",
    "    query4 = \"\"\"\n",
    "    MATCH (f1:Food)-[:SCENTED]->(a:Aroma)<-[:SCENTED]-(f2:Food)\n",
    "    WHERE id(f1) <> id(f2)\n",
    "    RETURN f1.name AS food1, f2.name AS food2, \n",
    "        f1.popularity AS popularity,\n",
    "        f1.frequency AS frequency, f1.shared_aromas AS shared_aromas, \n",
    "        f1.pagerank AS food1_pagerank, \n",
    "        f2.pagerank AS food2_pagerank, \n",
    "        f1.pagerank_diff AS pagerank_diff\n",
    "    ORDER BY frequency, shared_aromas DESC\n",
    "    \"\"\"\n",
    "    return list(tx.run(query4))\n",
    "\n",
    "with driver.session() as session:\n",
    "    data = session.read_transaction(get_food_subtype_relationships)\n"
   ]
  },
  {
   "cell_type": "code",
   "execution_count": 2,
   "metadata": {},
   "outputs": [
    {
     "ename": "NameError",
     "evalue": "name 'pd' is not defined",
     "output_type": "error",
     "traceback": [
      "\u001b[0;31m---------------------------------------------------------------------------\u001b[0m",
      "\u001b[0;31mNameError\u001b[0m                                 Traceback (most recent call last)",
      "Cell \u001b[0;32mIn[2], line 1\u001b[0m\n\u001b[0;32m----> 1\u001b[0m df \u001b[38;5;241m=\u001b[39m \u001b[43mpd\u001b[49m\u001b[38;5;241m.\u001b[39mDataFrame(data, columns\u001b[38;5;241m=\u001b[39m[\u001b[38;5;124m\"\u001b[39m\u001b[38;5;124mfood1\u001b[39m\u001b[38;5;124m\"\u001b[39m, \u001b[38;5;124m\"\u001b[39m\u001b[38;5;124mfood2\u001b[39m\u001b[38;5;124m\"\u001b[39m, \u001b[38;5;124m\"\u001b[39m\u001b[38;5;124mpopularity\u001b[39m\u001b[38;5;124m\"\u001b[39m, \u001b[38;5;124m\"\u001b[39m\u001b[38;5;124mfrequency\u001b[39m\u001b[38;5;124m\"\u001b[39m, \u001b[38;5;124m\"\u001b[39m\u001b[38;5;124mshared_aromas\u001b[39m\u001b[38;5;124m\"\u001b[39m, \u001b[38;5;124m\"\u001b[39m\u001b[38;5;124mfood1_pagerank\u001b[39m\u001b[38;5;124m\"\u001b[39m, \u001b[38;5;124m\"\u001b[39m\u001b[38;5;124mfood2_pagerank\u001b[39m\u001b[38;5;124m\"\u001b[39m, \u001b[38;5;124m\"\u001b[39m\u001b[38;5;124mpagerank_diff\u001b[39m\u001b[38;5;124m\"\u001b[39m])\n\u001b[1;32m      2\u001b[0m df\u001b[38;5;241m.\u001b[39mfillna(\u001b[38;5;241m0\u001b[39m, inplace\u001b[38;5;241m=\u001b[39m\u001b[38;5;28;01mTrue\u001b[39;00m)\n\u001b[1;32m      3\u001b[0m df\n",
      "\u001b[0;31mNameError\u001b[0m: name 'pd' is not defined"
     ]
    }
   ],
   "source": [
    "df = pd.DataFrame(data, columns=[\"food1\", \"food2\", \"popularity\", \"frequency\", \"shared_aromas\", \"food1_pagerank\", \"food2_pagerank\", \"pagerank_diff\"])\n",
    "df.fillna(0, inplace=True)\n",
    "df"
   ]
  },
  {
   "cell_type": "code",
   "execution_count": 58,
   "metadata": {},
   "outputs": [
    {
     "name": "stdout",
     "output_type": "stream",
     "text": [
      "Model Accuracy: 1.00\n",
      "Unusual Pairing? No\n"
     ]
    }
   ],
   "source": [
    "scaler = MinMaxScaler()\n",
    "X = scaler.fit_transform(df[[\"frequency\", \"shared_aromas\", \"food1_pagerank\", \"food2_pagerank\", \"pagerank_diff\"]])\n",
    "y = df[\"popularity\"].apply(lambda x: 1 if x > 0 else 0)  # Binarize the popularity\n",
    "\n",
    "# Split into train and test sets\n",
    "X_train, X_test, y_train, y_test = train_test_split(X, y, test_size=0.2, random_state=42)\n",
    "\n",
    "# Train XGBoost for classification\n",
    "model = xgb.XGBClassifier(objective=\"binary:logistic\", eval_metric=\"logloss\")\n",
    "model.fit(X_train, y_train)\n",
    "\n",
    "# Predict on test data\n",
    "y_pred = model.predict(X_test)\n",
    "\n",
    "# Evaluate accuracy\n",
    "accuracy = accuracy_score(y_test, y_pred)\n",
    "print(f\"Model Accuracy: {accuracy:.2f}\")\n",
    "\n",
    "new_pair = pd.DataFrame([[5, 0, 0, 0, 0]], columns=[\"frequency\", \"shared_aromas\", \"food1_pagerank\", \"food2_pagerank\", \"pagerank_diff\"])\n",
    "new_pair_scaled = scaler.transform(new_pair)\n",
    "\n",
    "prediction = model.predict(new_pair_scaled)\n",
    "print(\"Unusual Pairing?\" , \"Yes\" if prediction[0] == 1 else \"No\")"
   ]
  },
  {
   "cell_type": "code",
   "execution_count": 59,
   "metadata": {},
   "outputs": [
    {
     "data": {
      "image/png": "[encoded data removed]",
      "text/plain": [
       "<Figure size 600x500 with 2 Axes>"
      ]
     },
     "metadata": {},
     "output_type": "display_data"
    }
   ],
   "source": [
    "# Compute confusion matrix\n",
    "cm = confusion_matrix(y_test, y_pred)\n",
    "disp = ConfusionMatrixDisplay(confusion_matrix=cm, display_labels=[\"Unusual\", \"Common\"])\n",
    "\n",
    "# Plot confusion matrix\n",
    "fig, ax = plt.subplots(figsize=(6, 5))\n",
    "disp.plot(ax=ax, cmap=\"Blues\")\n",
    "plt.title(\"Confusion Matrix\")\n",
    "plt.show()"
   ]
  },
  {
   "cell_type": "code",
   "execution_count": 62,
   "metadata": {},
   "outputs": [],
   "source": [
    "# Save model\n",
    "with open(\"../data/unusual_paring_model.pkl\", \"wb\") as file:\n",
    "    pickle.dump(model, file)\n",
    "    \n",
    "model.save_model(\"../data/unusual_paring_model.json\")\n",
    "\n",
    "with open(\"../data/scaler.pkl\", \"wb\") as file:\n",
    "    pickle.dump(scaler, file)\n",
    "# Load model\n",
    "with open(\"../data/unusual_paring_model.pkl\", \"rb\") as file:\n",
    "    loaded_model = pickle.load(file)"
   ]
  },
  {
   "cell_type": "code",
   "execution_count": null,
   "metadata": {},
   "outputs": [],
   "source": []
  }
 ],
 "metadata": {
  "kernelspec": {
   "display_name": "recipe-qa-3.10",
   "language": "python",
   "name": "python3"
  },
  "language_info": {
   "codemirror_mode": {
    "name": "ipython",
    "version": 3
   },
   "file_extension": ".py",
   "mimetype": "text/x-python",
   "name": "python",
   "nbconvert_exporter": "python",
   "pygments_lexer": "ipython3",
   "version": "3.10.0"
  }
 },
 "nbformat": 4,
 "nbformat_minor": 2
}
